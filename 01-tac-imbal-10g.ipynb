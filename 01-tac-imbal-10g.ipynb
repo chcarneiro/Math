{
 "cells": [
  {
   "cell_type": "markdown",
   "metadata": {},
   "source": [
    "- Tachometer.\n",
    "- Imbalance.\n",
    "- 10g.\n",
    "- 13.9264.csv\n",
    "- Sample Rate: 51200\n",
    "\n",
    "- column 1 tachometer signal that allows to estimate rotation frequency;\n",
    "- columns 2 to 4 underhang bearing accelerometer (axial, radiale tangential direction);\n",
    "- columns 5 to 7 overhang bearing accelerometer (axial, radiale tangential direction);\n",
    "- column 8 microphone.\n"
   ]
  },
  {
   "cell_type": "code",
   "execution_count": null,
   "metadata": {},
   "outputs": [],
   "source": [
    "import numpy as np\n",
    "import pandas as pd\n",
    "import matplotlib.pyplot as plt"
   ]
  },
  {
   "cell_type": "markdown",
   "metadata": {},
   "source": [
    "- Instalar fsspec pelo terminal...\n",
    "\n",
    "se falhar: pip install --upgrade --force-reinstall fsspec\n"
   ]
  },
  {
   "cell_type": "code",
   "execution_count": null,
   "metadata": {},
   "outputs": [],
   "source": [
    "#tac_imbal_10g = '/kaggle/input/mafaulda-full/mafaulda/imbalance/10g/13.9264.csv'\n",
    "tac_imbal_10g = 'C:/Files/mafaulda_full/imbalance/10g/13.9264.csv'\n",
    "\n"
   ]
  },
  {
   "cell_type": "markdown",
   "metadata": {},
   "source": [
    "- pip install datawrangler"
   ]
  },
  {
   "cell_type": "code",
   "execution_count": null,
   "metadata": {},
   "outputs": [],
   "source": [
    "df = pd.read_csv(tac_imbal_10g, names = ['f_rotac', 'under_x', 'under_y', 'under_z', 'over_x', 'over_y', 'over_z', 'micro'])\n",
    "df.head(5)\n",
    "\n"
   ]
  },
  {
   "cell_type": "code",
   "execution_count": null,
   "metadata": {},
   "outputs": [],
   "source": [
    "names = ['f_rotac', 'under_x', 'under_y', 'under_z', 'over_x', 'over_y', 'over_z', 'micro']\n",
    "# fig, axes = plt.subplots(1, len(names), figsize=(len(names)*4, 4))\n",
    "fig, axes = plt.subplots(2, 4, figsize=(16, 8))\n",
    "\n",
    "axes = axes.flatten()\n",
    "\n",
    "\n",
    "for i, col in enumerate(names):\n",
    "    axes[i].hist(df[col], bins=30, color='blue', alpha=0.7)\n",
    "    # axes[i].plot(df[col])\n",
    "    # axes[i].set_title(col)\n",
    "    axes[i].set_title(f'#{col}')\n",
    "    axes[i].set_xlabel(col)\n",
    "    axes[i].set_ylabel('Frequência')\n",
    "\n",
    "fig.suptitle('TAC Imbalance 10g', fontsize=20)\n",
    "\n",
    "plt.tight_layout()\n",
    "fig.subplots_adjust(top=0.9)\n",
    "plt.show()"
   ]
  },
  {
   "cell_type": "code",
   "execution_count": null,
   "metadata": {},
   "outputs": [],
   "source": [
    "\n",
    "plt.plot(df.iloc[:50, 0], color='blue', label='Tacômetro')\n",
    "plt.title('50 primeiras amostras do Sinal do Tacômetro')\n",
    "plt.xlabel('Amostras')\n",
    "plt.ylabel('Sinal')\n",
    "# Exibir a legenda e mostrar o gráfico\n",
    "plt.tight_layout()\n",
    "plt.show()"
   ]
  },
  {
   "cell_type": "markdown",
   "metadata": {},
   "source": [
    "- Calculando a frequência do sinal e a velocidade em RPM::"
   ]
  },
  {
   "cell_type": "markdown",
   "metadata": {},
   "source": [
    "Total de amostras = Taxa de amostragem × Tempo de duração.\n",
    "\n",
    "A taxa de amostragem foi configurada para 50 kHz, ou seja, 50.000 amostras por segundo. Se temos um total de 250.000 amostras no espaço de tempo de 5 segundos:\n",
    "\n",
    "Total de amostra / taxa de amostragem = 250000 / 50000 = 5 segundos.\n",
    "\n",
    "Total de amostragem = 50.000 amostras x 5 segundos.\n",
    "\n",
    "Taxa de amostragem = 50.000.\n",
    "\n",
    "Cálculo de rpm:\n",
    "\n",
    "RPM = Frequencia (Hz) × 60\n"
   ]
  },
  {
   "cell_type": "markdown",
   "metadata": {},
   "source": [
    "- Gráfico de amplitude em função de amostragem:"
   ]
  },
  {
   "cell_type": "markdown",
   "metadata": {},
   "source": [
    "- Esse cálculo é típico para sinais de tacômetros, onde se quer determinar a frequência de rotação (em Hz) com base nos cruzamentos pelo ponto médio.\n",
    "Nesse caso, tac_signal representa o sinal do tacômetro, e crossing_times (calculado anteriormente) contém os tempos onde o sinal cruza a média. Os intervalos entre esses cruzamentos (time_time) representam os períodos de cada ciclo."
   ]
  },
  {
   "cell_type": "code",
   "execution_count": null,
   "metadata": {},
   "outputs": [],
   "source": [
    "tach_signal = df.iloc[:, 0]\n",
    "\n",
    "#detecção de passagem or zero:\n",
    "def zero_crossing(signal):\n",
    "    #cálculo de cruzamento em zero:\n",
    "    zero_cross = np.where(np.diff(np.sign(signal)))[0]\n",
    "    return zero_cross\n",
    "\n",
    "#Detecção de passagem por zero:\n",
    "zero_crosses_indices = zero_crossing(tach_signal)\n",
    "\n",
    "# Contagem de tempo entre as passagens por zero, com amostragem de 50KHz:\n",
    "#Ta = 50000\n",
    "Ta = 0.00002  # Tempo de amostragem (50 kHz)\n",
    "\n",
    "time_time = np.diff(zero_crosses_indices) * Ta  # Tempo entre passagens por zero\n",
    "\n",
    "# Cálculo do período méd. e frequência média de rotação do array time_time:\n",
    "if len(time_time) > 0:  # Verifica se há intervalos\n",
    "    periodo_medio = np.mean(time_time)\n",
    "    freq_rotacao = 1 / periodo_medio if periodo_medio != 0 else 0  # Evita divisão por zero\n",
    "else:\n",
    "    periodo_medio = 0\n",
    "    freq_rotacao = 0\n",
    "\n",
    "\n",
    "\n",
    "print(f'Frequência média de rotação: {frequencia_media:.4f} Hz')\n",
    "print(f'Período médio: {periodo_medio:.4f} s')\n",
    "\n",
    "\n",
    "\n"
   ]
  },
  {
   "cell_type": "code",
   "execution_count": null,
   "metadata": {},
   "outputs": [],
   "source": [
    "\n",
    "# Converter tach_signal para array NumPy\n",
    "tach_signal = np.array(tach_signal)\n",
    "\n",
    "#criar o eixo do tempo com o mesmo tamanho do sinal do tacômetro 'tach_signal'. Assumindo que o sinal foi amostrado a 50 kHz (Ta = 0.00002 s):\n",
    "# Ta = 0.00002  # Tempo de amostragem (50 kHz)\n",
    "time = np.arange(len(tach_signal)) * Ta  # Eixo do tempo (em segundos)\n",
    "\n",
    "plt.figure(figsize=(14, 6))\n",
    "plt.plot(time, tach_signal, label='Sinal do Tacômetro')\n",
    "plt.scatter(time[zero_crosses_indices], tach_signal[zero_crosses_indices], color='red', label='Cruzamentos por Zero', zorder=5)\n",
    "\n",
    "# Personalizar o gráfico\n",
    "plt.title('Sinal do Tacômetro com Cruzamentos por Zero')\n",
    "plt.xlabel('Tempo (s)')\n",
    "plt.ylabel('Amplitude')\n",
    "plt.legend()\n",
    "plt.grid(True)\n",
    "\n",
    "plt.show()"
   ]
  },
  {
   "cell_type": "markdown",
   "metadata": {},
   "source": [
    "- Gráfico de amplitude em função do tempo, com identificação dos pontos de inflexão (onde a derivada do sinal muda de sinal)"
   ]
  },
  {
   "cell_type": "code",
   "execution_count": null,
   "metadata": {},
   "outputs": [],
   "source": [
    "import scipy.signal as signal\n",
    "from scipy.signal import find_peaks\n",
    "\n",
    "# Encontrar os picos no sinal\n",
    "\n",
    "# Criar o eixo de tempo\n",
    "time = np.arange(len(tac_signal)) / Ta\n",
    "peaks, _ = find_peaks(tac_signal, height=0)\n",
    "\n",
    "#Encontrar as inversões de sinal nos vales (Mínimos):\n",
    "\n",
    "vales, _ = find_peaks(-tac_signal, height=0)\n",
    "\n",
    "#combinação de índices de picos e vales:\n",
    "peaks_and_vales = np.concatenate((peaks, vales))\n",
    "# Encontrar os cruzamentos por zeros\n",
    "zero_crosses_indices = np.where(np.diff(np.sign(tac_signal)))[0]\n",
    "\n",
    "\n",
    "# Gerar o gráfico\n",
    "plt.figure(figsize=(10, 6))\n",
    "plt.plot(time, tac_signal, label='Sinal do Tacômetro')\n",
    "plt.scatter(time[zero_crosses_indices], tac_signal[zero_crosses_indices], color='red', label='Cruzamentos por Zero', zorder=5)\n",
    "\n",
    "# Personalizar o gráfico\n",
    "plt.title('Sinal do Tacômetro com Cruzamentos por Zero')\n",
    "plt.xlabel('Tempo (s)')\n",
    "plt.ylabel('Amplitude')\n",
    "plt.legend()\n",
    "plt.grid(True)\n",
    "\n",
    "# Exibir o gráfico\n",
    "plt.show()"
   ]
  },
  {
   "cell_type": "markdown",
   "metadata": {},
   "source": [
    "- as linhas representam o sinal ao longo do tempo, e os pontos em vermelho indicam os cruzamentos pelo eixo zero que são as mudanças de sinal (de positivo para negativo ou vice-versa). Eles são usados para calcular a frequência de rotação. Essa oscilação reflete o comportamento do tacômetro. A faixa entre -1 e 0 faz parte dessa oscilação natural do sinal.\n",
    "\n",
    "- Os cruzamentos estão distribuídos de maneira relativamente regular, um processo limpo, ao longo do tempo. Isso sugere que a rotação do sistema é estável, sem grandes flutuações ou variações bruscas na frequência de rotação. Essa regularidade é um indicativo de que o sistema está funcionando de forma consistente, sem mudanças repentinas na velocidade. Não foi detectado a presença de ruídos significativos.\n",
    "\n",
    "- Vamos calcular o período e frequência médios, o menor e o maior período."
   ]
  },
  {
   "cell_type": "code",
   "execution_count": null,
   "metadata": {},
   "outputs": [],
   "source": [
    "import numpy as np\n",
    "import matplotlib.pyplot as plt\n",
    "\n",
    "# Supondo que tac_signal e Ta estão definidos\n",
    "# Exemplo: tac_signal = df_10['f_rotac'], Ta = 1/fs\n",
    "\n",
    "# Converter tac_signal para array NumPy\n",
    "tac_signal = np.array(tac_signal)\n",
    "\n",
    "# Criar o eixo de tempo\n",
    "time = np.arange(len(tac_signal)) / Ta\n",
    "\n",
    "# Calcular a média do sinal\n",
    "mean_signal = np.mean(tac_signal)\n",
    "\n",
    "# Subtrair a média para centralizar o sinal em torno de zero\n",
    "tac_signal_centered = tac_signal - mean_signal\n",
    "\n",
    "# Encontrar os cruzamentos pela linha média\n",
    "zero_crosses_indices = np.where(np.diff(np.sign(tac_signal_centered)))[0]\n",
    "\n",
    "# Ajustar índices para corresponder aos pontos exatos de cruzamento\n",
    "# Filtra índices onde o sinal realmente cruza a média\n",
    "crossings = []\n",
    "for idx in zero_crosses_indices:\n",
    "    if idx + 1 < len(tac_signal_centered):\n",
    "        # Verifica se o produto dos valores adjacentes é negativo (indica cruzamento)\n",
    "        if tac_signal_centered[idx] * tac_signal_centered[idx + 1] <= 0:\n",
    "            # Interpolar para encontrar o ponto exato de cruzamento\n",
    "            fraction = abs(tac_signal_centered[idx]) / (abs(tac_signal_centered[idx]) + abs(tac_signal_centered[idx + 1]))\n",
    "            crossing_time = time[idx] + fraction * (time[idx + 1] - time[idx])\n",
    "            crossing_value = mean_signal  # O valor na média\n",
    "            crossings.append((crossing_time, crossing_value))\n",
    "\n",
    "# Separar os tempos e valores dos cruzamentos\n",
    "if crossings:\n",
    "    crossing_times, crossing_values = zip(*crossings)\n",
    "else:\n",
    "    crossing_times, crossing_values = [], []\n",
    "\n",
    "# Gerar o gráfico\n",
    "plt.figure(figsize=(14, 6))\n",
    "plt.plot(time, tac_signal, label='Sinal do Tacômetro')\n",
    "plt.scatter(crossing_times, crossing_values, color='red', label='Cruzamentos pelo Ponto Médio', zorder=2)\n",
    "\n",
    "# Adicionar linha horizontal na média\n",
    "plt.axhline(mean_signal, color='green', linestyle='--', label='Ponto Médio (Média)')\n",
    "\n",
    "# Personalizar o gráfico\n",
    "plt.title('Sinal do Tacômetro com Cruzamentos pelo Ponto Médio')\n",
    "plt.xlabel('Tempo (s)')\n",
    "plt.ylabel('Amplitude')\n",
    "plt.legend()\n",
    "plt.grid(True)\n",
    "\n",
    "# Exibir o gráfico\n",
    "plt.show()"
   ]
  },
  {
   "cell_type": "code",
   "execution_count": null,
   "metadata": {},
   "outputs": [],
   "source": [
    "# Converter tach_signal para array NumPy\n",
    "tach_signal = np.array(tach_signal)\n",
    "\n",
    "# Criar o eixo do tempo (Ta = 0.00002 s, 50 kHz)\n",
    "Ta = 0.00002  # Tempo de amostragem (50 kHz)\n",
    "time = np.arange(len(tach_signal)) * Ta  # Eixo do tempo (em segundos)\n",
    "\n",
    "# Filtrar os dados para o intervalo de 1 a 2 segundos\n",
    "mask = (time >= 1) & (time <= 2)  # Máscara para o intervalo\n",
    "time_interval = time[mask]  # Tempos no intervalo\n",
    "tach_signal_interval = tach_signal[mask]  # Sinal no intervalo\n",
    "\n",
    "# Filtrar os índices de cruzamentos por zero para o intervalo\n",
    "zero_crosses_interval = zero_crosses_indices[(zero_crosses_indices >= np.where(mask)[0][0]) & \n",
    "                                             (zero_crosses_indices <= np.where(mask)[0][-1])]\n",
    "\n",
    "# Ajustar os índices para o novo intervalo\n",
    "zero_crosses_interval = zero_crosses_interval - np.where(mask)[0][0]\n",
    "\n",
    "# Gerar o gráfico\n",
    "plt.figure(figsize=(14, 6))\n",
    "plt.plot(time_interval, tach_signal_interval, label='Sinal do Tacômetro')\n",
    "plt.scatter(time_interval[zero_crosses_interval], tach_signal_interval[zero_crosses_interval], \n",
    "            color='red', label='Cruzamentos por Zero', zorder=5)\n",
    "\n",
    "# Personalizar o gráfico\n",
    "plt.title('Sinal do Tacômetro com Cruzamentos por Zero (1 a 2 segundos)')\n",
    "plt.xlabel('Tempo (s)')\n",
    "plt.ylabel('Amplitude')\n",
    "plt.legend()\n",
    "plt.grid(True)\n",
    "\n",
    "# Exibir o gráfico\n",
    "plt.show()\n"
   ]
  },
  {
   "cell_type": "code",
   "execution_count": null,
   "metadata": {},
   "outputs": [],
   "source": [
    "# Calcular a variabilidade entre os períodos (tempo entre cruzamentos zero)\n",
    "time_crossings = zero_crosses_indices * Ta  # Converter os índices de cruzamento em tempo\n",
    "periods = np.diff(time_crossings)  # Diferença entre os tempos dos cruzamentos, que nos dá os períodos\n",
    "\n",
    "# Calcular métricas de variabilidade\n",
    "mean_period = np.mean(periods)\n",
    "std_period = np.std(periods)  # Desvio padrão dos períodos\n",
    "min_period = np.min(periods)\n",
    "max_period = np.max(periods)\n"
   ]
  },
  {
   "cell_type": "code",
   "execution_count": null,
   "metadata": {},
   "outputs": [],
   "source": [
    "# Criando o dicionário de dados para a tabela\n",
    "data = {\n",
    "    'Métrica': ['Período Médio', 'Desvio Padrão do Período', 'Período Mínimo', 'Período Máximo', 'per med', 'Frequência Média'],\n",
    "    'Descrição': ['Média do período entre cruzamentos de zero.', \n",
    "                  'Desvio padrão do período entre cruzamentos de zero.', \n",
    "                  'Período mínimo entre cruzamentos de zero.',\n",
    "                  'Período máximo entre cruzamentos de zero.',\n",
    "                  'primeiro período médio entre cruzamentos de zero.',\n",
    "                  'Frequência média estimada baseada nos períodos.'],\n",
    "    'Valor': [mean_period, std_period, min_period, max_period, periodo_medio, frequencia_media]\n",
    "}\n",
    "\n",
    "# Convertendo para um DataFrame\n",
    "df = pd.DataFrame(data)\n",
    "\n",
    "# Adicionando bordas à tabela\n",
    "df_styled = df.style.set_table_styles(\n",
    "    [{'selector': 'th', 'props': [('border', '1px solid black')]},\n",
    "     {'selector': 'td', 'props': [('border', '1px solid black')]}]\n",
    ")\n",
    "\n",
    "# Exibindo a tabela com bordas\n",
    "df_styled"
   ]
  },
  {
   "cell_type": "code",
   "execution_count": null,
   "metadata": {},
   "outputs": [],
   "source": [
    "# Gerar dados de uma distribuição normal com base no período médio e desvio padrão\n",
    "# x = np.linspace(min_period, max_period, 1000)\n",
    "# normal_distribution = (1 / (std_period * np.sqrt(2 * np.pi))) * np.exp(-0.5 * ((x - mean_period) / std_period) ** 2)\n",
    "# x_desvio = (x - mean_period, 1000)\n",
    "# x_percent = x_desvio * 100\n",
    "\n",
    "deviation_min = (min_period - mean_period) / std_period  # Desvio mínimo em unidades de std\n",
    "deviation_max = (max_period - mean_period) / std_period  # Desvio máximo em unidades de std\n",
    "\n",
    "# Criar escala percentual (de -X% a +X% do desvio padrão)\n",
    "x_deviation = np.linspace(deviation_min, deviation_max, 1000)  # Desvios em unidades de std\n",
    "x_percent = x_deviation * 100  # Converter para percentual\n",
    "\n",
    "# Calcular a distribuição normal usando x_deviation\n",
    "normal_distribution = (1 / (std_period * np.sqrt(2 * np.pi))) * np.exp(-0.5 * x_deviation**2)\n",
    "\n",
    "\"\"\" distribuicao_normal = (1 / (std_period * np.sqrt(2*np.pi))) * np.exp(-0.5 * ((x - mean_period) / std_period) ** 2)\n",
    "\n",
    "# Criar o gráfico\n",
    "plt.figure(figsize=(10, 6))\n",
    "plt.plot(x, distribuicao_normal, label='Distribuição Normal dos Períodos', color='blue')\n",
    "\n",
    "# Adicionar marcações para o período médio e desvio padrão\n",
    "plt.axvline(mean_period, color='red', linestyle='--', label=f'Período Médio: {mean_period:.4f}s')\n",
    "plt.axvline(mean_period + std_period, color='green', linestyle='--', label=f'+1 Desvio Padrão: {mean_period + std_period:.4f}s')\n",
    "plt.axvline(mean_period - std_period, color='green', linestyle='--', label=f'-1 Desvio Padrão: {mean_period - std_period:.4f}s')\n",
    "\n",
    "# Personalizar o gráfico\n",
    "plt.title('Distribuição Normal dos Períodos de Cruzamento por Zero')\n",
    "plt.xlabel('Período (s)')\n",
    "plt.ylabel('Densidade de Probabilidade')\n",
    "plt.legend()\n",
    "plt.grid(True)\n",
    "\n",
    "# Exibir o gráfico\n",
    "plt.show()\"\"\"\n",
    "\n",
    "# Criar o gráfico\n",
    "plt.figure(figsize=(10, 6))\n",
    "plt.plot(x_percent, normal_distribution, label='Distribuição Normal dos Períodos', color='blue')\n",
    "\n",
    "# Adicionar marcações para o período médio e desvio padrão (em percentual)\n",
    "plt.axvline(0, color='red', linestyle='--', label='Período Médio: 0%')  # Média está em 0%\n",
    "plt.axvline(100, color='green', linestyle='--', label='+1 Desvio Padrão: +100%')  # +1 std = +100%\n",
    "plt.axvline(-100, color='green', linestyle='--', label='-1 Desvio Padrão: -100%')  # -1 std = -100%\n",
    "\n",
    "# Personalizar o gráfico\n",
    "plt.title('Distribuição Normal dos Períodos (Escala Percentual de Desvio Padrão)')\n",
    "plt.xlabel('Desvio Percentual do Desvio Padrão (%)')\n",
    "plt.ylabel('Densidade de Probabilidade')\n",
    "plt.legend()\n",
    "plt.grid(True)\n",
    "\n",
    "# Exibir o gráfico\n",
    "plt.show()"
   ]
  },
  {
   "cell_type": "markdown",
   "metadata": {},
   "source": [
    "#### Transformada De Fourier Do Sinal Do Tacômetro"
   ]
  },
  {
   "cell_type": "code",
   "execution_count": null,
   "metadata": {},
   "outputs": [],
   "source": [
    "# Aplicar a Transformada de Fourier no sinal do tacômetro\n",
    "tach_signal_fft = np.fft.fft(tach_signal)\n",
    "frequencies = np.fft.fftfreq(len(tach_signal), 1/Ta)\n",
    "\n",
    "# Apenas os valores positivos da FFT e das frequências\n",
    "positive_frequencies = frequencies[:len(frequencies)//2]\n",
    "positive_fft = np.abs(tach_signal_fft[:len(tach_signal)//2])\n",
    "\n",
    "# Criar o gráfico\n",
    "plt.figure(figsize=(10, 6))\n",
    "#plt.plot(positive_frequencies, positive_fft, color='blue', label='Espectro de Frequências')\n",
    "plt.plot(x_percent, normal_distribution, label='Distribuição Normal dos Períodos', color='blue')\n",
    "\n",
    "# Adicionar marcações para o período médio e desvio padrão (em percentual)\n",
    "plt.axvline(0, color='red', linestyle='--', label='Período Médio: 0%')  # Média está em 0%\n",
    "plt.axvline(100, color='green', linestyle='--', label='+1 Desvio Padrão: +100%')  # +1 std = +100%\n",
    "plt.axvline(-100, color='green', linestyle='--', label='-1 Desvio Padrão: -100%')  # -1 std = -100%\n",
    "\n",
    "\n",
    "# Personalizar o gráfico\n",
    "plt.title('Transformada de Fourier do Sinal do Tacômetro')\n",
    "plt.xlabel('Frequência (Hz)')\n",
    "plt.ylabel('Amplitude')\n",
    "plt.grid(True)\n",
    "plt.legend()\n",
    "\n",
    "# Exibir o gráfico\n",
    "plt.show()\n"
   ]
  },
  {
   "cell_type": "markdown",
   "metadata": {},
   "source": [
    "- Frequência fundamental da rotação em ZERO.\n",
    "- Decaimento de forma rápida, o que é típico de sinais que possuem um forte componente de baixa frequência e menos contribuições significativas em frequências mais altas. Define-se então rotação relativamente estável, com poucas vibrações."
   ]
  },
  {
   "cell_type": "code",
   "execution_count": null,
   "metadata": {},
   "outputs": [],
   "source": [
    "# Leitura em faixa de interesse:\n",
    "plt.figure(figsize=(10, 6))\n",
    "plt.plot(positive_frequencies, positive_fft, color='blue', label='Espectro de Frequências')\n",
    "# Definir o limite de frequência para 1000 Hz\n",
    "# plt.xlim([0, 1000]) - para limitar a banda de plotagem\n",
    "# Personalizar o gráfico\n",
    "plt.title('Transformada de Fourier do Sinal do Tacômetro (Frequências até 500 Hz)')\n",
    "plt.xlabel('Frequência (Hz)')\n",
    "plt.ylabel('Amplitude')\n",
    "plt.grid(True)\n",
    "plt.legend()\n",
    "# Exibir o gráfico\n",
    "plt.show()\n"
   ]
  },
  {
   "cell_type": "code",
   "execution_count": null,
   "metadata": {},
   "outputs": [],
   "source": [
    "import numpy as np\n",
    "import matplotlib.pyplot as plt\n",
    "\n",
    "# Supondo que tach_signal e Ta estão definidos\n",
    "# Exemplo: tach_signal = df_10['f_rotac'].values, Ta = 0.00002 s (50 kHz)\n",
    "\n",
    "# Converter tach_signal para array NumPy\n",
    "tach_signal = np.array(tach_signal)\n",
    "\n",
    "# Parâmetros do sinal\n",
    "Ta = 0.00002  # Tempo de amostragem (50 kHz)\n",
    "fs = 1 / Ta  # Frequência de amostragem = 50000 Hz\n",
    "N = len(tach_signal)  # Número de amostras\n",
    "\n",
    "# Aplicar a Transformada de Fourier no sinal do tacômetro\n",
    "tach_signal_fft = np.fft.fft(tach_signal)\n",
    "\n",
    "# Calcular a magnitude da FFT e normalizar\n",
    "positive_fft = 2 * np.abs(tach_signal_fft[:N//2]) / N  # Magnitude normalizada (fator 2 para compensar frequências negativas)\n",
    "\n",
    "# Calcular as frequências correspondentes\n",
    "frequencies = np.fft.fftfreq(N, Ta)\n",
    "positive_frequencies = frequencies[:N//2]  # Frequências positivas (em Hz)\n",
    "\n",
    "# Criar o gráfico\n",
    "plt.figure(figsize=(10, 6))\n",
    "plt.plot(positive_frequencies, positive_fft, color='blue', label='Espectro de Frequências')\n",
    "\n",
    "# Definir o limite de frequência para 500 Hz\n",
    "plt.xlim([0, 600])\n",
    "\n",
    "# Ajustar o limite do eixo y para melhor visualização\n",
    "plt.ylim([0, np.max(positive_fft) * 1.1])  # Ajusta o eixo y para mostrar até 10% acima do valor máximo\n",
    "\n",
    "# Personalizar o gráfico\n",
    "plt.title('Transformada de Fourier do Sinal do Tacômetro (Frequências até 500 Hz)')\n",
    "plt.xlabel('Frequência (Hz)')\n",
    "plt.ylabel('Amplitude')\n",
    "plt.grid(True)\n",
    "plt.legend()\n",
    "\n",
    "# Exibir o gráfico\n",
    "plt.show()"
   ]
  },
  {
   "cell_type": "markdown",
   "metadata": {},
   "source": [
    "#### Aplicando filtros:\n",
    "\n",
    "- Vamos aplicar um filtro para eliminar essas freq. acima de 100Hz, a princípio e verificar a forma de onda do sinal depois.\n",
    "- aplicar um filtro passa-baixa (FPB) ao sinal no domínio do tempo (tach_signal) antes de calcular a FFT. Filtro passa-baixa Butterworth, que é comum para esse propósito. Depois, recalcularemos a FFT do sinal filtrado e plotaremos o espectro.\n",
    "- Os valores b e a são arrays NumPy que representam os coeficientes do filtro e são calculados automaticamente pela função com base nos parâmetros fornecidos: a ordem do filtro, a frequência de corte normalizada e o tipo de filtro.\n",
    "- b: Coeficientes do numerador do filtro (coeficientes da entrada).\n",
    "- a: Coeficientes do denominador do filtro (coeficientes da saída, para filtros recursivos).\n",
    "- order = 5: Ordem do filtro (define a suavidade da transição entre a banda de passagem e a banda de rejeição).\n",
    "\n"
   ]
  },
  {
   "cell_type": "code",
   "execution_count": null,
   "metadata": {},
   "outputs": [],
   "source": [
    "from scipy.signal import butter, lfilter\n",
    "\n",
    "# Supondo que tach_signal e Ta estão definidos\n",
    "# Exemplo: tach_signal = df_10['f_rotac'].values, Ta = 0.00002 s (50 kHz)\n",
    "\n",
    "# Converter tach_signal para array NumPy\n",
    "tach_signal = np.array(tach_signal)\n",
    "\n",
    "# Parâmetros do sinal\n",
    "Ta = 0.00002  # Tempo de amostragem (50 kHz)\n",
    "fs = 1 / Ta  # Frequência de amostragem = 50000 Hz\n",
    "N = len(tach_signal)  # Número de amostras\n",
    "\n",
    "# Definir a frequência de corte do filtro passa-baixa (100 Hz)\n",
    "cutoff_freq = 100  # Frequência de corte em Hz\n",
    "order = 5  # Ordem do filtro Butterworth\n",
    "\n",
    "# Normalizar a frequência de corte em relação à frequência de Nyquist (fs/2)\n",
    "nyquist_freq = fs / 2\n",
    "normalized_cutoff = cutoff_freq / nyquist_freq\n",
    "\n",
    "# Projetar o filtro passa-baixa Butterworth\n",
    "b, a = butter(order, normalized_cutoff, btype='low', analog=False)\n",
    "\n",
    "# Aplicar o filtro ao sinal\n",
    "tach_signal_filtered = lfilter(b, a, tach_signal)\n",
    "\n",
    "# Calcular a FFT do sinal filtrado\n",
    "tach_signal_fft = np.fft.fft(tach_signal_filtered)\n",
    "positive_fft = 2 * np.abs(tach_signal_fft[:N//2]) / N  # Magnitude normalizada\n",
    "\n",
    "# Calcular as frequências correspondentes\n",
    "frequencies = np.fft.fftfreq(N, Ta)\n",
    "positive_frequencies = frequencies[:N//2]  # Frequências positivas (em Hz)\n",
    "\n",
    "# Criar o gráfico\n",
    "plt.figure(figsize=(10, 6))\n",
    "plt.plot(positive_frequencies, positive_fft, color='blue', label='Espectro de Frequências')\n",
    "\n",
    "# Definir o limite de frequência para 500 Hz\n",
    "plt.xlim([0, 500])\n",
    "\n",
    "# Ajustar o limite do eixo y para melhor visualização\n",
    "plt.ylim([0, np.max(positive_fft) * 1.1])\n",
    "\n",
    "# Personalizar o gráfico\n",
    "plt.title('Transformada de Fourier do Sinal do Tacômetro (Após Filtro Passa-Baixa de 100 Hz)')\n",
    "plt.xlabel('Frequência (Hz)')\n",
    "plt.ylabel('Amplitude')\n",
    "plt.grid(True)\n",
    "plt.legend()\n",
    "\n",
    "# Exibir o gráfico\n",
    "plt.show()\n"
   ]
  },
  {
   "cell_type": "code",
   "execution_count": null,
   "metadata": {},
   "outputs": [],
   "source": [
    "print(\"Coeficientes b:\", b)\n",
    "print(\"Coeficientes a:\", a)"
   ]
  },
  {
   "cell_type": "markdown",
   "metadata": {},
   "source": [
    "- Analisando sinal do tacômetro já filtrado:"
   ]
  },
  {
   "cell_type": "code",
   "execution_count": null,
   "metadata": {},
   "outputs": [],
   "source": [
    "tach_signal_filtered = np.array(tach_signal_filtered)\n",
    "\n",
    "# Criar o eixo de tempo\n",
    "Ta = 0.00002\n",
    "time = np.arange(len(tach_signal_filtered)) * Ta  # Eixo do tempo (em segundos)\n",
    "mask = (time>=1) & (time<= 2)  # Máscara para o intervalo\n",
    "time_interval = time[mask]  # Tempos no intervalo\n",
    "tach_signal_interval = tach_signal_filtered[mask]  # Sinal no intervalo\n",
    "# Filtrar os índices de cruzamentos por zero para o intervalo\n",
    "zero_crosses_interval = zero_crosses_indices[(zero_crosses_indices >= np.where(mask)[0][0]) & \n",
    "                                             (zero_crosses_indices <= np.where(mask)[0][-1])]\n",
    "\n",
    "# Ajustar os índices para o novo intervalo\n",
    "zero_crosses_interval = zero_crosses_interval - np.where(mask)[0][0]\n",
    "\n",
    "# Garantir que os índices de zero_crosses_interval estejam dentro do intervalo válido de time_interval\n",
    "zero_crosses_interval = zero_crosses_interval[zero_crosses_interval < len(time_interval)]\n",
    "\n",
    "# Gerar o gráfico\n",
    "plt.figure(figsize=(14, 6))\n",
    "plt.plot(time_interval, tach_signal_interval, label='Sinal do Tacômetro')\n",
    "plt.scatter(time_interval[zero_crosses_interval], tach_signal_interval[zero_crosses_interval], \n",
    "            color='red', label='Cruzamentos por Zero', zorder=5)    \n",
    "plt.title('Sinal do Tacômetro com Cruzamentos por Zero (1 a 2 segundos)')\n",
    "plt.xlabel('Tempo (s)')\n",
    "plt.ylabel('Amplitude')\n",
    "plt.legend()\n",
    "plt.grid(True)\n",
    "# Exibir o gráfico\n",
    "plt.show()\n"
   ]
  },
  {
   "cell_type": "code",
   "execution_count": null,
   "metadata": {},
   "outputs": [],
   "source": [
    "#Criando uma coluna de tempo para o sinal filtrado:\n",
    "time_filtered = np.arange(len(tach_signal_filtered)) * Ta  # Eixo do tempo (em segundos)\n",
    "df_filtered = pd.DataFrame({'time': time, 'filtered_signal': tach_signal_filtered})\n",
    "df_filtered.head(5)\n",
    "df_filtered.to_csv('C:/Files/mafaulda_full/imbalance/10g/13.9264_f.csv', index=False)\n",
    "df_novo = pd.read_csv('C:/Files/mafaulda_full/imbalance/10g/13.9264_f.csv')\n",
    "df_novo.head(5)\n",
    "df_novo.tail(5)"
   ]
  },
  {
   "cell_type": "code",
   "execution_count": null,
   "metadata": {},
   "outputs": [],
   "source": [
    " \n",
    "\n",
    "plt.figure(figsize=(14, 6))\n",
    "plt.plot(df_filtered['time'], df_filtered['filtered_signal'], label='Sinal do Tacômetro Filtrado')\n",
    "plt.scatter(df_filtered['time'][zero_crosses_interval], df_filtered['filtered_signal'][zero_crosses_interval], \n",
    "            color='red', label='Cruzamentos por Zero', zorder=1)\n",
    "plt.title('Sinal do Tacômetro Filtrado com Cruzamentos por Zero (1 a 2 segundos)')  \n",
    "plt.xlabel('Tempo (s)')\n",
    "plt.ylabel('Amplitude')\n",
    "plt.legend()\n",
    "plt.grid(True)\n",
    "# Exibir o gráfico\n",
    "plt.show()\n",
    "\n",
    "\n",
    "\n"
   ]
  },
  {
   "cell_type": "markdown",
   "metadata": {},
   "source": [
    "## - Análise para o sinal desbalanceado com peso de 10g em relação à coluna Hunderhang_10g x axial:"
   ]
  },
  {
   "cell_type": "code",
   "execution_count": null,
   "metadata": {},
   "outputs": [],
   "source": [
    "#tac_imbal_10g = '/kaggle/input/mafaulda-full/mafaulda/imbalance/10g/13.9264.csv'\n",
    "tac_imbal_10g = 'C:/Files/mafaulda_full/imbalance/10g/13.9264.csv'\n",
    "tac_imbal_10g_f = 'C:/Files/mafaulda_full/imbalance/10g/13.9264_f.csv'  \n",
    "df = pd.read_csv(tac_imbal_10g_f)\n",
    "print(df.head(5))"
   ]
  },
  {
   "cell_type": "code",
   "execution_count": null,
   "metadata": {},
   "outputs": [],
   "source": [
    "# Exibir os tipos de dados da coluna 2 (acelerômetro eixo axial) sem excluir dados\n",
    "tac_imbal_10g = df.iloc[0:, 1]  # Coluna 2 (índice 1)\n",
    "print(\"Primeiros registros da Coluna 2 (Acelerômetro Eixo Axial):\")\n",
    "print(tac_imbal_10g.head())"
   ]
  },
  {
   "cell_type": "code",
   "execution_count": null,
   "metadata": {},
   "outputs": [],
   "source": [
    "# Agora que temos a coluna correta, não excluímos dados\n",
    "accelerometer_axial = df.iloc[1:, 1]  # Coluna 2: acelerômetro eixo axial"
   ]
  },
  {
   "cell_type": "code",
   "execution_count": null,
   "metadata": {},
   "outputs": [],
   "source": [
    "# Função para detectar zero-crossings no sinal do acelerômetro\n",
    "def zero_crossings(signal):\n",
    "    zero_crosses = np.where(np.diff(np.sign(signal)))[0]\n",
    "    return zero_crosses\n",
    "\n",
    "# Função para estimar a frequência de vibração utilizando zero-crossing\n",
    "def estimate_vibration_frequency(signal, Ta):\n",
    "    zero_crosses_indices = zero_crossings(signal)\n",
    "    if len(zero_crosses_indices) < 2:\n",
    "        return np.nan  # Evitar calcular se houver menos de 2 cruzamentos por zero\n",
    "    time_crossings = zero_crosses_indices / Ta  # Converter os índices de cruzamento em tempo\n",
    "    periods = np.diff(time_crossings)  # Diferença entre os tempos dos cruzamentos\n",
    "    mean_period = np.mean(periods)\n",
    "    frequency_of_vibration = 1 / mean_period if mean_period != 0 else 0\n",
    "    return frequency_of_vibration"
   ]
  },
  {
   "cell_type": "code",
   "execution_count": null,
   "metadata": {},
   "outputs": [],
   "source": [
    "# Calcular a frequência de vibração para o acelerômetro axial\n",
    "frequency_axial_vibration = estimate_vibration_frequency(accelerometer_axial, Ta)"
   ]
  },
  {
   "cell_type": "code",
   "execution_count": null,
   "metadata": {},
   "outputs": [],
   "source": [
    "# Imprimir a frequência de vibração no eixo axial\n",
    "if np.isnan(frequency_axial_vibration):\n",
    "    print(\"Erro: Não foi possível calcular a frequência devido à falta de cruzamentos suficientes.\")\n",
    "else:\n",
    "    print(\"Frequência de Vibração no Eixo Axial com Desbalanceamento de 10g:\", frequency_axial_vibration)"
   ]
  },
  {
   "cell_type": "markdown",
   "metadata": {},
   "source": [
    "- estou convertendo todos os dados da coluna 2 para numéricos, e quaisquer valores inválidos serão convertidos em NaN.\n",
    "- dropna(): Todos os valores NaN resultantes de conversões inválidas serão removidos, garantindo que o sinal seja composto apenas por números antes de aplicar a detecção de zero-crossings."
   ]
  },
  {
   "cell_type": "code",
   "execution_count": null,
   "metadata": {},
   "outputs": [],
   "source": [
    "# Coluna 0: Velocidade registrada pelo tacômetro\n",
    "tacometer_speed = pd.to_numeric(df.iloc[:, 0], errors='coerce').dropna()\n",
    "\n",
    "# Coluna 1: Acelerômetro axial\n",
    "accelerometer_axial = pd.to_numeric(df.iloc[:, 1], errors='coerce').dropna()"
   ]
  },
  {
   "cell_type": "code",
   "execution_count": null,
   "metadata": {},
   "outputs": [],
   "source": [
    "# Garantir que ambas as colunas tenham o mesmo tamanho após remover valores inválidos\n",
    "min_length = min(len(tacometer_speed), len(accelerometer_axial))\n",
    "tacometer_speed = tacometer_speed.iloc[:min_length]\n",
    "accelerometer_axial = accelerometer_axial.iloc[:min_length]\n",
    "\n",
    "# Calcular a correlação de Pearson entre o tacômetro e o acelerômetro axial\n",
    "correlation = np.corrcoef(tacometer_speed, accelerometer_axial)[0, 1]\n",
    "\n",
    "# Exibir o resultado da correlação\n",
    "print(\"Correlação de Pearson entre a Velocidade do Tacômetro e o Desbalanceamento Detectado no Acelerômetro Axial:\", correlation)"
   ]
  },
  {
   "cell_type": "markdown",
   "metadata": {},
   "source": [
    "- não há uma correlação linear significativa entre a velocidade do tacômetro e o desbalanceamento detectado no acelerômetro axial."
   ]
  }
 ],
 "metadata": {
  "kaggle": {
   "accelerator": "none",
   "dataSources": [
    {
     "datasetId": 2211511,
     "sourceId": 3695919,
     "sourceType": "datasetVersion"
    }
   ],
   "dockerImageVersionId": 30786,
   "isGpuEnabled": false,
   "isInternetEnabled": true,
   "language": "python",
   "sourceType": "notebook"
  },
  "kernelspec": {
   "display_name": "math",
   "language": "python",
   "name": "python3"
  },
  "language_info": {
   "codemirror_mode": {
    "name": "ipython",
    "version": 3
   },
   "file_extension": ".py",
   "mimetype": "text/x-python",
   "name": "python",
   "nbconvert_exporter": "python",
   "pygments_lexer": "ipython3",
   "version": "3.13.3"
  }
 },
 "nbformat": 4,
 "nbformat_minor": 4
}
