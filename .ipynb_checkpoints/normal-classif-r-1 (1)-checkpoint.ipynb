{
 "cells": [
  {
   "cell_type": "markdown",
   "metadata": {},
   "source": [
    "The database is composed by several CSV (Comma-Separated Values) files, each one with 8 columns, one column for each sensor, according to:\n",
    "\n",
    "column 1 tachometer signal that allows to estimate rotation frequency;\n",
    "\n",
    "columns 2 to 4 underhang bearing accelerometer (axial, radiale tangential direction);\n",
    "\n",
    "columns 5 to 7 overhang bearing accelerometer (axial, radiale tangential direction);\n",
    "\n",
    "column 8 microphone.\n",
    "\n",
    "source: https://www02.smt.ufrj.br/~offshore/mfs/page_01.html\n",
    "\n",
    "Nesse projeto eliminamos as colunas 1, 2, 3, 7 de cada arquivo csv. Restaram as leituras do tacômetro e do acelerômetro triaxial em 4, 5 e 6 (ax, rd and tan):\n",
    "\n",
    "0 - Tachometer.\n",
    "1 - Axial direct.\n",
    "2 - radial direct.\n",
    "3 - tangential direct.\n",
    "\n",
    "According to the description of the columns there are not one two radial orthogonal accelerometers. Thus, it is not possible to observe the movement orbit of the rotating machine.\n",
    "\n",
    "On the other hand, perhaps the tangential accelerometer is also moving radially, therefore orthogonal to the radial accelerometer.\n",
    "\n",
    "Soft-DTW é uma função de perda diferenciável usada em análise de séries temporais, baseada no Dynamic Time Warping (DTW). Permite comparar séries de tamanhos variáveis, é robusta a deslocamentos e dilatações no tempo, e pode ser usada em aprendizado de máquina para tarefas como média, clustering e previsão.\n"
   ]
  },
  {
   "cell_type": "code",
   "execution_count": null,
   "metadata": {},
   "outputs": [],
   "source": [
    "%pip install tensorflow==2.12.0\n",
    "%pip install keras==2.12.0"
   ]
  },
  {
   "cell_type": "code",
   "execution_count": 1,
   "metadata": {
    "execution": {
     "iopub.execute_input": "2025-06-16T23:17:06.803132Z",
     "iopub.status.busy": "2025-06-16T23:17:06.802211Z",
     "iopub.status.idle": "2025-06-16T23:17:39.783991Z",
     "shell.execute_reply": "2025-06-16T23:17:39.783049Z",
     "shell.execute_reply.started": "2025-06-16T23:17:06.803095Z"
    },
    "trusted": true
   },
   "outputs": [
    {
     "name": "stdout",
     "output_type": "stream",
     "text": [
      "Requirement already satisfied: soft-dtw in d:\\ifsp\\matematica - aulas\\codes\\math\\lib\\site-packages (0.1.6)\n",
      "Requirement already satisfied: scipy in d:\\ifsp\\matematica - aulas\\codes\\math\\lib\\site-packages (from soft-dtw) (1.15.3)\n",
      "Requirement already satisfied: numpy in d:\\ifsp\\matematica - aulas\\codes\\math\\lib\\site-packages (from soft-dtw) (2.3.0)\n",
      "Requirement already satisfied: cython in d:\\ifsp\\matematica - aulas\\codes\\math\\lib\\site-packages (from soft-dtw) (3.1.2)\n",
      "Requirement already satisfied: scikit-learn in d:\\ifsp\\matematica - aulas\\codes\\math\\lib\\site-packages (from soft-dtw) (1.7.0)\n",
      "Requirement already satisfied: chainer in d:\\ifsp\\matematica - aulas\\codes\\math\\lib\\site-packages (from soft-dtw) (7.8.1)\n",
      "Requirement already satisfied: setuptools in d:\\ifsp\\matematica - aulas\\codes\\math\\lib\\site-packages (from chainer->soft-dtw) (80.9.0)\n",
      "Requirement already satisfied: typing_extensions in d:\\ifsp\\matematica - aulas\\codes\\math\\lib\\site-packages (from chainer->soft-dtw) (4.14.0)\n",
      "Requirement already satisfied: filelock in d:\\ifsp\\matematica - aulas\\codes\\math\\lib\\site-packages (from chainer->soft-dtw) (3.18.0)\n",
      "Requirement already satisfied: protobuf>=3.0.0 in d:\\ifsp\\matematica - aulas\\codes\\math\\lib\\site-packages (from chainer->soft-dtw) (6.31.1)\n",
      "Requirement already satisfied: six>=1.9.0 in d:\\ifsp\\matematica - aulas\\codes\\math\\lib\\site-packages (from chainer->soft-dtw) (1.17.0)\n",
      "Requirement already satisfied: joblib>=1.2.0 in d:\\ifsp\\matematica - aulas\\codes\\math\\lib\\site-packages (from scikit-learn->soft-dtw) (1.5.1)\n",
      "Requirement already satisfied: threadpoolctl>=3.1.0 in d:\\ifsp\\matematica - aulas\\codes\\math\\lib\\site-packages (from scikit-learn->soft-dtw) (3.6.0)\n",
      "Note: you may need to restart the kernel to use updated packages.\n"
     ]
    }
   ],
   "source": [
    "%pip install soft-dtw"
   ]
  },
  {
   "cell_type": "code",
   "execution_count": null,
   "metadata": {
    "trusted": true
   },
   "outputs": [],
   "source": [
    "pip show soft-dtw"
   ]
  },
  {
   "cell_type": "code",
   "execution_count": null,
   "metadata": {
    "execution": {
     "iopub.execute_input": "2025-06-16T23:17:39.785776Z",
     "iopub.status.busy": "2025-06-16T23:17:39.785529Z",
     "iopub.status.idle": "2025-06-16T23:17:50.040850Z",
     "shell.execute_reply": "2025-06-16T23:17:50.039806Z",
     "shell.execute_reply.started": "2025-06-16T23:17:39.785750Z"
    },
    "trusted": true
   },
   "outputs": [],
   "source": [
    "!pip install filterpy"
   ]
  },
  {
   "cell_type": "code",
   "execution_count": null,
   "metadata": {
    "trusted": true
   },
   "outputs": [],
   "source": [
    "pip show filterpy"
   ]
  },
  {
   "cell_type": "code",
   "execution_count": 4,
   "metadata": {
    "_cell_guid": "b1076dfc-b9ad-4769-8c92-a6c4dae69d19",
    "_uuid": "8f2839f25d086af736a60e9eeb907d3b93b6e0e5",
    "execution": {
     "iopub.execute_input": "2025-06-16T23:17:51.149127Z",
     "iopub.status.busy": "2025-06-16T23:17:51.148191Z",
     "iopub.status.idle": "2025-06-16T23:17:52.484385Z",
     "shell.execute_reply": "2025-06-16T23:17:52.483637Z",
     "shell.execute_reply.started": "2025-06-16T23:17:51.149090Z"
    },
    "trusted": true
   },
   "outputs": [],
   "source": [
    "import os\n",
    "import numpy as np\n",
    "import pandas as pd\n",
    "import matplotlib.pyplot as plt\n",
    "import seaborn as sns\n",
    "import gc                                      # Importa a biblioteca de garbage collection\n",
    "\n",
    "from sklearn.model_selection import train_test_split\n",
    "from sklearn.preprocessing import StandardScaler\n",
    "from sklearn.ensemble import RandomForestClassifier\n",
    "from sklearn.metrics import classification_report, confusion_matrix, accuracy_score\n",
    "\n",
    "from filterpy.kalman import KalmanFilter\n",
    "\n",
    "sns.set(style='whitegrid')\n",
    "\n"
   ]
  },
  {
   "cell_type": "markdown",
   "metadata": {},
   "source": [
    "### Normal"
   ]
  },
  {
   "cell_type": "code",
   "execution_count": null,
   "metadata": {
    "trusted": true
   },
   "outputs": [],
   "source": [
    "# df_20g = ('/kaggle/input/mafaulda-bas/mafaulda_bas/overhang/ball_fault/20g')\n",
    "\n",
    "# df_normal = ('/kaggle/input/mafaulda-bas/mafaulda_bas/normal')\n",
    "\n",
    "# df_caminho_desbalanceado = ('/kaggle/input/mafaulda-bas/mafaulda_bas/imbalance/25g')"
   ]
  },
  {
   "cell_type": "markdown",
   "metadata": {},
   "source": [
    "### 1 - Leitura do Dset:"
   ]
  },
  {
   "cell_type": "code",
   "execution_count": 5,
   "metadata": {
    "execution": {
     "iopub.execute_input": "2025-06-16T23:18:11.264132Z",
     "iopub.status.busy": "2025-06-16T23:18:11.263529Z",
     "iopub.status.idle": "2025-06-16T23:18:11.269976Z",
     "shell.execute_reply": "2025-06-16T23:18:11.269027Z",
     "shell.execute_reply.started": "2025-06-16T23:18:11.264098Z"
    },
    "trusted": true
   },
   "outputs": [],
   "source": [
    "def carregar_dados_mafaulda(pasta, label):\n",
    "    arquivos = [f for f in os.listdir(pasta) if f.endswith('.csv')]\n",
    "    dados = []\n",
    "\n",
    "    # Define os tipos de dados para economizar memória.\n",
    "    # Colunas 0-7 são os sensores, vamos usar float32.\n",
    "    # A coluna 8 será o nosso rótulo, vamos usar int8 (que suporta valores de -128 a 127).\n",
    "    dtypes = {i: np.float32 for i in range(8)}\n",
    "\n",
    "    \n",
    "    for arq in arquivos:\n",
    "        try:\n",
    "            df = pd.read_csv(os.path.join(pasta, arq), header=None, skiprows=1, dtype=dtypes)\n",
    "            df['label'] = label\n",
    "            # Converte a coluna de rótulo para o menor tipo de inteiro possível\n",
    "            df['label'] = df['label'].astype(np.int8)\n",
    "            dados.append(df)\n",
    "        except Exception as e:\n",
    "            print(f\"Erro ao ler {arq}: {e}\")\n",
    "    return pd.concat(dados, ignore_index=True) if dados else None\n"
   ]
  },
  {
   "cell_type": "markdown",
   "metadata": {},
   "source": [
    "### Fluxo principal:"
   ]
  },
  {
   "cell_type": "code",
   "execution_count": 6,
   "metadata": {
    "execution": {
     "iopub.execute_input": "2025-06-16T23:19:07.928665Z",
     "iopub.status.busy": "2025-06-16T23:19:07.928321Z",
     "iopub.status.idle": "2025-06-16T23:19:31.260007Z",
     "shell.execute_reply": "2025-06-16T23:19:31.259272Z",
     "shell.execute_reply.started": "2025-06-16T23:19:07.928633Z"
    },
    "trusted": true
   },
   "outputs": [],
   "source": [
    "# Ajuste os caminhos conforme o seu ambiente no Kaggle:\n",
    "path_normal = \"C:/Files/mafaulda_bas/normal_small\"\n",
    "path_20g = \"C:/Files/mafaulda_bas/imbal_small/20g\"\n",
    "\n",
    "df_normal = carregar_dados_mafaulda(path_normal, label=0)\n",
    "df_20g = carregar_dados_mafaulda(path_20g, label=1)\n",
    "\n",
    "# Verifica se as classes têm amostras suficientes\n",
    "if df_normal is None or df_20g is None or len(df_normal) < 2 or len(df_20g) < 2:\n",
    "    raise ValueError(\"As duas classes precisam ter ao menos 2 amostras para classificação.\")\n"
   ]
  },
  {
   "cell_type": "code",
   "execution_count": 7,
   "metadata": {
    "trusted": true
   },
   "outputs": [
    {
     "name": "stdout",
     "output_type": "stream",
     "text": [
      "\n",
      "Concatenando os datasets...\n",
      "Limpando a memória dos dataframes individuais...\n",
      "\n",
      "Uso de memória do DataFrame final:\n",
      "<class 'pandas.core.frame.DataFrame'>\n",
      "RangeIndex: 24499902 entries, 0 to 24499901\n",
      "Data columns (total 5 columns):\n",
      " #   Column  Dtype  \n",
      "---  ------  -----  \n",
      " 0   0       float32\n",
      " 1   1       float32\n",
      " 2   2       float32\n",
      " 3   3       float32\n",
      " 4   label   int8   \n",
      "dtypes: float32(4), int8(1)\n",
      "memory usage: 397.2 MB\n"
     ]
    }
   ],
   "source": [
    "# Concatenar os dataframes\n",
    "print(\"\\nConcatenando os datasets...\")\n",
    "df = pd.concat([df_normal, df_20g], ignore_index=True)\n",
    "\n",
    "# 3. GERENCIAMENTO EXPLÍCITO DE MEMÓRIA \n",
    "print(\"Limpando a memória dos dataframes individuais...\")\n",
    "del df_normal\n",
    "del df_20g\n",
    "gc.collect() # Força a coleta de lixo\n",
    "\n",
    "# Mostra o uso de memória do DataFrame final\n",
    "print(\"\\nUso de memória do DataFrame final:\")\n",
    "df.info(memory_usage='deep')"
   ]
  },
  {
   "cell_type": "code",
   "execution_count": 8,
   "metadata": {
    "execution": {
     "iopub.execute_input": "2025-06-16T23:27:21.607141Z",
     "iopub.status.busy": "2025-06-16T23:27:21.606549Z",
     "iopub.status.idle": "2025-06-16T23:27:21.611604Z",
     "shell.execute_reply": "2025-06-16T23:27:21.610798Z",
     "shell.execute_reply.started": "2025-06-16T23:27:21.607107Z"
    },
    "trusted": true
   },
   "outputs": [],
   "source": [
    "# Vamos usar apenas a coluna de índice 2 (acelerômetro radial superior)\n",
    "X = df.iloc[:, 2].values.reshape(-1, 1)  # Coluna 2 (índice 2) como feature\n",
    "y = df['label'].values                   # Coluna criada de rótulo"
   ]
  },
  {
   "cell_type": "code",
   "execution_count": 9,
   "metadata": {
    "execution": {
     "iopub.execute_input": "2025-06-16T23:27:26.500331Z",
     "iopub.status.busy": "2025-06-16T23:27:26.499526Z",
     "iopub.status.idle": "2025-06-16T23:27:27.082809Z",
     "shell.execute_reply": "2025-06-16T23:27:27.082012Z",
     "shell.execute_reply.started": "2025-06-16T23:27:26.500295Z"
    },
    "trusted": true
   },
   "outputs": [
    {
     "name": "stdout",
     "output_type": "stream",
     "text": [
      "Distribuição de classes: {np.int8(0): np.int64(12249951), np.int8(1): np.int64(12249951)}\n"
     ]
    }
   ],
   "source": [
    "scaler = StandardScaler()\n",
    "X_scaled = scaler.fit_transform(X)\n",
    "\n",
    "# Conferir contagem de cada classe antes de dividir\n",
    "classes, counts = np.unique(y, return_counts=True)\n",
    "print(\"Distribuição de classes:\", dict(zip(classes, counts)))"
   ]
  },
  {
   "cell_type": "markdown",
   "metadata": {},
   "source": [
    "- A distribuição de classes mostra que o seu dataset está perfeitamente balanceado, com um número igual de amostras para cada classe. Esta é uma condição ideal para o treinamento de modelos de classificação, pois evita que o modelo se incline a prever a classe majoritária, o que poderia levar a um bom desempenho aparente, mas com baixa capacidade de generalização para a classe minoritária."
   ]
  },
  {
   "cell_type": "markdown",
   "metadata": {},
   "source": [
    "#### 2 - Pré-processamento:"
   ]
  },
  {
   "cell_type": "code",
   "execution_count": 10,
   "metadata": {
    "execution": {
     "iopub.execute_input": "2025-06-16T23:27:40.353862Z",
     "iopub.status.busy": "2025-06-16T23:27:40.353496Z",
     "iopub.status.idle": "2025-06-16T23:27:47.715090Z",
     "shell.execute_reply": "2025-06-16T23:27:47.714101Z",
     "shell.execute_reply.started": "2025-06-16T23:27:40.353819Z"
    },
    "trusted": true
   },
   "outputs": [],
   "source": [
    "# Normalização\n",
    "\n",
    "# Garantir que todas as classes têm pelo menos 2 amostras\n",
    "if np.min(counts) < 2:\n",
    "    raise ValueError(\"Alguma classe tem menos de 2 amostras. Não é possível fazer stratified split.\")\n",
    "\n",
    "X_train, X_test, y_train, y_test = train_test_split(\n",
    "    X_scaled, y, test_size=0.2, stratify=y, random_state=42\n",
    ")"
   ]
  },
  {
   "cell_type": "markdown",
   "metadata": {},
   "source": [
    "### - Treinamento:"
   ]
  },
  {
   "cell_type": "code",
   "execution_count": 11,
   "metadata": {
    "execution": {
     "iopub.execute_input": "2025-06-16T23:28:10.690324Z",
     "iopub.status.busy": "2025-06-16T23:28:10.689977Z",
     "iopub.status.idle": "2025-06-16T23:47:30.312710Z",
     "shell.execute_reply": "2025-06-16T23:47:30.311952Z",
     "shell.execute_reply.started": "2025-06-16T23:28:10.690295Z"
    },
    "trusted": true
   },
   "outputs": [],
   "source": [
    "# Treinamento e Validação:\n",
    "\n",
    "clf = RandomForestClassifier(n_estimators=1, random_state=42)\n",
    "clf.fit(X_train, y_train)\n",
    "y_pred = clf.predict(X_test)"
   ]
  },
  {
   "cell_type": "code",
   "execution_count": 12,
   "metadata": {
    "execution": {
     "iopub.execute_input": "2025-06-16T23:48:44.285507Z",
     "iopub.status.busy": "2025-06-16T23:48:44.285159Z",
     "iopub.status.idle": "2025-06-16T23:48:53.116808Z",
     "shell.execute_reply": "2025-06-16T23:48:53.115985Z",
     "shell.execute_reply.started": "2025-06-16T23:48:44.285477Z"
    },
    "trusted": true
   },
   "outputs": [
    {
     "name": "stdout",
     "output_type": "stream",
     "text": [
      "Acurácia SEM Kalman: 0.5324\n",
      "              precision    recall  f1-score   support\n",
      "\n",
      "           0       0.54      0.42      0.47   2449991\n",
      "           1       0.53      0.64      0.58   2449990\n",
      "\n",
      "    accuracy                           0.53   4899981\n",
      "   macro avg       0.53      0.53      0.53   4899981\n",
      "weighted avg       0.53      0.53      0.53   4899981\n",
      "\n"
     ]
    },
    {
     "data": {
      "image/png": "[encoded data removed]",
      "text/plain": [
       "<Figure size 800x600 with 2 Axes>"
      ]
     },
     "metadata": {},
     "output_type": "display_data"
    }
   ],
   "source": [
    "acc = accuracy_score(y_test, y_pred)\n",
    "print(f\"Acurácia SEM Kalman: {acc:.4f}\")\n",
    "print(classification_report(y_test, y_pred))\n",
    "\n",
    "plt.figure(figsize=(8,6))\n",
    "sns.heatmap(confusion_matrix(y_test, y_pred), annot=True, fmt=\"d\", cmap=\"Blues\")\n",
    "plt.title(\"Matriz de Confusão - Sem Kalman\")\n",
    "plt.xlabel(\"Predito\")\n",
    "plt.ylabel(\"Real\")\n",
    "plt.show()\n"
   ]
  },
  {
   "cell_type": "markdown",
   "metadata": {},
   "source": [
    "### - Reavaliação:"
   ]
  },
  {
   "cell_type": "code",
   "execution_count": 15,
   "metadata": {
    "execution": {
     "iopub.execute_input": "2025-06-16T23:50:13.938302Z",
     "iopub.status.busy": "2025-06-16T23:50:13.937590Z",
     "iopub.status.idle": "2025-06-16T23:50:13.944105Z",
     "shell.execute_reply": "2025-06-16T23:50:13.943047Z",
     "shell.execute_reply.started": "2025-06-16T23:50:13.938268Z"
    },
    "trusted": true
   },
   "outputs": [],
   "source": [
    "\"\"\"# Sua função de Filtro de Kalman\n",
    "def aplicar_kalman_coluna(coluna):\n",
    "    # Instancia o filtro para um sistema 1D\n",
    "    kf = KalmanFilter(dim_x=1, dim_z=1)\n",
    "    \n",
    "    # Define as matrizes do filtro\n",
    "    kf.x = np.array([[coluna]])  # Estado inicial\n",
    "    kf.F = np.array([[1.]])         # Matriz de transição de estado\n",
    "    kf.H = np.array([[1.]])         # Matriz de medição\n",
    "    kf.P *= 100                     # Covariância do erro inicial (incerteza inicial)\n",
    "    kf.R = 0.95                     # Covariância do ruído da medição\n",
    "    kf.Q = 0.00001                    # Covariância do ruído do processo\n",
    "\n",
    "    filtrado = []\n",
    "    for z in coluna:\n",
    "        kf.predict()\n",
    "        kf.update([z])\n",
    "        filtrado.append(kf.x)\n",
    "        \n",
    "    return np.array(filtrado).flatten() #.flatten() para garantir que seja 1D \n",
    "    \n",
    "    # 1. Seleciona a coluna do acelerômetro (coluna 5)\n",
    "col_raw = df.iloc[:, 2].values.reshape(-1, 1)  # Coluna 2 (índice 2) como feature\n",
    "# y = df['label'].values                   # Coluna criada de rótulo\n",
    "\n",
    "# 2. Aplica o filtro de Kalman sobre essa coluna\n",
    "col_filtrada = aplicar_kalman_coluna(col_raw).reshape(-1, 1)\n",
    "\n",
    "# 3. Normaliza a coluna filtrada\n",
    "scaler = StandardScaler()\n",
    "X = scaler.fit_transform(col_filtrada)\n",
    "\n",
    "# 4. Define os rótulos\n",
    "y = df['label'].values\n",
    "\n",
    "\"\"\""
   ]
  },
  {
   "cell_type": "code",
   "execution_count": 13,
   "metadata": {
    "execution": {
     "iopub.execute_input": "2025-06-17T00:04:38.491637Z",
     "iopub.status.busy": "2025-06-17T00:04:38.491305Z",
     "iopub.status.idle": "2025-06-17T00:17:34.232944Z",
     "shell.execute_reply": "2025-06-17T00:17:34.231892Z",
     "shell.execute_reply.started": "2025-06-17T00:04:38.491608Z"
    },
    "trusted": true
   },
   "outputs": [],
   "source": [
    "from filterpy.kalman import KalmanFilter\n",
    "import numpy as np\n",
    "from sklearn.preprocessing import StandardScaler\n",
    "\n",
    "# Função de Filtro de Kalman corrigida\n",
    "def aplicar_kalman_coluna(coluna):\n",
    "    # Instancia o filtro para um sistema 1D\n",
    "    kf = KalmanFilter(dim_x=1, dim_z=1)\n",
    "    \n",
    "    # Define as matrizes do filtro\n",
    "    kf.x = np.array([[0.]])  # Estado inicial (valor neutro)\n",
    "    kf.F = np.array([[1.]])  # Matriz de transição de estado\n",
    "    kf.H = np.array([[1.]])  # Matriz de medição\n",
    "    kf.P *= 100             # Covariância do erro inicial\n",
    "    kf.R = 0.95             # Covariância do ruído da medição\n",
    "    kf.Q = 0.00001          # Covariância do ruído do processo\n",
    "\n",
    "    filtrado = []\n",
    "    for z in coluna.flatten():  # Achatando a coluna para evitar problemas dimensionais\n",
    "        kf.predict()\n",
    "        kf.update([z])\n",
    "        filtrado.append(kf.x[0, 0])  # Armazena apenas o valor escalar do estado\n",
    "    \n",
    "    return np.array(filtrado).reshape(-1, 1)\n",
    "\n",
    "# 1. Seleciona a coluna do acelerômetro (coluna 2, corrigido de 5)\n",
    "col_raw = df.iloc[:, 3].values.reshape(-1, 1)  # Coluna 2 como feature (ajuste se necessário)\n",
    "\n",
    "# 2. Aplica o filtro de Kalman sobre essa coluna\n",
    "col_filtrada = aplicar_kalman_coluna(col_raw)\n",
    "\n",
    "# 3. Normaliza a coluna filtrada\n",
    "scaler = StandardScaler()\n",
    "X = scaler.fit_transform(col_filtrada)\n",
    "\n",
    "# 4. Define os rótulos\n",
    "y = df['label'].values"
   ]
  },
  {
   "cell_type": "code",
   "execution_count": 19,
   "metadata": {
    "execution": {
     "iopub.execute_input": "2025-06-17T00:19:51.508648Z",
     "iopub.status.busy": "2025-06-17T00:19:51.508290Z",
     "iopub.status.idle": "2025-06-17T00:19:51.847051Z",
     "shell.execute_reply": "2025-06-17T00:19:51.846076Z",
     "shell.execute_reply.started": "2025-06-17T00:19:51.508617Z"
    },
    "trusted": true
   },
   "outputs": [
    {
     "name": "stdout",
     "output_type": "stream",
     "text": [
      "Distribuição de classes: {0: 12249951, 1: 12249951}\n"
     ]
    }
   ],
   "source": [
    "# Conferir contagem de cada classe antes de dividir\n",
    "classes, counts = np.unique(y, return_counts=True)\n",
    "print(\"Distribuição de classes:\", dict(zip(classes, counts)))"
   ]
  },
  {
   "cell_type": "code",
   "execution_count": 21,
   "metadata": {
    "execution": {
     "iopub.execute_input": "2025-06-17T00:20:15.854917Z",
     "iopub.status.busy": "2025-06-17T00:20:15.854568Z",
     "iopub.status.idle": "2025-06-17T00:20:23.324630Z",
     "shell.execute_reply": "2025-06-17T00:20:23.323961Z",
     "shell.execute_reply.started": "2025-06-17T00:20:15.854886Z"
    },
    "trusted": true
   },
   "outputs": [],
   "source": [
    "# Normalização\n",
    "from sklearn.preprocessing import StandardScaler\n",
    "from sklearn.model_selection import train_test_split\n",
    "\n",
    "# Garantir que todas as classes têm pelo menos 2 amostras\n",
    "if np.min(counts) < 2:\n",
    "    raise ValueError(\"Alguma classe tem menos de 2 amostras. Não é possível fazer stratified split.\")\n",
    "\n",
    "X_train, X_test, y_train, y_test = train_test_split(\n",
    "    X_scaled, y, test_size=0.2, stratify=y, random_state=42)"
   ]
  },
  {
   "cell_type": "code",
   "execution_count": 25,
   "metadata": {
    "execution": {
     "iopub.execute_input": "2025-06-17T00:40:45.655281Z",
     "iopub.status.busy": "2025-06-17T00:40:45.654478Z",
     "iopub.status.idle": "2025-06-17T00:55:40.441889Z",
     "shell.execute_reply": "2025-06-17T00:55:40.440628Z",
     "shell.execute_reply.started": "2025-06-17T00:40:45.655243Z"
    },
    "trusted": true
   },
   "outputs": [
    {
     "name": "stdout",
     "output_type": "stream",
     "text": [
      "Acurácia SEM Kalman: 0.5347\n",
      "              precision    recall  f1-score   support\n",
      "\n",
      "           0       0.55      0.41      0.47   2449991\n",
      "           1       0.53      0.66      0.59   2449990\n",
      "\n",
      "    accuracy                           0.53   4899981\n",
      "   macro avg       0.54      0.53      0.53   4899981\n",
      "weighted avg       0.54      0.53      0.53   4899981\n",
      "\n"
     ]
    },
    {
     "data": {
      "image/png": "[encoded data removed]",
      "text/plain": [
       "<Figure size 800x600 with 2 Axes>"
      ]
     },
     "metadata": {},
     "output_type": "display_data"
    }
   ],
   "source": [
    "# Treinamento e Validação:\n",
    "\n",
    "clf = RandomForestClassifier(n_estimators=15, random_state=42)\n",
    "# clf = RandomForestClassifier(n_estimators=100, random_state=42)\n",
    "clf.fit(X_train, y_train)\n",
    "y_pred = clf.predict(X_test)\n",
    "\n",
    "acc = accuracy_score(y_test, y_pred)\n",
    "print(f\"Acurácia SEM Kalman: {acc:.4f}\")\n",
    "print(classification_report(y_test, y_pred))\n",
    "\n",
    "plt.figure(figsize=(8,6))\n",
    "sns.heatmap(confusion_matrix(y_test, y_pred), annot=True, fmt=\"d\", cmap=\"Blues\")\n",
    "plt.title(\"Matriz de Confusão - Com Kalman\")\n",
    "plt.xlabel(\"Predito\")\n",
    "plt.ylabel(\"Real\")\n",
    "plt.show()"
   ]
  },
  {
   "cell_type": "code",
   "execution_count": 27,
   "metadata": {
    "execution": {
     "iopub.execute_input": "2025-06-17T00:59:36.519227Z",
     "iopub.status.busy": "2025-06-17T00:59:36.518611Z",
     "iopub.status.idle": "2025-06-17T00:59:36.524439Z",
     "shell.execute_reply": "2025-06-17T00:59:36.523455Z",
     "shell.execute_reply.started": "2025-06-17T00:59:36.519194Z"
    },
    "trusted": true
   },
   "outputs": [],
   "source": [
    "def plotar_matriz_confusao(y_true, y_pred, class_names):\n",
    "    \"\"\"Plota a matriz de confusão de forma visual.\"\"\"\n",
    "    cm = confusion_matrix(y_true, y_pred)\n",
    "    plt.figure(figsize=(8, 6))\n",
    "    sns.heatmap(cm, annot=True, fmt='d', cmap='Blues', \n",
    "                xticklabels=class_names, yticklabels=class_names)\n",
    "    plt.title('Matriz de Confusão', fontsize=14)\n",
    "    plt.ylabel('Classe Verdadeira (True Label)', fontsize=12)\n",
    "    plt.xlabel('Classe Prevista (Predicted Label)', fontsize=12)\n",
    "    plt.show()"
   ]
  },
  {
   "cell_type": "code",
   "execution_count": null,
   "metadata": {
    "trusted": true
   },
   "outputs": [],
   "source": [
    "# 1. Carregar os dados\n",
    "path_normal = \"/kaggle/input/mafaulda-bas/mafaulda_bas/normal\"\n",
    "path_20g = \"/kaggle/input/mafaulda-bas/mafaulda_bas/imbalance/20g\"\n",
    "\n",
    "df_normal = carregar_dados_mafaulda(path_normal, label=0)\n",
    "df_20g = carregar_dados_mafaulda(path_20g, label=1)\n",
    "\n",
    "# Verifica se as classes têm amostras suficientes\n",
    "if df_normal is None or df_20g is None or len(df_normal) < 2 or len(df_20g) < 2:\n",
    "    raise ValueError(\"As duas classes precisam ter ao menos 2 amostras para classificação.\")\n",
    "\n",
    "df = pd.concat([df_normal, df_20g], ignore_index=True)"
   ]
  },
  {
   "cell_type": "code",
   "execution_count": null,
   "metadata": {
    "trusted": true
   },
   "outputs": [],
   "source": [
    "# 2. Extrair features e rótulos\n",
    "X_raw = df.iloc[:, 5].values  # Coluna 5 (índice 5) como feature, ainda como um vetor 1D\n",
    "y = df['label'].values        # Coluna criada de rótulo\n",
    "\n",
    "# 3. APLICAR O FILTRO DE KALMAN\n",
    "# O filtro é aplicado aqui, nos dados brutos, antes da normalização.\n",
    "print(\"Aplicando o Filtro de Kalman aos dados...\")\n",
    "X_filtrado = aplicar_kalman_coluna(X_raw)\n",
    "print(\"Filtragem concluída.\")\n"
   ]
  },
  {
   "cell_type": "code",
   "execution_count": null,
   "metadata": {
    "trusted": true
   },
   "outputs": [],
   "source": [
    "# Agora, X passa a ser o sinal filtrado para o resto do processo\n",
    "X = X_filtrado.reshape(-1, 1)\n",
    "\n",
    "# 4. Normalização dos dados (agora sobre os dados filtrados)\n",
    "scaler = StandardScaler()\n",
    "X_scaled = scaler.fit_transform(X)\n",
    "\n",
    "# 5. Divisão em treino e teste\n",
    "# Conferir contagem de cada classe antes de dividir\n",
    "classes, counts = np.unique(y, return_counts=True)\n",
    "print(\"Distribuição de classes:\", dict(zip(classes, counts)))\n",
    "\n",
    "# Garantir que todas as classes têm pelo menos 2 amostras\n",
    "if np.min(counts) < 2:\n",
    "    raise ValueError(\"Alguma classe tem menos de 2 amostras. Não é possível fazer stratified split.\")\n",
    "\n",
    "X_train, X_test, y_train, y_test = train_test_split(\n",
    "    X_scaled, y, test_size=0.2, stratify=y, random_state=42\n",
    ")"
   ]
  },
  {
   "cell_type": "code",
   "execution_count": null,
   "metadata": {
    "trusted": true
   },
   "outputs": [],
   "source": [
    "\n",
    "# 6. Treinamento e Avaliação do Modelo RandomForestClassifier\n",
    "print(\"\\nTreinando o modelo RandomForestClassifier com dados filtrados pelo Kalman...\")\n",
    "clf = RandomForestClassifier(n_estimators=20, random_state=42)\n",
    "clf.fit(X_train, y_train)\n",
    "y_pred = clf.predict(X_test)\n",
    "\n",
    "\n",
    "# 7. Apresentar Resultados Completos\n",
    "print(\"\\n--- Resultados COM Filtro de Kalman (Usando RandomForest) ---\")\n",
    "print(f\"Acurácia COM Kalman: {accuracy_score(y_test, y_pred):.4f}\")\n",
    "\n",
    "# INCLUSÃO DAS MÉTRICAS VISUAIS E DETALHADAS\n",
    "class_names =\n",
    "plotar_matriz_confusao(y_test, y_pred, class_names)\n",
    "\n",
    "print(\"\\nRelatório de Classificação Detalhado:\")\n",
    "print(classification_report(y_test, y_pred, target_names=class_names))"
   ]
  },
  {
   "cell_type": "code",
   "execution_count": null,
   "metadata": {
    "trusted": true
   },
   "outputs": [],
   "source": [
    "\n",
    "# Definição da função no início do script\n",
    "def plotar_matriz_confusao(y_true, y_pred, class_names):\n",
    "    \"\"\"Plota a matriz de confusão de forma visual.\"\"\"\n",
    "    cm = confusion_matrix(y_true, y_pred)\n",
    "    plt.figure(figsize=(8, 6))\n",
    "    sns.heatmap(cm, annot=True, fmt='d', cmap='Blues', \n",
    "                xticklabels=class_names, yticklabels=class_names)\n",
    "    plt.title('Matriz de Confusão', fontsize=10)\n",
    "    plt.ylabel('Classe Verdadeira (True Label)', fontsize=10)\n",
    "    plt.xlabel('Classe Prevista (Predicted Label)', fontsize=10)\n",
    "    plt.show()\n"
   ]
  },
  {
   "cell_type": "code",
   "execution_count": null,
   "metadata": {
    "trusted": true
   },
   "outputs": [],
   "source": [
    "acc_kalman = accuracy_score(y_test, y_pred_kalman)\n",
    "print(f\"Acurácia COM Kalman: {acc_kalman:.4f}\")\n",
    "print(classification_report(y_test, y_pred_kalman))\n",
    "\n",
    "plt.figure(figsize=(8,6))\n",
    "sns.heatmap(confusion_matrix(y_test, y_pred_kalman), annot=True, fmt=\"d\", cmap=\"Greens\")\n",
    "plt.title(\"Matriz de Confusão - Com Kalman\")\n",
    "plt.xlabel(\"Predito\")\n",
    "plt.ylabel(\"Real\")\n",
    "plt.show()\n"
   ]
  },
  {
   "cell_type": "code",
   "execution_count": null,
   "metadata": {
    "trusted": true
   },
   "outputs": [],
   "source": [
    "print(f\"Melhoria com Kalman: {acc_kalman - acc:.4f}\")\n"
   ]
  },
  {
   "cell_type": "code",
   "execution_count": null,
   "metadata": {
    "trusted": true
   },
   "outputs": [],
   "source": []
  },
  {
   "cell_type": "code",
   "execution_count": null,
   "metadata": {
    "trusted": true
   },
   "outputs": [],
   "source": []
  },
  {
   "cell_type": "code",
   "execution_count": null,
   "metadata": {
    "trusted": true
   },
   "outputs": [],
   "source": [
    "# Lista para armazenar os DataFrames\n",
    "dataframes = []\n",
    "\n",
    "# Verifica se o caminho fornecido é um diretório válido\n",
    "if os.path.isdir(df_normal):\n",
    "    # Iterar pelos arquivos no diretório\n",
    "    for filename in os.listdir(df_normal):\n",
    "        # AQUI ESTÁ A CORREÇÃO: use 'endswith' em vez de 'endswitch'\n",
    "        if filename.endswith(\".csv\"): \n",
    "            file_path = os.path.join(df_normal, filename)\n",
    "            \n",
    "            try:\n",
    "                # Lendo o arquivo CSV, pulando a primeira linha (cabeçalho).\n",
    "                # O parâmetro skiprows=1 é a chave para resolver o problema do 'object' dtype.\n",
    "                df = pd.read_csv(file_path, sep=',', header=None, skiprows=1)\n",
    "                dataframes.append(df)\n",
    "            except Exception as e:\n",
    "                print(f\"Não foi possível ler o arquivo {filename}: {e}\")\n",
    "\n",
    "\n",
    "    if dataframes:\n",
    "        #Concatenando os dataframes em um único:\n",
    "        df_normal_concat = pd.concat(dataframes, ignore_index=True)\n",
    "\n",
    "        # Mostrando as primeiras linhas e tipos de dados:\n",
    "        print(\"__Dataframe combinado (df_20g_concat) ___\")\n",
    "        print(df_normal_concat.head())\n",
    "        print(\"\\n--- Tipos de dados (dtypes) ---\")\n",
    "        print(df_normal_concat.dtypes)\n",
    "    else:\n",
    "        print(\"Não houve leitura de arquivos\")\n",
    "else:\n",
    "    print(f\"diretório df_20g não encontrado: {df_normal}\")\n",
    "\n",
    "\n",
    "\"\"\"# Iterar pelos arquivos no diretório\n",
    "for filename in os.listdir(df_20g):\n",
    "    file_path = os.path.join(df_20g, filename)  # Caminho completo do arquivo\n",
    "    df = pd.read_csv(file_path, sep=',', header=None)  # Lendo o arquivo CSV\n",
    "    dataframes.append(df)  # Adicionando o DataFrame à lista dataframes\n",
    "\n",
    "# Concatenando todos os DataFrames em um único DataFrame\n",
    "df_20g_conc = pd.concat(dataframes, ignore_index=True)\n",
    "\n",
    "# Mostrando as primeiras linhas do DataFrame combinado\n",
    "print(df_20g_conc.head()) \"\"\""
   ]
  },
  {
   "cell_type": "code",
   "execution_count": null,
   "metadata": {
    "_kg_hide-input": false,
    "_kg_hide-output": false,
    "trusted": true
   },
   "outputs": [],
   "source": [
    "\"\"\"def load_data(dir_10g):\n",
    "    # Lista para armazenar os DataFrames\n",
    "    dataframes = []\n",
    "\n",
    "    # Iterar pelos arquivos no diretório\n",
    "    for filename in os.listdir(dir_10g):\n",
    "        file_path = os.path.join(dir_10g, filename)  # Caminho completo do arquivo\n",
    "        df = pd.read_csv(file_path, sep=',', header=None)  # Lendo o arquivo CSV\n",
    "        dataframes.append(df)  # Adicionando o DataFrame à lista\n",
    "\n",
    "    # Concatenar todos os DataFrames em um único DataFrame\n",
    "    all_data = pd.concat(dataframes, ignore_index=True)\n",
    "\n",
    "    # Supondo que a última coluna seja a de rótulos (y) e o resto são features (X)\n",
    "    X = all_data.iloc[:, :-1]  # Todas as colunas, exceto a última, são as features\n",
    "    y = all_data.iloc[:, -1]   # A última coluna é o rótulo (classe)\n",
    "    \n",
    "    return X, y\"\"\"\n",
    "\n",
    "\n"
   ]
  },
  {
   "cell_type": "markdown",
   "metadata": {},
   "source": [
    "- Supondo ultima coluna como rotulos ou classes (y) e as demais como features (X):"
   ]
  },
  {
   "cell_type": "code",
   "execution_count": null,
   "metadata": {
    "trusted": true
   },
   "outputs": [],
   "source": [
    "X = df_20g_concat.iloc[:, :-1]   # Seleciona todas as linhas ':' e exclui a última coluna ':-1'\n",
    "y = df_20g_concat.iloc[:, -1]    # Seleciona todas as linhas ':' e a última coluna ':-1'"
   ]
  },
  {
   "cell_type": "code",
   "execution_count": null,
   "metadata": {
    "trusted": true
   },
   "outputs": [],
   "source": [
    "print(\"X df_normal_20g:\\n\", X.head(), \"\\nX dtypes:\\n\", X.dtypes)"
   ]
  },
  {
   "cell_type": "code",
   "execution_count": null,
   "metadata": {
    "trusted": true
   },
   "outputs": [],
   "source": [
    "print(\"y df_normal_20g:\\n\", y.head(), \"\\n y dtypes:\\n\", y.dtypes)"
   ]
  },
  {
   "cell_type": "markdown",
   "metadata": {},
   "source": [
    "- É um comportamento esperado do pandas. Essa linha não se refere a uma coluna específica do seu DataFrame. Ela descreve o tipo de dados da própria lista de tipos que está sendo exibida. Como a lista contém vários objetos de tipo float64 e outros, o pandas a classifica como uma série de tipo object.\n",
    "- fit (Ajustar/Aprender): A primeira parte, fit, \"olha\" para cada coluna (cada sensor), calcula a média (μ) e o desvio padrão (σ) daquela coluna específica, aprendendo os parâmetros de distribuição dos dados."
   ]
  },
  {
   "cell_type": "code",
   "execution_count": null,
   "metadata": {
    "trusted": true
   },
   "outputs": [],
   "source": [
    "# Função para normalizar os dados. preprocess_data padroniza os dados antes de entregá-los ao modelo para tr\n",
    "def preprocess_data(X):              # X  é o conjunto de dados de entrada (as leituras dos 8 sensores de vibração\n",
    "    scaler = StandardScaler()        # classe da bibl. scikit-learn para padronização. Transforma os dados para média=0 e d_p =1.\n",
    "    X_scaled_out = scaler.fit_transform(X)\n",
    "    return X_scaled_out"
   ]
  },
  {
   "cell_type": "markdown",
   "metadata": {},
   "source": [
    "- Para que este código seja executável de forma independente, vamos criar um 'X' de exemplo.\n",
    "- Caso não exista podemos ignorar ou remover este bloco 'if'."
   ]
  },
  {
   "cell_type": "markdown",
   "metadata": {},
   "source": [
    "### Tacômetro"
   ]
  },
  {
   "cell_type": "code",
   "execution_count": null,
   "metadata": {
    "trusted": true
   },
   "outputs": [],
   "source": [
    "print(\"\\n1. Aplicando a normalização (StandardScaler) aos dados de X...\")\n",
    "X_scaled = preprocess_data(X)\n",
    "print(\"   'X_scaled' foi criado com sucesso!\")\n",
    "print(f\"   Formato do X_scaled: {X_scaled.shape}, Tipo: {type(X_scaled)}\")\n",
    "print('-----------------------------------------')\n",
    "# VISUALIZAR OS DADOS NORMALIZADOS\n",
    "print(\"\\n2. Gerando gráficos para visualização...\")\n",
    "\n",
    "sensor_a_visualizar = 0 \n",
    "raw_tac_signal = X.iloc[:, sensor_a_visualizar].values\n",
    "scaled_tac_signal = X_scaled[:, sensor_a_visualizar]\n",
    "\n",
    "# --- Gráfico 1: Comparação do Sinal no Tempo ---\n",
    "plt.figure(figsize=(16, 8))\n",
    "\n",
    "# Gráfico do sinal original\n",
    "plt.subplot(2, 1, 1)\n",
    "plt.plot(raw_tac_signal, label=f'Sinal Original Tacômetro (Sensor {sensor_a_visualizar})', color='blue', alpha=0.4)\n",
    "plt.title(f'Sinal Original do Tacômetro {sensor_a_visualizar}', fontsize=10)\n",
    "plt.ylabel('Amplitude Original do Tacômetro', fontsize=10)\n",
    "plt.legend()\n",
    "plt.grid(True, linestyle='--', alpha=0.4)\n",
    "\n",
    "# Gráfico do sinal normalizado\n",
    "plt.subplot(2, 1, 2)\n",
    "plt.plot(scaled_tac_signal, label=f'Sinal Normalizado (Tacômetro {sensor_a_visualizar})', color='red', alpha=0.4)\n",
    "plt.title(f'Sinal Normalizado do Tacômetro {sensor_a_visualizar} (Média ≈ 0, Desvio Padrão = 1)', fontsize=10)\n",
    "plt.xlabel('Amostra no Tempo', fontsize=10)\n",
    "plt.ylabel('Amplitude Normalizada do Tacômetro', fontsize=10)\n",
    "plt.legend()\n",
    "plt.grid(True, linestyle='--', alpha=0.4)\n",
    "\n",
    "plt.tight_layout()\n",
    "plt.show()"
   ]
  },
  {
   "cell_type": "code",
   "execution_count": null,
   "metadata": {
    "trusted": true
   },
   "outputs": [],
   "source": [
    "# --- Gráfico 2: Comparação da Distribuição dos Dados (Histograma) ---\n",
    "plt.figure(figsize=(16, 6))\n",
    "\n",
    "# Histograma do sinal original\n",
    "plt.subplot(1, 2, 1)\n",
    "sns.histplot(raw_tac_signal, kde=True, color='blue', bins=50)\n",
    "plt.title(f'Distribuição Original do Tacômetro (Sensor {sensor_a_visualizar})', fontsize=10)\n",
    "plt.xlabel('Tempo (amostragem)', fontsize=10)\n",
    "plt.ylabel('Amplitude original (1x106)', fontsize=10)\n",
    "plt.grid(True, linestyle='--', alpha=0.4)\n",
    "\n",
    "# Histograma do sinal normalizado\n",
    "plt.subplot(1, 2, 2)\n",
    "sns.histplot(scaled_tac_signal, kde=True, color='red', bins=50)\n",
    "plt.title(f'Distribuição Normalizada do Tacômetro (Sensor {sensor_a_visualizar})', fontsize=10)\n",
    "plt.xlabel('Tempo (amostragem) Normalizado', fontsize=10)\n",
    "plt.ylabel('Amplitude normalizada (1x106)', fontsize=10)\n",
    "plt.grid(True, linestyle='--', alpha=0.4)\n",
    "\n",
    "plt.tight_layout()\n",
    "plt.show()\n",
    "\n",
    "print(\"\\nVisualização concluída.\")"
   ]
  },
  {
   "cell_type": "code",
   "execution_count": null,
   "metadata": {
    "trusted": true
   },
   "outputs": [],
   "source": [
    "# 2. VISUALIZAR OS DADOS NORMALIZADOS (COM ZOOM)\n",
    "print(\"\\n2. Gerando gráficos para visualização...\")\n",
    "\n",
    "# Escolha qual coluna do sensor (0 a 7) você quer visualizar\n",
    "sensor_a_visualizar = 0 \n",
    "# Define o número de amostras para o \"zoom\" para melhor visualização\n",
    "# num_amostras_plot = 1500\n",
    "num_amostras_plot = 5000\n",
    "\n",
    "# Pega todos os dados da coluna do sensor escolhido\n",
    "raw_tac_signal = X.iloc[:, sensor_a_visualizar].values\n",
    "scaled_tac_signal = X_scaled[:, sensor_a_visualizar]\n",
    "\n",
    "# --- Gráfico 1: Comparação do Sinal no Tempo (com zoom) ---\n",
    "plt.figure(figsize=(16, 8))\n",
    "\n",
    "# Gráfico do sinal original (zoom)\n",
    "plt.subplot(2, 1, 1)\n",
    "# Plota apenas as primeiras 'num_amostras_plot' amostras para dilatar o eixo X\n",
    "plt.plot(raw_tac_signal[:num_amostras_plot], label=f'Sinal Original (Tacômetro {sensor_a_visualizar})', color='blue', alpha=0.4)\n",
    "plt.title(f'Sinal Original do Tacômetror {sensor_a_visualizar} (Zoom nas primeiras {num_amostras_plot} amostras)', fontsize=10)\n",
    "plt.ylabel('Amplitude Original (1x106)', fontsize=10)\n",
    "plt.legend()\n",
    "plt.grid(True, linestyle='--', alpha=0.6)\n",
    "\n",
    "# Gráfico do sinal normalizado (zoom)\n",
    "plt.subplot(2, 1, 2)\n",
    "# Plota apenas as primeiras 'num_amostras_plot' amostras\n",
    "plt.plot(scaled_tac_signal[:num_amostras_plot], label=f'Sinal Normalizado (Tacômetro {sensor_a_visualizar})', color='red', alpha=0.4)\n",
    "plt.title(f'Sinal Normalizado do Tacômetro {sensor_a_visualizar} (Média ≈ 0, Desvio Padrão = 1)', fontsize=10)\n",
    "plt.xlabel(f'Amostras (0 a {num_amostras_plot})', fontsize=10)\n",
    "plt.ylabel('Amplitude Normalizada (1x106)', fontsize=10)\n",
    "plt.legend()\n",
    "plt.grid(True, linestyle='--', alpha=0.6)\n",
    "\n",
    "plt.tight_layout()\n",
    "plt.show()\n",
    "\n",
    "# --- Gráfico 2: Comparação da Distribuição dos Dados (usando o sinal completo) ---\n",
    "plt.figure(figsize=(16, 6))\n",
    "\n",
    "# Histograma do sinal original\n",
    "plt.subplot(1, 2, 1)\n",
    "sns.histplot(raw_tac_signal, kde=True, color='blue', bins=50)\n",
    "plt.title(f'Distribuição do Sinal Original (Tacômetro {sensor_a_visualizar})', fontsize=10)\n",
    "plt.xlabel('Amplitude', fontsize=10)\n",
    "plt.ylabel('Contagem', fontsize=10)\n",
    "plt.grid(True, linestyle='--', alpha=0.5)\n",
    "\n",
    "# Histograma do sinal normalizado\n",
    "plt.subplot(1, 2, 2)\n",
    "sns.histplot(scaled_tac_signal, kde=True, color='red', bins=50)\n",
    "plt.title(f'Distribuição do Sinal Normalizado (Tacômetro {sensor_a_visualizar})', fontsize=10)\n",
    "plt.xlabel('Amplitude Normalizada (1x106)', fontsize=10)\n",
    "plt.ylabel('Contagem', fontsize=10)\n",
    "plt.grid(True, linestyle='--', alpha=0.5)\n",
    "\n",
    "plt.tight_layout()\n",
    "plt.show()\n",
    "\n",
    "print(\"\\nVisualização concluída.\")"
   ]
  },
  {
   "cell_type": "markdown",
   "metadata": {},
   "source": [
    "- \"Contagem\" significa a frequência ou o número de vezes que um determinado valor de amplitude ocorreu no seu conjunto de dados.\n",
    "- A linha azul contínua (chamada de KDE - Kernel Density Estimate) é uma versão suavizada do histograma. O pico dessa linha mostra qual é o valor de amplitude mais comum em todo o conjunto de dados."
   ]
  },
  {
   "cell_type": "markdown",
   "metadata": {},
   "source": [
    "### Analisando a categoria Normal"
   ]
  },
  {
   "cell_type": "markdown",
   "metadata": {},
   "source": [
    "- Análise no Domínio do Tempo (Sincronização e Visualização): Primeiro, vamos plotar o sinal de vibração do acelerômetro contra uma base de tempo real em segundos e, ao mesmo tempo, usar o tacômetro para calcular a rotação exata da máquina (RPM) naquele ensaio.\n",
    "- Análise no Domínio da Frequência (Objetivo): Em seguida, usaremos a Transformada Rápida de Fourier (FFT) para converter o sinal de vibração do domínio do tempo para o domínio da frequência. É aqui que a \"assinatura\" do desbalanceamento se tornará visível e quantificável.\n",
    "- o sinal do tacômetro nos dá a base de tempo (a rotação da máquina), e o sinal do acelerômetro nos dá a vibração.\n",
    "- Categoria Normal já carregada anteriormente."
   ]
  },
  {
   "cell_type": "code",
   "execution_count": null,
   "metadata": {
    "trusted": true
   },
   "outputs": [],
   "source": [
    "import os\n",
    "# Lista para armazenar os DataFrames\n",
    "dataframes = []\n",
    "\n",
    "# Verifica se o caminho fornecido é um diretório válido\n",
    "if os.path.isdir(df_normal):\n",
    "    # Iterar pelos arquivos no diretório\n",
    "    for filename in os.listdir(df_normal):\n",
    "        # AQUI ESTÁ A CORREÇÃO: use 'endswith' em vez de 'endswitch'\n",
    "        if filename.endswith(\".csv\"): \n",
    "            file_path = os.path.join(df_normal, filename)\n",
    "            \n",
    "            try:\n",
    "                # Lendo o arquivo CSV, pulando a primeira linha (cabeçalho).\n",
    "                # O parâmetro skiprows=1 é a chave para resolver o problema do 'object' dtype.\n",
    "                df = pd.read_csv(file_path, sep=',', header=None, skiprows=1)\n",
    "                dataframes.append(df)\n",
    "            except Exception as e:\n",
    "                print(f\"Não foi possível ler o arquivo {filename}: {e}\")\n",
    "\n",
    "\n",
    "    if dataframes:\n",
    "        #Concatenando os dataframes em um único:\n",
    "        df_normal_concat = pd.concat(dataframes, ignore_index=True)\n",
    "\n",
    "        # Mostrando as primeiras linhas e tipos de dados:\n",
    "        print(\"__Dataframe combinado (df_normal_concat) ___\")\n",
    "        print(df_normal_concat.head())\n",
    "        print(\"\\n--- Tipos de dados (dtypes) ---\")\n",
    "        print(df_normal_concat.dtypes)\n",
    "    else:\n",
    "        print(\"Não houve leitura de arquivos\")\n",
    "else:\n",
    "    print(f\"diretório df_20g não encontrado: {df_normal}\")\n"
   ]
  },
  {
   "cell_type": "code",
   "execution_count": null,
   "metadata": {
    "trusted": true
   },
   "outputs": [],
   "source": [
    "COLUNA_TACOMETRO = 0\n",
    "# Coluna do acelerômetro radial do overhang (sexta coluna, índice 5)\n",
    "COLUNA_ACELEROMETRO = 5 \n",
    "\n",
    "# Parâmetros do dataset MAFAULDA\n",
    "TAXA_AMOSTRAGEM = 50000  # 50 kHz\n",
    "DURACAO_ENSAIO_S = 5    # 5 segundos"
   ]
  },
  {
   "cell_type": "code",
   "execution_count": null,
   "metadata": {
    "trusted": true
   },
   "outputs": [],
   "source": [
    "# --- FUNÇÃO PARA ANÁLISE E PLOTAGEM ---\n",
    "def analisar_sinal_temporal(caminho_arquivo, nome_condicao):\n",
    "    \"\"\"\n",
    "    Carrega, analisa e plota o sinal de vibração e calcula o RPM a partir do tacômetro.\n",
    "    \"\"\"\n",
    "    if not os.path.exists(caminho_arquivo):\n",
    "        print(f\"AVISO: Arquivo não encontrado: {caminho_arquivo}\")\n",
    "        return None, None\n",
    "\n",
    "    print(f\"\\n--- Analisando Condição: {nome_condicao} ---\")\n",
    "    \n",
    "    # Carrega o arquivo CSV, pulando a linha de cabeçalho se houver\n",
    "    df = pd.read_csv(caminho_arquivo, header=None, skiprows=1)\n",
    "\n",
    "    # Extrai os sinais do acelerômetro e do tacômetro\n",
    "    sinal_acelerometro = df.values\n",
    "    sinal_tacometro = df.values\n"
   ]
  },
  {
   "cell_type": "code",
   "execution_count": null,
   "metadata": {
    "trusted": true
   },
   "outputs": [],
   "source": [
    "# --- Cálculo do RPM a partir do Tacômetro ---\n",
    "# O tacômetro gera um pulso por rotação. Contamos os pulsos.\n",
    "# Um pulso é detectado quando o sinal cruza um limiar (ex: valor 2.5) para cima.\n",
    "limiar_pulso = 2.5\n",
    "pulsos = np.where((sinal_tacometro[:-1] < limiar_pulso) & (sinal_tacometro[1:] >= limiar_pulso))\n",
    "num_pulsos = len(pulsos)\n",
    "    \n",
    "# Calcula RPM (Rotações por Minuto)\n",
    "rpm = (num_pulsos / DURACAO_ENSAIO_S) * 60\n",
    "print(f\"RPM Calculado: {rpm:.2f}\")\n"
   ]
  },
  {
   "cell_type": "code",
   "execution_count": null,
   "metadata": {
    "trusted": true
   },
   "outputs": [],
   "source": [
    "\n",
    "# --- Plotagem do Sinal de Vibração ---\n",
    "    # Cria o eixo de tempo em segundos\n",
    "num_amostras = len(sinal_acelerometro)\n",
    "eixo_tempo_s = np.linspace(0, DURACAO_ENSAIO_S, num_amostras)\n",
    "    \n",
    "    # Zoom para visualizar melhor a forma de onda (primeiras 2000 amostras)\n",
    "amostras_plot = 2000\n",
    "\n",
    "plt.figure(figsize=(15, 5))\n",
    "plt.plot(eixo_tempo_s[:amostras_plot], sinal_acelerometro[:amostras_plot], label=f'Sinal do Acelerômetro (Sensor {COLUNA_ACELEROMETRO})')\n",
    "plt.title(f'Sinal de Vibração no Domínio do Tempo - Condição: {nome_condicao} (RPM: {rpm:.0f})', fontsize=14)\n",
    "plt.xlabel('Tempo (segundos)', fontsize=12)\n",
    "plt.ylabel('Amplitude da Vibração', fontsize=12)\n",
    "plt.legend()\n",
    "plt.grid(True, linestyle='--', alpha=0.7)\n",
    "plt.show()\n",
    "    \n",
    "return sinal_acelerometro, rpm\n",
    "\n",
    "# --- EXECUÇÃO ---\n",
    "sinal_normal, rpm_normal = analisar_sinal_temporal(caminho_normal, \"Normal\")\n",
    "sinal_desbalanceado, rpm_desbalanceado = analisar_sinal_temporal(caminho_desbalanceado, \"Desbalanceamento 20g\")"
   ]
  },
  {
   "cell_type": "code",
   "execution_count": null,
   "metadata": {
    "trusted": true
   },
   "outputs": [],
   "source": [
    "from tensorflow.keras.applications import EfficientNetB0\n",
    "\n",
    "def build_model(input_shape, output_size):\n",
    "    # Inicializa o modelo EfficientNetB0\n",
    "    base_model = EfficientNetB0(input_shape=input_shape, include_top=False, weights='imagenet')\n",
    "    base_model.trainable = False  # Congelar as camadas da base para transferência de aprendizado\n",
    "\n",
    "    # Adiciona camadas personalizadas ao modelo\n",
    "    model = models.Sequential([\n",
    "        base_model,\n",
    "        layers.GlobalAveragePooling2D(),  # Para agregar as características\n",
    "        layers.Dense(64, activation='relu'),  # Camada densa com ativação ReLU\n",
    "        layers.Dense(output_size, activation='softmax')  # Camada de saída com softmax para classificação\n",
    "    ])\n",
    "    \n",
    "    return model\n",
    "\n",
    "\"\"\"# Definições de entrada e número de classes\n",
    "input_shape = (32, 32, 3)  # Dimensões de entrada\n",
    "output_size = 8  # Número de classes (ajuste conforme necessário)\n",
    "\n",
    "# Construindo o modelo\n",
    "model = build_model(input_shape, output_size)\n",
    "optimizer = tf.keras.optimizers.Adam(learning_rate=learning_rate)\n",
    "loss_fn = tf.keras.losses.SparseCategoricalCrossentropy()\n",
    "\n",
    "# Resumo do modelo\n",
    "model.summary()\"\"\""
   ]
  },
  {
   "cell_type": "code",
   "execution_count": null,
   "metadata": {
    "trusted": true
   },
   "outputs": [],
   "source": [
    "# Função para treinar o modelo com Soft-DTW\n",
    "\"\"\"def train_model_with_soft_dtw(X_train, y_train, X_test, y_test, num_epochs=2, learning_rate=0.0001):\n",
    "    input_shape = (32, 32, 3)  # Ajuste para a entrada do modelo EfficientNetB0\n",
    "    output_size = len(np.unique(y_train))  # Número de classes\n",
    "    \n",
    "    # Convertendo dados para TensorFlow Tensors\n",
    "    X_train_tensor = tf.convert_to_tensor(X_train.reshape(-1, 32, 32, 3), dtype=tf.float32)  # Redimensionar\n",
    "    y_train_tensor = tf.convert_to_tensor(y_train, dtype=tf.int32)\n",
    "    X_test_tensor = tf.convert_to_tensor(X_test.reshape(-1, 32, 32, 3), dtype=tf.float32)  # Redimensionar\n",
    "    y_test_tensor = tf.convert_to_tensor(y_test, dtype=tf.int32)\n",
    "\n",
    "    # Inicializando o modelo\n",
    "    model = build_model(input_shape, output_size)  #Atribuindo model a uma var.\n",
    "    optimizer = tf.keras.optimizers.Adam(learning_rate=learning_rate)\n",
    "    loss_fn = tf.keras.losses.SparseCategoricalCrossentropy()\n",
    "\n",
    "    # Inicializando o Soft-DTW\n",
    "    soft_dtw = SoftDTW(gamma=0.1)  # Ajustar gamma conforme necessário\n",
    "\n",
    "    history = {'loss': [], 'accuracy': [], 'error': []}  # Para armazenar as perdas e acurácia\n",
    "\n",
    "    # Loop de treinamento\n",
    "    for epoch in range(num_epochs):\n",
    "        with tf.GradientTape() as tape:\n",
    "            # Predição do modelo\n",
    "            predictions = model(X_train_tensor)  # Predição\n",
    "            # Cálculo da perda de entropia cruzada\n",
    "            loss_ce = loss_fn(y_train_tensor, predictions)\n",
    "            # Cálculo da perda Soft-DTW\n",
    "            loss_dtw = soft_dtw(X_train_tensor, predictions)\n",
    "            # Perda total (entropia cruzada + Soft-DTW)\n",
    "            total_loss = loss_ce + loss_dtw\n",
    "\n",
    "        # Backpropagation\n",
    "        gradients = tape.gradient(total_loss, model.trainable_variables)\n",
    "        optimizer.apply_gradients(zip(gradients, model.trainable_variables))\n",
    "\n",
    "        # Armazenando a perda, acurácia e erro para cada época\n",
    "        history['loss'].append(total_loss.numpy())\n",
    "        accuracy = accuracy_score(np.argmax(predictions.numpy(), axis=1), y_train)\n",
    "        history['accuracy'].append(accuracy)\n",
    "        history['error'].append(1 - accuracy)  # Calculando o erro como 1 - acurácia\n",
    "\n",
    "        print(f'Epoch {epoch+1}/{num_epochs}, Loss: {total_loss.numpy()}, Accuracy: {accuracy:.2f}, Error: {1 - accuracy:.2f}')\n",
    "\n",
    "    return history\"\"\""
   ]
  },
  {
   "cell_type": "code",
   "execution_count": null,
   "metadata": {
    "trusted": true
   },
   "outputs": [],
   "source": [
    "# Definindo variáveis necessárias\n",
    "num_epochs = 2  # Número de épocas para o treinamento\n",
    "learning_rate = 0.0001  # Taxa de aprendizado\n",
    "input_shape = (32, 32, 3)  # Ajuste para a entrada do modelo EfficientNetB0\n",
    "output_size = len(np.unique(y_train))  # Número de classes\n",
    "\n",
    "# Convertendo dados para Tensores do TensorFlow\n",
    "X_train_tensor = tf.convert_to_tensor(X_train, dtype=tf.float32)  # Não há reshaping necessário\n",
    "y_train_tensor = tf.convert_to_tensor(y_train, dtype=tf.int32)\n",
    "X_test_tensor = tf.convert_to_tensor(X_test, dtype=tf.float32)  # Não há reshaping necessário\n",
    "y_test_tensor = tf.convert_to_tensor(y_test, dtype=tf.int32)\n",
    "\n",
    "# Inicializando o modelo\n",
    "model = build_model(input_shape, output_size)  # Atribuindo model a uma var.\n",
    "optimizer = tf.keras.optimizers.Adam(learning_rate=learning_rate)  # Inicializando o otimizador\n",
    "loss_fn = tf.keras.losses.SparseCategoricalCrossentropy()  # Função de perda\n",
    "\n",
    "# Inicializando o Soft-DTW\n",
    "D = np.zeros((len(X_train_tensor), len(X_train_tensor)))  # Defina a matriz de distância corretamente\n",
    "soft_dtw = SoftDTW(gamma=0.1, D=D)  # Ajustar gamma conforme necessário\n",
    "\n",
    "# Para armazenar as perdas e acurácia\n",
    "#history = {'loss': [], 'accuracy': [], 'error': []}\n",
    "\n",
    "# Loop de treinamento\n",
    "# Loop de treinamento\n",
    "for epoch in range(num_epochs):\n",
    "    with tf.GradientTape() as tape:\n",
    "        # Predição do modelo\n",
    "        predictions = model(X_train_tensor)\n",
    "        # Cálculo da perda de entropia cruzada\n",
    "        loss_ce = loss_fn(y_train_tensor, predictions)\n",
    "        # Cálculo da perda Soft-DTW (calculando conforme necessário, não usando uma matriz D)\n",
    "        loss_dtw = soft_dtw(X_train_tensor, predictions)  # Isso deve ser implementado para calcular distâncias sob demanda\n",
    "        \n",
    "        # Calcular a perda Soft-DTW sob demanda\n",
    "        loss_dtw = sum(soft_dtw(X_train_tensor[i], predictions[i]) for i in range(len(X_train_tensor)))\n",
    "        \n",
    "        # Perda total\n",
    "        total_loss = loss_ce + loss_dtw\n",
    "\n",
    "    # Backpropagation\n",
    "    gradients = tape.gradient(total_loss, model.trainable_variables)\n",
    "    optimizer.apply_gradients(zip(gradients, model.trainable_variables))\n",
    "\n",
    "    # Armazenando a perda, acurácia e erro para cada época\n",
    "    history['loss'].append(total_loss.numpy())\n",
    "    accuracy = accuracy_score(np.argmax(predictions.numpy(), axis=1), y_train)\n",
    "    history['accuracy'].append(accuracy)\n",
    "    history['error'].append(1 - accuracy)\n",
    "\n",
    "    print(f'Epoch {epoch+1}/{num_epochs}, Loss: {total_loss.numpy()}, Accuracy: {accuracy:.2f}, Error: {1 - accuracy:.2f}')"
   ]
  },
  {
   "cell_type": "code",
   "execution_count": null,
   "metadata": {
    "trusted": true
   },
   "outputs": [],
   "source": [
    "# Definindo variáveis necessárias\n",
    "num_epochs = 2  # Número de épocas para o treinamento\n",
    "learning_rate = 0.0001  # Taxa de aprendizado\n",
    "input_shape = (32, 32, 3)  # Ajuste para a entrada do modelo EfficientNetB0\n",
    "output_size = len(np.unique(y_train))  # Número de classes\n",
    "\n",
    "# Verificando se os dados têm o formato adequado antes de redimensionar\n",
    "if X_train.shape[1] == 32 * 32 * 3:\n",
    "    X_train_tensor = tf.convert_to_tensor(X_train.reshape(-1, 32, 32, 3), dtype=tf.float32)  # Redimensionar\n",
    "else:\n",
    "    raise ValueError(f\"X_train deve ter {32 * 32 * 3} características, mas tem {X_train.shape[1]}.\")\n",
    "\n",
    "if X_test.shape[1] == 32 * 32 * 3:\n",
    "    X_test_tensor = tf.convert_to_tensor(X_test.reshape(-1, 32, 32, 3), dtype=tf.float32)  # Redimensionar\n",
    "else:\n",
    "    raise ValueError(f\"X_test deve ter {32 * 32 * 3} características, mas tem {X_test.shape[1]}.\")\n",
    "\n",
    "# Convertendo y_train e y_test para tensores\n",
    "y_train_tensor = tf.convert_to_tensor(y_train, dtype=tf.int32)\n",
    "y_test_tensor = tf.convert_to_tensor(y_test, dtype=tf.int32)\n"
   ]
  },
  {
   "cell_type": "markdown",
   "metadata": {},
   "source": [
    "Implicações de Usar training=True\n",
    "Camadas de Dropout: Se você estiver utilizando camadas de dropout no seu modelo, elas funcionarão de maneira diferente. Durante o treinamento, dropout desativa aleatoriamente uma fração das unidades (neurônios) para ajudar a prevenir overfitting. Quando training=True, algumas unidades serão desativadas, enquanto training=False garante que todas as unidades estão ativas, permitindo que o modelo faça previsões consistentes.\n",
    "\n",
    "Normalização: Se você estiver usando camadas de normalização, como Batch Normalization, a média e a variância usadas para normalizar as entradas durante o treinamento diferem das usadas durante a inferência. Com training=True, as estatísticas da mini-batch serão usadas, enquanto training=False usará as médias e variâncias acumuladas durante o treinamento.\n",
    "\n",
    "Logo, usar training=True geralmente é apropriado durante o processo de treinamento do modelo, mas não deve ser usado quando você está avaliando o modelo ou fazendo previsões. Para garantir que você obtenha resultados consistentes e previsíveis ao avaliar ou prever, deve-se usar training=False."
   ]
  },
  {
   "cell_type": "code",
   "execution_count": null,
   "metadata": {
    "trusted": true
   },
   "outputs": [],
   "source": [
    "# Avaliação no conjunto de teste\n",
    "predictions_test = model(X_test_tensor, training=False)\n",
    "predicted_classes = np.argmax(predictions_test.numpy(), axis=1)"
   ]
  },
  {
   "cell_type": "code",
   "execution_count": null,
   "metadata": {
    "trusted": true
   },
   "outputs": [],
   "source": [
    "\n",
    "\n",
    "accuracy = accuracy_score(y_test, predicted_classes)\n",
    "print(f'Accuracy on test data: {accuracy:.4f}')\n",
    "\n",
    "    # Matriz de Confusão e Relatório de Classificação\n",
    "print(\"\\nMatriz de Confusão:\")\n",
    "conf_matrix = confusion_matrix(y_test, predicted_classes)\n",
    "\n",
    "plt.figure(figsize=(10, 7))\n",
    "sns.heatmap(conf_matrix, annot=True, fmt=\"d\", cmap=\"Blues\", \n",
    "            xticklabels=np.unique(y_train), yticklabels=np.unique(y_train))\n",
    "\n",
    "plt.title(\"Matriz de Confusão\")\n",
    "plt.xlabel(\"Predicted\")\n",
    "plt.ylabel(\"True\")\n",
    "plt.show()\n",
    "\n",
    "# Relatório de Classificação\n",
    "print(\"\\nRelatório de Classificação:\")\n",
    "print(classification_report(y_test, predicted_classes))\n",
    "\n"
   ]
  },
  {
   "cell_type": "code",
   "execution_count": null,
   "metadata": {
    "trusted": true
   },
   "outputs": [],
   "source": [
    "\n",
    " # Pipeline principal\n",
    "# X, y = load_mafaulda_dataset()\n",
    "X, y = load_data(data_dict) \n",
    "X = preprocess_data(X)\n",
    "X_train, X_test, y_train, y_test = train_test_split(X, y, test_size=0.2, random_state=42)\n",
    "\n",
    "# Treinar o modelo com Soft-DTW no TensorFlow\n",
    "history = train_model_with_soft_dtw(X_train, y_train, X_test, y_test)\n",
    "\n",
    "\n",
    "    # Avaliação no conjunto de teste\n",
    "predictions_test = model(X_test_tensor)\n",
    "predicted_classes = np.argmax(predictions_test, axis=1)\n",
    "accuracy = accuracy_score(y_test, predicted_classes)\n",
    "print(f'Accuracy on test data: {accuracy:.2f}')\n",
    "\n",
    "    "
   ]
  },
  {
   "cell_type": "code",
   "execution_count": null,
   "metadata": {
    "trusted": true
   },
   "outputs": [],
   "source": [
    "# Matriz de Confusão e Relatório de Classificação\n",
    "print(\"\\nMatriz de Confusão:\")\n",
    "conf_matrix = confusion_matrix(y_test, predicted_classes)\n",
    "sns.heatmap(conf_matrix, annot=True, fmt=\"d\", cmap=\"Blues\", xticklabels=np.unique(y_train), yticklabels=np.unique(y_train))\n",
    "plt.title(\"Matriz de Confusão\")\n",
    "plt.xlabel(\"Predicted\")\n",
    "plt.ylabel(\"True\")\n",
    "plt.show()\n",
    "\n",
    "print(\"\\nRelatório de Classificação:\")\n",
    "print(classification_report(y_test, predicted_classes))\n",
    "\n",
    "\n",
    "\n",
    "\n",
    "plt.figure(figsize=(18, 5))\n",
    "\n",
    "plt.subplot(1, 3, 1)\n",
    "plt.plot(history['loss'], label='Perda')\n",
    "plt.title('Perda ao longo das Épocas')\n",
    "plt.xlabel('Épocas')\n",
    "plt.ylabel('Perda')\n",
    "plt.legend()\n",
    "\n",
    "    # Plotando a acurácia\n",
    "plt.subplot(1, 3, 2)\n",
    "plt.plot(history['accuracy'], label='Acurácia')\n",
    "plt.title('Acurácia ao longo das Épocas')\n",
    "plt.xlabel('Épocas')\n",
    "plt.ylabel('Acurácia')\n",
    "plt.legend()\n",
    "\n",
    "    # Plotando o erro\n",
    "plt.subplot(1, 3, 3)\n",
    "plt.plot(history['error'], label='Erro', color='red')\n",
    "plt.title('Erro ao longo das Épocas')\n",
    "plt.xlabel('Épocas')\n",
    "plt.ylabel('Erro')\n",
    "plt.legend()\n",
    "\n",
    "plt.show()\n",
    "\n",
    "\n",
    "\n",
    "# Plotar as curvas de perda, acurácia e erro\n",
    "plot_history(history)"
   ]
  },
  {
   "cell_type": "code",
   "execution_count": null,
   "metadata": {
    "trusted": true
   },
   "outputs": [],
   "source": [
    "# Avaliação no conjunto de teste\n",
    "predictions_test = model(X_test_tensor, training=False)  # Previsão no conjunto de teste\n",
    "predicted_classes = np.argmax(predictions_test.numpy(), axis=1)  # Classes previstas\n",
    "\n",
    "# Cálculo da acurácia\n",
    "accuracy = accuracy_score(y_test, predicted_classes)\n",
    "print(f'Accuracy on test data: {accuracy:.2f}')\n",
    "\n",
    "# Matriz de Confusão e Relatório de Classificação\n",
    "print(\"\\nMatriz de Confusão:\")\n",
    "conf_matrix = confusion_matrix(y_test, predicted_classes)\n",
    "\n",
    "# Visualização da Matriz de Confusão\n",
    "plt.figure(figsize=(10, 7))\n",
    "sns.heatmap(conf_matrix, annot=True, fmt=\"d\", cmap=\"Blues\", \n",
    "            xticklabels=np.unique(y_train), yticklabels=np.unique(y_train))\n",
    "plt.title(\"Matriz de Confusão\")\n",
    "plt.xlabel(\"Predicted\")\n",
    "plt.ylabel(\"True\")\n",
    "plt.show()\n",
    "\n",
    "# Relatório de Classificação\n",
    "print(\"\\nRelatório de Classificação:\")\n",
    "print(classification_report(y_test, predicted_classes))"
   ]
  }
 ],
 "metadata": {
  "kaggle": {
   "accelerator": "nvidiaTeslaT4",
   "dataSources": [
    {
     "datasetId": 7677394,
     "sourceId": 12188821,
     "sourceType": "datasetVersion"
    }
   ],
   "dockerImageVersionId": 30787,
   "isGpuEnabled": true,
   "isInternetEnabled": true,
   "language": "python",
   "sourceType": "notebook"
  },
  "kernelspec": {
   "display_name": "math",
   "language": "python",
   "name": "python3"
  },
  "language_info": {
   "codemirror_mode": {
    "name": "ipython",
    "version": 3
   },
   "file_extension": ".py",
   "mimetype": "text/x-python",
   "name": "python",
   "nbconvert_exporter": "python",
   "pygments_lexer": "ipython3",
   "version": "3.13.3"
  }
 },
 "nbformat": 4,
 "nbformat_minor": 4
}
