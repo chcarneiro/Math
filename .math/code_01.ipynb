{
 "cells": [
  {
   "cell_type": "markdown",
   "id": "84d845eb",
   "metadata": {},
   "source": [
    "Data analysis for normal data¶\n",
    "Database load and additional data calculation\n",
    "Legend according to MAFAULDA docs:\n",
    "end: https://www02.smt.ufrj.br/~offshore/mfs/page_01.html\n",
    "\n",
    "- Column 1: tachometer signal that allows to estimate rotation frequency in RPM;\n",
    "- Columns 2 to 4: underhang bearing accelerometer (axial, radiale tangential direction) in gravity;\n",
    "- Columns 5 to 7: overhang bearing accelerometer (axial, radiale tangential direction) in gravity;\n",
    "- Column 8: microphone in dB.\n",
    "- Custom columns:\n",
    "\n",
    "- Column 9: rotation frequency converted to Hertz;\n",
    "- Column 10: rotation period in seconds;\n",
    "- Column 11: timedelta between readings in seconds;\n",
    "- Column 12: instant angular velocity in rad/s;\n",
    "- Column 13: numerical fault classification.\n",
    "- Custom classification column legend:\n",
    "\n",
    "* 0: normal;\n",
    "* 1: horizontal misalignment;\n",
    "* 2: vertical misalignment;\n",
    "* 3: imbalance;"
   ]
  },
  {
   "cell_type": "code",
   "execution_count": 1,
   "id": "88c41772",
   "metadata": {},
   "outputs": [],
   "source": [
    "# ipkernel também deve estar instalado, pelo prompt do terminal e na venv criada.\n",
    "# pip install ipykernel\n",
    "# python -m ipykernel install --user --name=venv --display-name \"venv\"\n",
    "\n",
    "import numpy as np\n",
    "import matplotlib.pyplot as plt\n",
    "import pandas as pd\n",
    "import glob\n",
    "import os "
   ]
  },
  {
   "cell_type": "code",
   "execution_count": 2,
   "id": "d35111a0",
   "metadata": {},
   "outputs": [],
   "source": [
    "cur_path_10 = 'C:/Files/mafaulda_imbal/10g/*.csv' # caminho para os arquivos .csv\n",
    "cur_path_25 = 'C:/Files/mafaulda_imbal/25g/*.csv' # caminho para os arquivos .csv\n",
    "# cur_path = 'c:\\Files\\mafaulda_imbal'     error de sintaxe no windows"
   ]
  },
  {
   "cell_type": "code",
   "execution_count": 3,
   "id": "d9b71432",
   "metadata": {},
   "outputs": [],
   "source": [
    "files_10 = glob.glob(cur_path_10) # lista de arquivos .csv\n",
    "dfs_10=[]\n",
    "for f in files_10:\n",
    "    df_10 = pd.read_csv(f, sep=';', decimal=',')\n",
    "    #agora, converter colunas com strings separadas por vírgula em múltiplas colunas\n",
    "    for col_10 in df_10.columns:\n",
    "        if df_10[col_10].dtype == 'object':             #separar strings em colunas diferentes\n",
    "            try:\n",
    "                df_10[col_10] = df_10[col_10].str.split(',', expand=True).astype('float32')\n",
    "            except:\n",
    "                continue\n",
    "    dfs_10.append(df_10) #adiciona o dataframe à lista de dataframes\n",
    "    \n",
    "df_10 = pd.concat(dfs_10, ignore_index=True) #concatena os dataframes em um só], \n"
   ]
  },
  {
   "cell_type": "markdown",
   "id": "3aeadf1e",
   "metadata": {},
   "source": [
    "#### Explicação: O código lê múltiplos arquivos CSV, separa colunas com strings (como '1.2,3.4') em várias colunas numéricas (float32), e concatena tudo em um único DataFrame.\n",
    "\n",
    "**files_10 = glob.glob(cur_path_10)**\n",
    "- Usa a biblioteca glob para listar todos os arquivos .csv no caminho especificado **cur_path_10**.\n",
    "\n",
    "- **cur_path_10** é uma string (ex.: 'C:/Files/mafaulda_imbal/10g/*.csv') onde *.csv indica todos os arquivos CSV na pasta.\n",
    "\n",
    "- **files_10** será uma lista com os caminhos dos arquivos CSV.\n",
    "\n",
    "- **dfs_10 = []** Cria uma lista vazia dfs_10 para armazenar os DataFrames processados de cada arquivo CSV.\n",
    "\n",
    "- **for f in files_10** inicia um loop que itera sobre cada arquivo CSV listado em **files_10**, onde f representa o caminho de um arquivo CSV por iteração.\n",
    "\n",
    "- **df_10 = pd.read_csv(f, sep=';', decimal=',')**\n",
    "    - Lê o arquivo CSV atual (f) usando **pandas.read_csv**.\n",
    "    - **sep=';'** define o separador como ponto e vírgula.\n",
    "    - **decimal=','** indica que a vírgula é o separador decimal (ex.: 1,5 vira 1.5).\n",
    "    - O resultado é um DataFrame chamado **df_10**.\n",
    "\n",
    "- **for col_10 in df_10.columns:**\n",
    "Itera sobre todas as colunas do DataFrame **df_10**. O **col_10** é o nome de uma coluna por iteração.\n",
    "\n",
    "- **if df_10[col_10].dtype == 'object':**\n",
    "Verifica se o tipo de dados da coluna **col_10** é **'object'** (geralmente strings). Isso identifica colunas que podem conter strings separadas por vírgulas (ex.: '1.2,3.4,5.6').\n",
    "\n",
    "- **try:**\n",
    "Inicia um bloco try-except para lidar com possíveis erros durante a conversão.\n",
    "\n",
    "- **df_10[col_10] = df_10[col_10].str.split(',', expand=True).astype('float32')**\n",
    "    - **df_10[col_10].str.split(',', expand=True)**: Divide a string da coluna em várias colunas com base na vírgula (ex.: '1.2,3.4,5.6' vira colunas [1.2, 3.4, 5.6]).\n",
    "    -**expand=True** cria novas colunas para cada valor separado.\n",
    "    - **.astype('float32')**: Converte os valores resultantes para o tipo float32.\n",
    "\n",
    "- **except:** Havendo erro na conversão para float32 o bloco except ignora o erro e continua o loop.\n",
    "\n",
    "- **dfs_10.append(df_10)**: Adiciona o DataFrame processado df_10 à lista dfs_10.\n",
    "\n",
    "- **df_10 = pd.concat(dfs_10, ignore_index=True)**\n",
    "    - Concatena todos os DataFrames da lista **dfs_10** em um único DataFrame chamado **df_10**.\n",
    "    - **ignore_index=True** reseta os índices para que sejam contínuos no DataFrame final.\n",
    "\n",
    "\n"
   ]
  },
  {
   "cell_type": "code",
   "execution_count": 4,
   "id": "015834bf",
   "metadata": {},
   "outputs": [],
   "source": [
    "files_25 = glob.glob(cur_path_25) # lista de arquivos .csv\n",
    "dfs_25=[]\n",
    "for f in files_25:\n",
    "    df_25 = pd.read_csv(f, sep=';', decimal=',')\n",
    "    #agora, converter colunas com strings separadas por vírgula em múltiplas colunas\n",
    "    for col_25 in df_25.columns:\n",
    "        if df_25[col_25].dtype == 'object':             #separar strings em colunas diferentes\n",
    "            try:\n",
    "                df_25[col_25] = df_25[col_25].str.split(',', expand=True).astype('float32')\n",
    "            except:\n",
    "                continue\n",
    "    dfs_25.append(df_25) #adiciona o dataframe à lista de dataframes\n",
    "df_25 = pd.concat(dfs_25, ignore_index=True) #concatena os dataframes em um só],"
   ]
  },
  {
   "cell_type": "code",
   "execution_count": 7,
   "id": "5c93f56b",
   "metadata": {},
   "outputs": [
    {
     "name": "stdout",
     "output_type": "stream",
     "text": [
      "Total de arquivos CSV: 48\n"
     ]
    }
   ],
   "source": [
    "counts_df_10 = len(list(glob.glob(cur_path_10)))\n",
    "print('Total de arquivos CSV:', counts_df_10)"
   ]
  },
  {
   "cell_type": "code",
   "execution_count": 8,
   "id": "8ed240ca",
   "metadata": {},
   "outputs": [
    {
     "name": "stdout",
     "output_type": "stream",
     "text": [
      "Total de arquivos CSV: 47\n"
     ]
    }
   ],
   "source": [
    "counts_df_25 = len(list(glob.glob(cur_path_25)))\n",
    "print('Total de arquivos CSV:', counts_df_25)"
   ]
  },
  {
   "cell_type": "code",
   "execution_count": null,
   "id": "29f3d2cc",
   "metadata": {},
   "outputs": [],
   "source": []
  },
  {
   "cell_type": "code",
   "execution_count": null,
   "id": "3faa03e9",
   "metadata": {},
   "outputs": [],
   "source": []
  },
  {
   "cell_type": "code",
   "execution_count": null,
   "id": "0811b0f3",
   "metadata": {},
   "outputs": [],
   "source": []
  }
 ],
 "metadata": {
  "kernelspec": {
   "display_name": "venv",
   "language": "python",
   "name": "venv"
  },
  "language_info": {
   "codemirror_mode": {
    "name": "ipython",
    "version": 3
   },
   "file_extension": ".py",
   "mimetype": "text/x-python",
   "name": "python",
   "nbconvert_exporter": "python",
   "pygments_lexer": "ipython3",
   "version": "3.13.3"
  }
 },
 "nbformat": 4,
 "nbformat_minor": 5
}
