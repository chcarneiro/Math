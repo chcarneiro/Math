{
 "cells": [
  {
   "cell_type": "markdown",
   "metadata": {},
   "source": [
    "The database is composed by several CSV (Comma-Separated Values) files, each one with 8 columns, one column for each sensor, according to:\n",
    "\n",
    "column 1 tachometer signal that allows to estimate rotation frequency;\n",
    "\n",
    "columns 2 to 4 underhang bearing accelerometer (axial, radiale tangential direction);\n",
    "\n",
    "columns 5 to 7 overhang bearing accelerometer (axial, radiale tangential direction);\n",
    "\n",
    "column 8 microphone.\n",
    "\n",
    "source: https://www02.smt.ufrj.br/~offshore/mfs/page_01.html\n",
    "\n",
    "Nesse projeto eliminamos as colunas 1,2,3,7 de cada arquivo csv. Restaram as leituras do tacômetro e do acelerômetro triaxial em 4, 5 e 6 (ax, rd and tan):\n",
    "\n",
    "0 - Tachometer. 1 - Axial direct. 2 - radial direct. 3 - tangential direct.\n",
    "\n",
    "According to the description of the columns there are not one two radial orthogonal accelerometers. Thus, it is not possible to observe the movement orbit of the rotating machine.\n",
    "\n",
    "On the other hand, perhaps the tangential accelerometer is also moving radially, therefore orthogonal to the radial accelerometer.\n",
    "\n",
    "Soft-DTW é uma função de perda diferenciável usada em análise de séries temporais, baseada no Dynamic Time Warping (DTW). Permite comparar séries de tamanhos variáveis, é robusta a deslocamentos e dilatações no tempo, e pode ser usada em aprendizado de máquina para tarefas como média, clustering e previsão.\n"
   ]
  },
  {
   "cell_type": "code",
   "execution_count": null,
   "metadata": {
    "execution": {
     "iopub.execute_input": "2025-06-16T12:34:35.137611Z",
     "iopub.status.busy": "2025-06-16T12:34:35.137211Z",
     "iopub.status.idle": "2025-06-16T12:35:17.425800Z",
     "shell.execute_reply": "2025-06-16T12:35:17.424401Z",
     "shell.execute_reply.started": "2025-06-16T12:34:35.137576Z"
    },
    "trusted": true
   },
   "outputs": [],
   "source": [
    "pip install soft-dtw"
   ]
  },
  {
   "cell_type": "code",
   "execution_count": 1,
   "metadata": {
    "execution": {
     "iopub.execute_input": "2025-06-16T12:35:22.238839Z",
     "iopub.status.busy": "2025-06-16T12:35:22.237703Z",
     "iopub.status.idle": "2025-06-16T12:35:31.868696Z",
     "shell.execute_reply": "2025-06-16T12:35:31.867156Z",
     "shell.execute_reply.started": "2025-06-16T12:35:22.238768Z"
    },
    "trusted": true
   },
   "outputs": [
    {
     "name": "stdout",
     "output_type": "stream",
     "text": [
      "Name: soft-dtw\n",
      "Version: 0.1.6\n",
      "Summary: Python implementation of soft-DTW\n",
      "Home-page: https://github.com/mblondel/soft-dtw/\n",
      "Author: \n",
      "Author-email: \n",
      "License: Simplified BSD\n",
      "Location: d:\\Jupyter\\Math\\math\\Lib\\site-packages\n",
      "Requires: chainer, cython, numpy, scikit-learn, scipy\n",
      "Required-by: \n",
      "Note: you may need to restart the kernel to use updated packages.\n"
     ]
    }
   ],
   "source": [
    "pip show soft-dtw"
   ]
  },
  {
   "cell_type": "code",
   "execution_count": null,
   "metadata": {
    "execution": {
     "iopub.execute_input": "2025-06-16T14:26:54.637978Z",
     "iopub.status.busy": "2025-06-16T14:26:54.637447Z",
     "iopub.status.idle": "2025-06-16T14:27:08.185154Z",
     "shell.execute_reply": "2025-06-16T14:27:08.183677Z",
     "shell.execute_reply.started": "2025-06-16T14:26:54.637934Z"
    },
    "trusted": true
   },
   "outputs": [],
   "source": [
    "!pip install filterpy"
   ]
  },
  {
   "cell_type": "code",
   "execution_count": 2,
   "metadata": {
    "execution": {
     "iopub.execute_input": "2025-06-16T14:27:21.555669Z",
     "iopub.status.busy": "2025-06-16T14:27:21.555216Z",
     "iopub.status.idle": "2025-06-16T14:27:31.404666Z",
     "shell.execute_reply": "2025-06-16T14:27:31.403115Z",
     "shell.execute_reply.started": "2025-06-16T14:27:21.555625Z"
    },
    "trusted": true
   },
   "outputs": [
    {
     "name": "stdout",
     "output_type": "stream",
     "text": [
      "Name: filterpy\n",
      "Version: 1.4.5\n",
      "Summary: Kalman filtering and optimal estimation library\n",
      "Home-page: https://github.com/rlabbe/filterpy\n",
      "Author: Roger Labbe\n",
      "Author-email: rlabbejr@gmail.com\n",
      "License: MIT\n",
      "Location: d:\\Jupyter\\Math\\math\\Lib\\site-packages\n",
      "Requires: matplotlib, numpy, scipy\n",
      "Required-by: \n",
      "Note: you may need to restart the kernel to use updated packages.\n"
     ]
    }
   ],
   "source": [
    "pip show filterpy"
   ]
  },
  {
   "cell_type": "code",
   "execution_count": 3,
   "metadata": {
    "_cell_guid": "b1076dfc-b9ad-4769-8c92-a6c4dae69d19",
    "_uuid": "8f2839f25d086af736a60e9eeb907d3b93b6e0e5",
    "execution": {
     "iopub.execute_input": "2025-06-16T14:39:12.220148Z",
     "iopub.status.busy": "2025-06-16T14:39:12.219658Z",
     "iopub.status.idle": "2025-06-16T14:39:12.227513Z",
     "shell.execute_reply": "2025-06-16T14:39:12.226187Z",
     "shell.execute_reply.started": "2025-06-16T14:39:12.220109Z"
    },
    "trusted": true
   },
   "outputs": [],
   "source": [
    "import os\n",
    "import numpy as np\n",
    "import pandas as pd\n",
    "import matplotlib.pyplot as plt\n",
    "import seaborn as sns\n",
    "\n",
    "from sklearn.model_selection import train_test_split\n",
    "from sklearn.preprocessing import StandardScaler\n",
    "from sklearn.ensemble import RandomForestClassifier\n",
    "from sklearn.metrics import classification_report, confusion_matrix, accuracy_score\n",
    "\n",
    "from filterpy.kalman import KalmanFilter\n",
    "\n",
    "sns.set(style='whitegrid')\n",
    "\n"
   ]
  },
  {
   "cell_type": "markdown",
   "metadata": {},
   "source": [
    "### Normal"
   ]
  },
  {
   "cell_type": "code",
   "execution_count": null,
   "metadata": {
    "execution": {
     "iopub.execute_input": "2025-06-16T14:23:12.613573Z",
     "iopub.status.busy": "2025-06-16T14:23:12.613176Z",
     "iopub.status.idle": "2025-06-16T14:23:12.619481Z",
     "shell.execute_reply": "2025-06-16T14:23:12.618123Z",
     "shell.execute_reply.started": "2025-06-16T14:23:12.613537Z"
    },
    "trusted": true
   },
   "outputs": [],
   "source": [
    "# df_20g = ('/kaggle/input/mafaulda-bas/mafaulda_bas/overhang/ball_fault/20g')\n",
    "\n",
    "# df_normal = ('/kaggle/input/mafaulda-bas/mafaulda_bas/normal')\n",
    "\n",
    "# df_caminho_desbalanceado = ('/kaggle/input/mafaulda-bas/mafaulda_bas/imbalance/25g')"
   ]
  },
  {
   "cell_type": "markdown",
   "metadata": {},
   "source": [
    "### 1 - Leitura do Dset:"
   ]
  },
  {
   "cell_type": "code",
   "execution_count": 4,
   "metadata": {
    "execution": {
     "iopub.execute_input": "2025-06-16T14:41:20.660100Z",
     "iopub.status.busy": "2025-06-16T14:41:20.659355Z",
     "iopub.status.idle": "2025-06-16T14:41:20.669232Z",
     "shell.execute_reply": "2025-06-16T14:41:20.667774Z",
     "shell.execute_reply.started": "2025-06-16T14:41:20.660053Z"
    },
    "trusted": true
   },
   "outputs": [],
   "source": [
    "def carregar_dados_mafaulda(pasta, label):\n",
    "    arquivos = [f for f in os.listdir(pasta) if f.endswith('.csv')]\n",
    "    dados = []\n",
    "    for arq in arquivos:\n",
    "        try:\n",
    "            df = pd.read_csv(os.path.join(pasta, arq), header=None, skiprows=1)\n",
    "            df['label'] = label\n",
    "            dados.append(df)\n",
    "        except Exception as e:\n",
    "            print(f\"Erro ao ler {arq}: {e}\")\n",
    "    return pd.concat(dados, ignore_index=True) if dados else None\n"
   ]
  },
  {
   "cell_type": "code",
   "execution_count": 7,
   "metadata": {
    "execution": {
     "iopub.execute_input": "2025-06-16T14:41:50.664643Z",
     "iopub.status.busy": "2025-06-16T14:41:50.664194Z",
     "iopub.status.idle": "2025-06-16T14:42:15.537069Z",
     "shell.execute_reply": "2025-06-16T14:42:15.535938Z",
     "shell.execute_reply.started": "2025-06-16T14:41:50.664607Z"
    },
    "trusted": true
   },
   "outputs": [],
   "source": [
    "# Ajuste os caminhos conforme o seu ambiente:\n",
    "path_normal = r\"C:\\Files\\mafaulda_bas\\normal_small\"\n",
    "path_20g = r\"C:\\Files\\mafaulda_bas\\imbal_small\\20g\"\n",
    "\n",
    "df_normal = carregar_dados_mafaulda(path_normal, label=0)\n",
    "df_20g = carregar_dados_mafaulda(path_20g, label=1)\n",
    "\n",
    "# Verifica se as classes têm amostras suficientes\n",
    "if df_normal is None or df_20g is None or len(df_normal) < 2 or len(df_20g) < 2:\n",
    "    raise ValueError(\"As duas classes precisam ter ao menos 2 amostras para classificação.\")\n"
   ]
  },
  {
   "cell_type": "code",
   "execution_count": 8,
   "metadata": {
    "execution": {
     "iopub.execute_input": "2025-06-16T14:42:36.688818Z",
     "iopub.status.busy": "2025-06-16T14:42:36.688334Z",
     "iopub.status.idle": "2025-06-16T14:42:37.459983Z",
     "shell.execute_reply": "2025-06-16T14:42:37.458706Z",
     "shell.execute_reply.started": "2025-06-16T14:42:36.688757Z"
    },
    "trusted": true
   },
   "outputs": [],
   "source": [
    "# Concatenar\n",
    "df = pd.concat([df_normal, df_20g], ignore_index=True)"
   ]
  },
  {
   "cell_type": "code",
   "execution_count": 9,
   "metadata": {
    "execution": {
     "iopub.execute_input": "2025-06-16T14:42:43.462676Z",
     "iopub.status.busy": "2025-06-16T14:42:43.462244Z",
     "iopub.status.idle": "2025-06-16T14:42:43.469271Z",
     "shell.execute_reply": "2025-06-16T14:42:43.467965Z",
     "shell.execute_reply.started": "2025-06-16T14:42:43.462637Z"
    },
    "trusted": true
   },
   "outputs": [],
   "source": [
    "# Vamos usar apenas a coluna de índice 5 (acelerômetro radial superior)\n",
    "X = df.iloc[:, 3].values.reshape(-1, 1)  # Coluna 3 (índice 3) como feature, vibração radial superior\n",
    "y = df['label'].values                   # Coluna criada de rótulo"
   ]
  },
  {
   "cell_type": "code",
   "execution_count": 10,
   "metadata": {
    "execution": {
     "iopub.execute_input": "2025-06-16T14:43:24.293208Z",
     "iopub.status.busy": "2025-06-16T14:43:24.292694Z",
     "iopub.status.idle": "2025-06-16T14:43:25.334587Z",
     "shell.execute_reply": "2025-06-16T14:43:25.333362Z",
     "shell.execute_reply.started": "2025-06-16T14:43:24.293167Z"
    },
    "trusted": true
   },
   "outputs": [
    {
     "name": "stdout",
     "output_type": "stream",
     "text": [
      "Distribuição de classes: {np.int64(0): np.int64(12249951), np.int64(1): np.int64(12249951)}\n"
     ]
    }
   ],
   "source": [
    "scaler = StandardScaler()\n",
    "X_scaled = scaler.fit_transform(X)\n",
    "\n",
    "# Conferir contagem de cada classe antes de dividir\n",
    "classes, counts = np.unique(y, return_counts=True)\n",
    "print(\"Distribuição de classes:\", dict(zip(classes, counts)))"
   ]
  },
  {
   "cell_type": "markdown",
   "metadata": {},
   "source": [
    "#### 2 - Pré-processamento:"
   ]
  },
  {
   "cell_type": "code",
   "execution_count": 11,
   "metadata": {
    "execution": {
     "iopub.execute_input": "2025-06-16T14:43:45.108315Z",
     "iopub.status.busy": "2025-06-16T14:43:45.107851Z",
     "iopub.status.idle": "2025-06-16T14:43:55.578163Z",
     "shell.execute_reply": "2025-06-16T14:43:55.576778Z",
     "shell.execute_reply.started": "2025-06-16T14:43:45.108278Z"
    },
    "trusted": true
   },
   "outputs": [],
   "source": [
    "# Normalização\n",
    "from sklearn.preprocessing import StandardScaler\n",
    "from sklearn.model_selection import train_test_split\n",
    "\n",
    "# Garantir que todas as classes têm pelo menos 2 amostras\n",
    "if np.min(counts) < 2:\n",
    "    raise ValueError(\"Alguma classe tem menos de 2 amostras. Não é possível fazer stratified split.\")\n",
    "\n",
    "X_train, X_test, y_train, y_test = train_test_split(\n",
    "    X_scaled, y, test_size=0.2, stratify=y, random_state=42\n",
    ")"
   ]
  },
  {
   "cell_type": "code",
   "execution_count": 12,
   "metadata": {
    "trusted": true
   },
   "outputs": [],
   "source": [
    "# Treinamento e Validação:\n",
    "\n",
    "clf = RandomForestClassifier(n_estimators=5, random_state=42)\n",
    "# clf = RandomForestClassifier(n_estimators=100, random_state=42)\n",
    "clf.fit(X_train, y_train)\n",
    "y_pred = clf.predict(X_test)"
   ]
  },
  {
   "cell_type": "code",
   "execution_count": 13,
   "metadata": {
    "trusted": true
   },
   "outputs": [
    {
     "name": "stdout",
     "output_type": "stream",
     "text": [
      "Acurácia SEM Kalman: 0.7242\n",
      "              precision    recall  f1-score   support\n",
      "\n",
      "           0       0.68      0.84      0.75   2449991\n",
      "           1       0.79      0.61      0.69   2449990\n",
      "\n",
      "    accuracy                           0.72   4899981\n",
      "   macro avg       0.74      0.72      0.72   4899981\n",
      "weighted avg       0.74      0.72      0.72   4899981\n",
      "\n"
     ]
    },
    {
     "data": {
      "image/png": "[encoded data removed]",
      "text/plain": [
       "<Figure size 800x600 with 2 Axes>"
      ]
     },
     "metadata": {},
     "output_type": "display_data"
    }
   ],
   "source": [
    "acc = accuracy_score(y_test, y_pred)\n",
    "print(f\"Acurácia SEM Kalman: {acc:.4f}\")\n",
    "print(classification_report(y_test, y_pred))\n",
    "\n",
    "plt.figure(figsize=(8,6))\n",
    "sns.heatmap(confusion_matrix(y_test, y_pred), annot=True, fmt=\"d\", cmap=\"Blues\")\n",
    "plt.title(\"Matriz de Confusão - Sem Kalman\")\n",
    "plt.xlabel(\"Predito\")\n",
    "plt.ylabel(\"Real\")\n",
    "plt.show()\n"
   ]
  },
  {
   "attachments": {
    "image.png": {
     "image/png": "[encoded data removed]"
    }
   },
   "cell_type": "markdown",
   "metadata": {},
   "source": [
    "- Aplicar o filtro Kalman na coluna 5:\n",
    "\n",
    "![image.png](attachment:image.png)"
   ]
  },
  {
   "cell_type": "code",
   "execution_count": 14,
   "metadata": {
    "trusted": true
   },
   "outputs": [],
   "source": [
    "def aplicar_kalman_coluna(X):\n",
    "    kf = KalmanFilter(dim_x=1, dim_z=1)\n",
    "    kf.x = np.array([[X[0]]])\n",
    "    kf.F = np.array([[1.]])\n",
    "    kf.H = np.array([[1.]])\n",
    "    kf.P *= 50\n",
    "    kf.R = 1.2\n",
    "    kf.Q = 1e-5\n",
    "    filtrado = []\n",
    "    for z in X:\n",
    "        kf.predict()\n",
    "        kf.update([z])\n",
    "        filtrado.append(kf.x[0][0])\n",
    "    return np.array(filtrado)\n"
   ]
  },
  {
   "cell_type": "code",
   "execution_count": 16,
   "metadata": {},
   "outputs": [],
   "source": [
    "# 1. Seleciona a coluna do acelerômetro (coluna 5)\n",
    "col_raw = df.iloc[:, 3].values.reshape(-1, 1)  # Coluna 5 (índice 5) como feature\n",
    "# y = df['label'].values                   # Coluna criada de rótulo\n",
    "\n",
    "# 2. Aplica o filtro de Kalman sobre essa coluna\n",
    "col_filtrada = aplicar_kalman_coluna(col_raw).reshape(-1, 1)\n",
    "\n",
    "# 3. Normaliza a coluna filtrada\n",
    "scaler = StandardScaler()\n",
    "X = scaler.fit_transform(col_filtrada)\n",
    "\n",
    "# 4. Define os rótulos\n",
    "y = df['label'].values"
   ]
  },
  {
   "cell_type": "code",
   "execution_count": 17,
   "metadata": {},
   "outputs": [
    {
     "name": "stdout",
     "output_type": "stream",
     "text": [
      "Distribuição de classes: {np.int64(0): np.int64(12249951), np.int64(1): np.int64(12249951)}\n"
     ]
    }
   ],
   "source": [
    "\n",
    "# Conferir contagem de cada classe antes de dividir\n",
    "classes, counts = np.unique(y, return_counts=True)\n",
    "print(\"Distribuição de classes:\", dict(zip(classes, counts)))"
   ]
  },
  {
   "cell_type": "code",
   "execution_count": 18,
   "metadata": {},
   "outputs": [],
   "source": [
    "# Normalização\n",
    "from sklearn.preprocessing import StandardScaler\n",
    "from sklearn.model_selection import train_test_split\n",
    "\n",
    "# Garantir que todas as classes têm pelo menos 2 amostras\n",
    "if np.min(counts) < 2:\n",
    "    raise ValueError(\"Alguma classe tem menos de 2 amostras. Não é possível fazer stratified split.\")\n",
    "\n",
    "X_train, X_test, y_train, y_test = train_test_split(\n",
    "    X_scaled, y, test_size=0.2, stratify=y, random_state=42\n",
    ")"
   ]
  },
  {
   "cell_type": "code",
   "execution_count": 19,
   "metadata": {},
   "outputs": [
    {
     "ename": "KeyboardInterrupt",
     "evalue": "",
     "output_type": "error",
     "traceback": [
      "\u001b[31m---------------------------------------------------------------------------\u001b[39m",
      "\u001b[31mKeyboardInterrupt\u001b[39m                         Traceback (most recent call last)",
      "\u001b[36mCell\u001b[39m\u001b[36m \u001b[39m\u001b[32mIn[19]\u001b[39m\u001b[32m, line 5\u001b[39m\n\u001b[32m      3\u001b[39m clf = RandomForestClassifier(n_estimators=\u001b[32m5\u001b[39m, random_state=\u001b[32m42\u001b[39m)\n\u001b[32m      4\u001b[39m \u001b[38;5;66;03m# clf = RandomForestClassifier(n_estimators=100, random_state=42)\u001b[39;00m\n\u001b[32m----> \u001b[39m\u001b[32m5\u001b[39m \u001b[43mclf\u001b[49m\u001b[43m.\u001b[49m\u001b[43mfit\u001b[49m\u001b[43m(\u001b[49m\u001b[43mX_train\u001b[49m\u001b[43m,\u001b[49m\u001b[43m \u001b[49m\u001b[43my_train\u001b[49m\u001b[43m)\u001b[49m\n\u001b[32m      6\u001b[39m y_pred = clf.predict(X_test)\n",
      "\u001b[36mFile \u001b[39m\u001b[32md:\\Jupyter\\Math\\math\\Lib\\site-packages\\sklearn\\base.py:1363\u001b[39m, in \u001b[36m_fit_context.<locals>.decorator.<locals>.wrapper\u001b[39m\u001b[34m(estimator, *args, **kwargs)\u001b[39m\n\u001b[32m   1356\u001b[39m     estimator._validate_params()\n\u001b[32m   1358\u001b[39m \u001b[38;5;28;01mwith\u001b[39;00m config_context(\n\u001b[32m   1359\u001b[39m     skip_parameter_validation=(\n\u001b[32m   1360\u001b[39m         prefer_skip_nested_validation \u001b[38;5;129;01mor\u001b[39;00m global_skip_validation\n\u001b[32m   1361\u001b[39m     )\n\u001b[32m   1362\u001b[39m ):\n\u001b[32m-> \u001b[39m\u001b[32m1363\u001b[39m     \u001b[38;5;28;01mreturn\u001b[39;00m \u001b[43mfit_method\u001b[49m\u001b[43m(\u001b[49m\u001b[43mestimator\u001b[49m\u001b[43m,\u001b[49m\u001b[43m \u001b[49m\u001b[43m*\u001b[49m\u001b[43margs\u001b[49m\u001b[43m,\u001b[49m\u001b[43m \u001b[49m\u001b[43m*\u001b[49m\u001b[43m*\u001b[49m\u001b[43mkwargs\u001b[49m\u001b[43m)\u001b[49m\n",
      "\u001b[36mFile \u001b[39m\u001b[32md:\\Jupyter\\Math\\math\\Lib\\site-packages\\sklearn\\ensemble\\_forest.py:486\u001b[39m, in \u001b[36mBaseForest.fit\u001b[39m\u001b[34m(self, X, y, sample_weight)\u001b[39m\n\u001b[32m    475\u001b[39m trees = [\n\u001b[32m    476\u001b[39m     \u001b[38;5;28mself\u001b[39m._make_estimator(append=\u001b[38;5;28;01mFalse\u001b[39;00m, random_state=random_state)\n\u001b[32m    477\u001b[39m     \u001b[38;5;28;01mfor\u001b[39;00m i \u001b[38;5;129;01min\u001b[39;00m \u001b[38;5;28mrange\u001b[39m(n_more_estimators)\n\u001b[32m    478\u001b[39m ]\n\u001b[32m    480\u001b[39m \u001b[38;5;66;03m# Parallel loop: we prefer the threading backend as the Cython code\u001b[39;00m\n\u001b[32m    481\u001b[39m \u001b[38;5;66;03m# for fitting the trees is internally releasing the Python GIL\u001b[39;00m\n\u001b[32m    482\u001b[39m \u001b[38;5;66;03m# making threading more efficient than multiprocessing in\u001b[39;00m\n\u001b[32m    483\u001b[39m \u001b[38;5;66;03m# that case. However, for joblib 0.12+ we respect any\u001b[39;00m\n\u001b[32m    484\u001b[39m \u001b[38;5;66;03m# parallel_backend contexts set at a higher level,\u001b[39;00m\n\u001b[32m    485\u001b[39m \u001b[38;5;66;03m# since correctness does not rely on using threads.\u001b[39;00m\n\u001b[32m--> \u001b[39m\u001b[32m486\u001b[39m trees = \u001b[43mParallel\u001b[49m\u001b[43m(\u001b[49m\n\u001b[32m    487\u001b[39m \u001b[43m    \u001b[49m\u001b[43mn_jobs\u001b[49m\u001b[43m=\u001b[49m\u001b[38;5;28;43mself\u001b[39;49m\u001b[43m.\u001b[49m\u001b[43mn_jobs\u001b[49m\u001b[43m,\u001b[49m\n\u001b[32m    488\u001b[39m \u001b[43m    \u001b[49m\u001b[43mverbose\u001b[49m\u001b[43m=\u001b[49m\u001b[38;5;28;43mself\u001b[39;49m\u001b[43m.\u001b[49m\u001b[43mverbose\u001b[49m\u001b[43m,\u001b[49m\n\u001b[32m    489\u001b[39m \u001b[43m    \u001b[49m\u001b[43mprefer\u001b[49m\u001b[43m=\u001b[49m\u001b[33;43m\"\u001b[39;49m\u001b[33;43mthreads\u001b[39;49m\u001b[33;43m\"\u001b[39;49m\u001b[43m,\u001b[49m\n\u001b[32m    490\u001b[39m \u001b[43m\u001b[49m\u001b[43m)\u001b[49m\u001b[43m(\u001b[49m\n\u001b[32m    491\u001b[39m \u001b[43m    \u001b[49m\u001b[43mdelayed\u001b[49m\u001b[43m(\u001b[49m\u001b[43m_parallel_build_trees\u001b[49m\u001b[43m)\u001b[49m\u001b[43m(\u001b[49m\n\u001b[32m    492\u001b[39m \u001b[43m        \u001b[49m\u001b[43mt\u001b[49m\u001b[43m,\u001b[49m\n\u001b[32m    493\u001b[39m \u001b[43m        \u001b[49m\u001b[38;5;28;43mself\u001b[39;49m\u001b[43m.\u001b[49m\u001b[43mbootstrap\u001b[49m\u001b[43m,\u001b[49m\n\u001b[32m    494\u001b[39m \u001b[43m        \u001b[49m\u001b[43mX\u001b[49m\u001b[43m,\u001b[49m\n\u001b[32m    495\u001b[39m \u001b[43m        \u001b[49m\u001b[43my\u001b[49m\u001b[43m,\u001b[49m\n\u001b[32m    496\u001b[39m \u001b[43m        \u001b[49m\u001b[43msample_weight\u001b[49m\u001b[43m,\u001b[49m\n\u001b[32m    497\u001b[39m \u001b[43m        \u001b[49m\u001b[43mi\u001b[49m\u001b[43m,\u001b[49m\n\u001b[32m    498\u001b[39m \u001b[43m        \u001b[49m\u001b[38;5;28;43mlen\u001b[39;49m\u001b[43m(\u001b[49m\u001b[43mtrees\u001b[49m\u001b[43m)\u001b[49m\u001b[43m,\u001b[49m\n\u001b[32m    499\u001b[39m \u001b[43m        \u001b[49m\u001b[43mverbose\u001b[49m\u001b[43m=\u001b[49m\u001b[38;5;28;43mself\u001b[39;49m\u001b[43m.\u001b[49m\u001b[43mverbose\u001b[49m\u001b[43m,\u001b[49m\n\u001b[32m    500\u001b[39m \u001b[43m        \u001b[49m\u001b[43mclass_weight\u001b[49m\u001b[43m=\u001b[49m\u001b[38;5;28;43mself\u001b[39;49m\u001b[43m.\u001b[49m\u001b[43mclass_weight\u001b[49m\u001b[43m,\u001b[49m\n\u001b[32m    501\u001b[39m \u001b[43m        \u001b[49m\u001b[43mn_samples_bootstrap\u001b[49m\u001b[43m=\u001b[49m\u001b[43mn_samples_bootstrap\u001b[49m\u001b[43m,\u001b[49m\n\u001b[32m    502\u001b[39m \u001b[43m        \u001b[49m\u001b[43mmissing_values_in_feature_mask\u001b[49m\u001b[43m=\u001b[49m\u001b[43mmissing_values_in_feature_mask\u001b[49m\u001b[43m,\u001b[49m\n\u001b[32m    503\u001b[39m \u001b[43m    \u001b[49m\u001b[43m)\u001b[49m\n\u001b[32m    504\u001b[39m \u001b[43m    \u001b[49m\u001b[38;5;28;43;01mfor\u001b[39;49;00m\u001b[43m \u001b[49m\u001b[43mi\u001b[49m\u001b[43m,\u001b[49m\u001b[43m \u001b[49m\u001b[43mt\u001b[49m\u001b[43m \u001b[49m\u001b[38;5;129;43;01min\u001b[39;49;00m\u001b[43m \u001b[49m\u001b[38;5;28;43menumerate\u001b[39;49m\u001b[43m(\u001b[49m\u001b[43mtrees\u001b[49m\u001b[43m)\u001b[49m\n\u001b[32m    505\u001b[39m \u001b[43m\u001b[49m\u001b[43m)\u001b[49m\n\u001b[32m    507\u001b[39m \u001b[38;5;66;03m# Collect newly grown trees\u001b[39;00m\n\u001b[32m    508\u001b[39m \u001b[38;5;28mself\u001b[39m.estimators_.extend(trees)\n",
      "\u001b[36mFile \u001b[39m\u001b[32md:\\Jupyter\\Math\\math\\Lib\\site-packages\\sklearn\\utils\\parallel.py:82\u001b[39m, in \u001b[36mParallel.__call__\u001b[39m\u001b[34m(self, iterable)\u001b[39m\n\u001b[32m     73\u001b[39m warning_filters = warnings.filters\n\u001b[32m     74\u001b[39m iterable_with_config_and_warning_filters = (\n\u001b[32m     75\u001b[39m     (\n\u001b[32m     76\u001b[39m         _with_config_and_warning_filters(delayed_func, config, warning_filters),\n\u001b[32m   (...)\u001b[39m\u001b[32m     80\u001b[39m     \u001b[38;5;28;01mfor\u001b[39;00m delayed_func, args, kwargs \u001b[38;5;129;01min\u001b[39;00m iterable\n\u001b[32m     81\u001b[39m )\n\u001b[32m---> \u001b[39m\u001b[32m82\u001b[39m \u001b[38;5;28;01mreturn\u001b[39;00m \u001b[38;5;28;43msuper\u001b[39;49m\u001b[43m(\u001b[49m\u001b[43m)\u001b[49m\u001b[43m.\u001b[49m\u001b[34;43m__call__\u001b[39;49m\u001b[43m(\u001b[49m\u001b[43miterable_with_config_and_warning_filters\u001b[49m\u001b[43m)\u001b[49m\n",
      "\u001b[36mFile \u001b[39m\u001b[32md:\\Jupyter\\Math\\math\\Lib\\site-packages\\joblib\\parallel.py:1986\u001b[39m, in \u001b[36mParallel.__call__\u001b[39m\u001b[34m(self, iterable)\u001b[39m\n\u001b[32m   1984\u001b[39m     output = \u001b[38;5;28mself\u001b[39m._get_sequential_output(iterable)\n\u001b[32m   1985\u001b[39m     \u001b[38;5;28mnext\u001b[39m(output)\n\u001b[32m-> \u001b[39m\u001b[32m1986\u001b[39m     \u001b[38;5;28;01mreturn\u001b[39;00m output \u001b[38;5;28;01mif\u001b[39;00m \u001b[38;5;28mself\u001b[39m.return_generator \u001b[38;5;28;01melse\u001b[39;00m \u001b[38;5;28;43mlist\u001b[39;49m\u001b[43m(\u001b[49m\u001b[43moutput\u001b[49m\u001b[43m)\u001b[49m\n\u001b[32m   1988\u001b[39m \u001b[38;5;66;03m# Let's create an ID that uniquely identifies the current call. If the\u001b[39;00m\n\u001b[32m   1989\u001b[39m \u001b[38;5;66;03m# call is interrupted early and that the same instance is immediately\u001b[39;00m\n\u001b[32m   1990\u001b[39m \u001b[38;5;66;03m# reused, this id will be used to prevent workers that were\u001b[39;00m\n\u001b[32m   1991\u001b[39m \u001b[38;5;66;03m# concurrently finalizing a task from the previous call to run the\u001b[39;00m\n\u001b[32m   1992\u001b[39m \u001b[38;5;66;03m# callback.\u001b[39;00m\n\u001b[32m   1993\u001b[39m \u001b[38;5;28;01mwith\u001b[39;00m \u001b[38;5;28mself\u001b[39m._lock:\n",
      "\u001b[36mFile \u001b[39m\u001b[32md:\\Jupyter\\Math\\math\\Lib\\site-packages\\joblib\\parallel.py:1914\u001b[39m, in \u001b[36mParallel._get_sequential_output\u001b[39m\u001b[34m(self, iterable)\u001b[39m\n\u001b[32m   1912\u001b[39m \u001b[38;5;28mself\u001b[39m.n_dispatched_batches += \u001b[32m1\u001b[39m\n\u001b[32m   1913\u001b[39m \u001b[38;5;28mself\u001b[39m.n_dispatched_tasks += \u001b[32m1\u001b[39m\n\u001b[32m-> \u001b[39m\u001b[32m1914\u001b[39m res = \u001b[43mfunc\u001b[49m\u001b[43m(\u001b[49m\u001b[43m*\u001b[49m\u001b[43margs\u001b[49m\u001b[43m,\u001b[49m\u001b[43m \u001b[49m\u001b[43m*\u001b[49m\u001b[43m*\u001b[49m\u001b[43mkwargs\u001b[49m\u001b[43m)\u001b[49m\n\u001b[32m   1915\u001b[39m \u001b[38;5;28mself\u001b[39m.n_completed_tasks += \u001b[32m1\u001b[39m\n\u001b[32m   1916\u001b[39m \u001b[38;5;28mself\u001b[39m.print_progress()\n",
      "\u001b[36mFile \u001b[39m\u001b[32md:\\Jupyter\\Math\\math\\Lib\\site-packages\\sklearn\\utils\\parallel.py:147\u001b[39m, in \u001b[36m_FuncWrapper.__call__\u001b[39m\u001b[34m(self, *args, **kwargs)\u001b[39m\n\u001b[32m    145\u001b[39m \u001b[38;5;28;01mwith\u001b[39;00m config_context(**config), warnings.catch_warnings():\n\u001b[32m    146\u001b[39m     warnings.filters = warning_filters\n\u001b[32m--> \u001b[39m\u001b[32m147\u001b[39m     \u001b[38;5;28;01mreturn\u001b[39;00m \u001b[38;5;28;43mself\u001b[39;49m\u001b[43m.\u001b[49m\u001b[43mfunction\u001b[49m\u001b[43m(\u001b[49m\u001b[43m*\u001b[49m\u001b[43margs\u001b[49m\u001b[43m,\u001b[49m\u001b[43m \u001b[49m\u001b[43m*\u001b[49m\u001b[43m*\u001b[49m\u001b[43mkwargs\u001b[49m\u001b[43m)\u001b[49m\n",
      "\u001b[36mFile \u001b[39m\u001b[32md:\\Jupyter\\Math\\math\\Lib\\site-packages\\sklearn\\ensemble\\_forest.py:188\u001b[39m, in \u001b[36m_parallel_build_trees\u001b[39m\u001b[34m(tree, bootstrap, X, y, sample_weight, tree_idx, n_trees, verbose, class_weight, n_samples_bootstrap, missing_values_in_feature_mask)\u001b[39m\n\u001b[32m    185\u001b[39m     \u001b[38;5;28;01melif\u001b[39;00m class_weight == \u001b[33m\"\u001b[39m\u001b[33mbalanced_subsample\u001b[39m\u001b[33m\"\u001b[39m:\n\u001b[32m    186\u001b[39m         curr_sample_weight *= compute_sample_weight(\u001b[33m\"\u001b[39m\u001b[33mbalanced\u001b[39m\u001b[33m\"\u001b[39m, y, indices=indices)\n\u001b[32m--> \u001b[39m\u001b[32m188\u001b[39m     \u001b[43mtree\u001b[49m\u001b[43m.\u001b[49m\u001b[43m_fit\u001b[49m\u001b[43m(\u001b[49m\n\u001b[32m    189\u001b[39m \u001b[43m        \u001b[49m\u001b[43mX\u001b[49m\u001b[43m,\u001b[49m\n\u001b[32m    190\u001b[39m \u001b[43m        \u001b[49m\u001b[43my\u001b[49m\u001b[43m,\u001b[49m\n\u001b[32m    191\u001b[39m \u001b[43m        \u001b[49m\u001b[43msample_weight\u001b[49m\u001b[43m=\u001b[49m\u001b[43mcurr_sample_weight\u001b[49m\u001b[43m,\u001b[49m\n\u001b[32m    192\u001b[39m \u001b[43m        \u001b[49m\u001b[43mcheck_input\u001b[49m\u001b[43m=\u001b[49m\u001b[38;5;28;43;01mFalse\u001b[39;49;00m\u001b[43m,\u001b[49m\n\u001b[32m    193\u001b[39m \u001b[43m        \u001b[49m\u001b[43mmissing_values_in_feature_mask\u001b[49m\u001b[43m=\u001b[49m\u001b[43mmissing_values_in_feature_mask\u001b[49m\u001b[43m,\u001b[49m\n\u001b[32m    194\u001b[39m \u001b[43m    \u001b[49m\u001b[43m)\u001b[49m\n\u001b[32m    195\u001b[39m \u001b[38;5;28;01melse\u001b[39;00m:\n\u001b[32m    196\u001b[39m     tree._fit(\n\u001b[32m    197\u001b[39m         X,\n\u001b[32m    198\u001b[39m         y,\n\u001b[32m   (...)\u001b[39m\u001b[32m    201\u001b[39m         missing_values_in_feature_mask=missing_values_in_feature_mask,\n\u001b[32m    202\u001b[39m     )\n",
      "\u001b[36mFile \u001b[39m\u001b[32md:\\Jupyter\\Math\\math\\Lib\\site-packages\\sklearn\\tree\\_classes.py:472\u001b[39m, in \u001b[36mBaseDecisionTree._fit\u001b[39m\u001b[34m(self, X, y, sample_weight, check_input, missing_values_in_feature_mask)\u001b[39m\n\u001b[32m    461\u001b[39m \u001b[38;5;28;01melse\u001b[39;00m:\n\u001b[32m    462\u001b[39m     builder = BestFirstTreeBuilder(\n\u001b[32m    463\u001b[39m         splitter,\n\u001b[32m    464\u001b[39m         min_samples_split,\n\u001b[32m   (...)\u001b[39m\u001b[32m    469\u001b[39m         \u001b[38;5;28mself\u001b[39m.min_impurity_decrease,\n\u001b[32m    470\u001b[39m     )\n\u001b[32m--> \u001b[39m\u001b[32m472\u001b[39m \u001b[43mbuilder\u001b[49m\u001b[43m.\u001b[49m\u001b[43mbuild\u001b[49m\u001b[43m(\u001b[49m\u001b[38;5;28;43mself\u001b[39;49m\u001b[43m.\u001b[49m\u001b[43mtree_\u001b[49m\u001b[43m,\u001b[49m\u001b[43m \u001b[49m\u001b[43mX\u001b[49m\u001b[43m,\u001b[49m\u001b[43m \u001b[49m\u001b[43my\u001b[49m\u001b[43m,\u001b[49m\u001b[43m \u001b[49m\u001b[43msample_weight\u001b[49m\u001b[43m,\u001b[49m\u001b[43m \u001b[49m\u001b[43mmissing_values_in_feature_mask\u001b[49m\u001b[43m)\u001b[49m\n\u001b[32m    474\u001b[39m \u001b[38;5;28;01mif\u001b[39;00m \u001b[38;5;28mself\u001b[39m.n_outputs_ == \u001b[32m1\u001b[39m \u001b[38;5;129;01mand\u001b[39;00m is_classifier(\u001b[38;5;28mself\u001b[39m):\n\u001b[32m    475\u001b[39m     \u001b[38;5;28mself\u001b[39m.n_classes_ = \u001b[38;5;28mself\u001b[39m.n_classes_[\u001b[32m0\u001b[39m]\n",
      "\u001b[31mKeyboardInterrupt\u001b[39m: "
     ]
    }
   ],
   "source": [
    "# Treinamento e Validação:\n",
    "\n",
    "clf = RandomForestClassifier(n_estimators=5, random_state=42)\n",
    "# clf = RandomForestClassifier(n_estimators=100, random_state=42)\n",
    "clf.fit(X_train, y_train)\n",
    "y_pred = clf.predict(X_test)\n",
    "\n",
    "acc = accuracy_score(y_test, y_pred)\n",
    "print(f\"Acurácia SEM Kalman: {acc:.4f}\")\n",
    "print(classification_report(y_test, y_pred))\n",
    "\n",
    "plt.figure(figsize=(8,6))\n",
    "sns.heatmap(confusion_matrix(y_test, y_pred), annot=True, fmt=\"d\", cmap=\"Blues\")\n",
    "plt.title(\"Matriz de Confusão - Com Kalman\")\n",
    "plt.xlabel(\"Predito\")\n",
    "plt.ylabel(\"Real\")\n",
    "plt.show()"
   ]
  },
  {
   "cell_type": "markdown",
   "metadata": {},
   "source": [
    "aqui parou"
   ]
  },
  {
   "cell_type": "code",
   "execution_count": null,
   "metadata": {},
   "outputs": [],
   "source": []
  },
  {
   "cell_type": "code",
   "execution_count": null,
   "metadata": {},
   "outputs": [],
   "source": []
  },
  {
   "cell_type": "code",
   "execution_count": null,
   "metadata": {
    "trusted": true
   },
   "outputs": [],
   "source": []
  },
  {
   "cell_type": "code",
   "execution_count": null,
   "metadata": {
    "execution": {
     "iopub.execute_input": "2025-06-16T12:43:24.238749Z",
     "iopub.status.busy": "2025-06-16T12:43:24.238310Z",
     "iopub.status.idle": "2025-06-16T12:43:36.508673Z",
     "shell.execute_reply": "2025-06-16T12:43:36.507431Z",
     "shell.execute_reply.started": "2025-06-16T12:43:24.238711Z"
    },
    "trusted": true
   },
   "outputs": [],
   "source": [
    "# Lista para armazenar os DataFrames\n",
    "dataframes = []\n",
    "\n",
    "# Verifica se o caminho fornecido é um diretório válido\n",
    "if os.path.isdir(df_normal):\n",
    "    # Iterar pelos arquivos no diretório\n",
    "    for filename in os.listdir(df_normal):\n",
    "        # AQUI ESTÁ A CORREÇÃO: use 'endswith' em vez de 'endswitch'\n",
    "        if filename.endswith(\".csv\"): \n",
    "            file_path = os.path.join(df_normal, filename)\n",
    "            \n",
    "            try:\n",
    "                # Lendo o arquivo CSV, pulando a primeira linha (cabeçalho).\n",
    "                # O parâmetro skiprows=1 é a chave para resolver o problema do 'object' dtype.\n",
    "                df = pd.read_csv(file_path, sep=',', header=None, skiprows=1)\n",
    "                dataframes.append(df)\n",
    "            except Exception as e:\n",
    "                print(f\"Não foi possível ler o arquivo {filename}: {e}\")\n",
    "\n",
    "\n",
    "    if dataframes:\n",
    "        #Concatenando os dataframes em um único:\n",
    "        df_normal_concat = pd.concat(dataframes, ignore_index=True)\n",
    "\n",
    "        # Mostrando as primeiras linhas e tipos de dados:\n",
    "        print(\"__Dataframe combinado (df_20g_concat) ___\")\n",
    "        print(df_normal_concat.head())\n",
    "        print(\"\\n--- Tipos de dados (dtypes) ---\")\n",
    "        print(df_normal_concat.dtypes)\n",
    "    else:\n",
    "        print(\"Não houve leitura de arquivos\")\n",
    "else:\n",
    "    print(f\"diretório df_20g não encontrado: {df_normal}\")\n",
    "\n",
    "\n",
    "\"\"\"# Iterar pelos arquivos no diretório\n",
    "for filename in os.listdir(df_20g):\n",
    "    file_path = os.path.join(df_20g, filename)  # Caminho completo do arquivo\n",
    "    df = pd.read_csv(file_path, sep=',', header=None)  # Lendo o arquivo CSV\n",
    "    dataframes.append(df)  # Adicionando o DataFrame à lista dataframes\n",
    "\n",
    "# Concatenando todos os DataFrames em um único DataFrame\n",
    "df_20g_conc = pd.concat(dataframes, ignore_index=True)\n",
    "\n",
    "# Mostrando as primeiras linhas do DataFrame combinado\n",
    "print(df_20g_conc.head()) \"\"\""
   ]
  },
  {
   "cell_type": "code",
   "execution_count": null,
   "metadata": {
    "_kg_hide-input": false,
    "_kg_hide-output": false,
    "trusted": true
   },
   "outputs": [],
   "source": [
    "\"\"\"def load_data(dir_10g):\n",
    "    # Lista para armazenar os DataFrames\n",
    "    dataframes = []\n",
    "\n",
    "    # Iterar pelos arquivos no diretório\n",
    "    for filename in os.listdir(dir_10g):\n",
    "        file_path = os.path.join(dir_10g, filename)  # Caminho completo do arquivo\n",
    "        df = pd.read_csv(file_path, sep=',', header=None)  # Lendo o arquivo CSV\n",
    "        dataframes.append(df)  # Adicionando o DataFrame à lista\n",
    "\n",
    "    # Concatenar todos os DataFrames em um único DataFrame\n",
    "    all_data = pd.concat(dataframes, ignore_index=True)\n",
    "\n",
    "    # Supondo que a última coluna seja a de rótulos (y) e o resto são features (X)\n",
    "    X = all_data.iloc[:, :-1]  # Todas as colunas, exceto a última, são as features\n",
    "    y = all_data.iloc[:, -1]   # A última coluna é o rótulo (classe)\n",
    "    \n",
    "    return X, y\"\"\"\n",
    "\n",
    "\n"
   ]
  },
  {
   "cell_type": "markdown",
   "metadata": {},
   "source": [
    "- Supondo ultima coluna como rotulos ou classes (y) e as demais como features (X):"
   ]
  },
  {
   "cell_type": "code",
   "execution_count": null,
   "metadata": {
    "execution": {
     "iopub.execute_input": "2025-06-16T12:45:45.452381Z",
     "iopub.status.busy": "2025-06-16T12:45:45.451982Z",
     "iopub.status.idle": "2025-06-16T12:45:45.458429Z",
     "shell.execute_reply": "2025-06-16T12:45:45.457225Z",
     "shell.execute_reply.started": "2025-06-16T12:45:45.452350Z"
    },
    "trusted": true
   },
   "outputs": [],
   "source": [
    "X = df_20g_concat.iloc[:, :-1]   # Seleciona todas as linhas ':' e exclui a última coluna ':-1'\n",
    "y = df_20g_concat.iloc[:, -1]    # Seleciona todas as linhas ':' e a última coluna ':-1'"
   ]
  },
  {
   "cell_type": "code",
   "execution_count": null,
   "metadata": {
    "execution": {
     "iopub.execute_input": "2025-06-16T12:46:52.779974Z",
     "iopub.status.busy": "2025-06-16T12:46:52.779499Z",
     "iopub.status.idle": "2025-06-16T12:46:52.791037Z",
     "shell.execute_reply": "2025-06-16T12:46:52.789402Z",
     "shell.execute_reply.started": "2025-06-16T12:46:52.779928Z"
    },
    "trusted": true
   },
   "outputs": [],
   "source": [
    "print(\"X df_normal_20g:\\n\", X.head(), \"\\nX dtypes:\\n\", X.dtypes)"
   ]
  },
  {
   "cell_type": "code",
   "execution_count": null,
   "metadata": {
    "execution": {
     "iopub.execute_input": "2025-06-16T12:48:01.831638Z",
     "iopub.status.busy": "2025-06-16T12:48:01.831225Z",
     "iopub.status.idle": "2025-06-16T12:48:01.839131Z",
     "shell.execute_reply": "2025-06-16T12:48:01.837758Z",
     "shell.execute_reply.started": "2025-06-16T12:48:01.831602Z"
    },
    "trusted": true
   },
   "outputs": [],
   "source": [
    "print(\"y df_normal_20g:\\n\", y.head(), \"\\n y dtypes:\\n\", y.dtypes)"
   ]
  },
  {
   "cell_type": "markdown",
   "metadata": {},
   "source": [
    "- É um comportamento esperado do pandas. Essa linha não se refere a uma coluna específica do seu DataFrame. Ela descreve o tipo de dados da própria lista de tipos que está sendo exibida. Como a lista contém vários objetos de tipo float64 e outros, o pandas a classifica como uma série de tipo object.\n",
    "- fit (Ajustar/Aprender): A primeira parte, fit, \"olha\" para cada coluna (cada sensor), calcula a média (μ) e o desvio padrão (σ) daquela coluna específica, aprendendo os parâmetros de distribuição dos dados."
   ]
  },
  {
   "cell_type": "code",
   "execution_count": null,
   "metadata": {
    "execution": {
     "iopub.execute_input": "2025-06-16T12:48:21.898091Z",
     "iopub.status.busy": "2025-06-16T12:48:21.897615Z",
     "iopub.status.idle": "2025-06-16T12:48:21.904228Z",
     "shell.execute_reply": "2025-06-16T12:48:21.902958Z",
     "shell.execute_reply.started": "2025-06-16T12:48:21.898050Z"
    },
    "trusted": true
   },
   "outputs": [],
   "source": [
    "# Função para normalizar os dados. preprocess_data padroniza os dados antes de entregá-los ao modelo para tr\n",
    "def preprocess_data(X):              # X  é o conjunto de dados de entrada (as leituras dos 8 sensores de vibração\n",
    "    scaler = StandardScaler()        # classe da bibl. scikit-learn para padronização. Transforma os dados para média=0 e d_p =1.\n",
    "    X_scaled_out = scaler.fit_transform(X)\n",
    "    return X_scaled_out"
   ]
  },
  {
   "cell_type": "markdown",
   "metadata": {},
   "source": [
    "- Para que este código seja executável de forma independente, vamos criar um 'X' de exemplo.\n",
    "- Caso não exista podemos ignorar ou remover este bloco 'if'."
   ]
  },
  {
   "cell_type": "markdown",
   "metadata": {},
   "source": [
    "### Tacômetro"
   ]
  },
  {
   "cell_type": "code",
   "execution_count": null,
   "metadata": {
    "execution": {
     "iopub.execute_input": "2025-06-16T12:49:43.169057Z",
     "iopub.status.busy": "2025-06-16T12:49:43.168543Z",
     "iopub.status.idle": "2025-06-16T12:51:17.627316Z",
     "shell.execute_reply": "2025-06-16T12:51:17.625763Z",
     "shell.execute_reply.started": "2025-06-16T12:49:43.169019Z"
    },
    "trusted": true
   },
   "outputs": [],
   "source": [
    "print(\"\\n1. Aplicando a normalização (StandardScaler) aos dados de X...\")\n",
    "X_scaled = preprocess_data(X)\n",
    "print(\"   'X_scaled' foi criado com sucesso!\")\n",
    "print(f\"   Formato do X_scaled: {X_scaled.shape}, Tipo: {type(X_scaled)}\")\n",
    "print('-----------------------------------------')\n",
    "# VISUALIZAR OS DADOS NORMALIZADOS\n",
    "print(\"\\n2. Gerando gráficos para visualização...\")\n",
    "\n",
    "sensor_a_visualizar = 0 \n",
    "raw_tac_signal = X.iloc[:, sensor_a_visualizar].values\n",
    "scaled_tac_signal = X_scaled[:, sensor_a_visualizar]\n",
    "\n",
    "# --- Gráfico 1: Comparação do Sinal no Tempo ---\n",
    "plt.figure(figsize=(16, 8))\n",
    "\n",
    "# Gráfico do sinal original\n",
    "plt.subplot(2, 1, 1)\n",
    "plt.plot(raw_tac_signal, label=f'Sinal Original Tacômetro (Sensor {sensor_a_visualizar})', color='blue', alpha=0.4)\n",
    "plt.title(f'Sinal Original do Tacômetro {sensor_a_visualizar}', fontsize=10)\n",
    "plt.ylabel('Amplitude Original do Tacômetro', fontsize=10)\n",
    "plt.legend()\n",
    "plt.grid(True, linestyle='--', alpha=0.4)\n",
    "\n",
    "# Gráfico do sinal normalizado\n",
    "plt.subplot(2, 1, 2)\n",
    "plt.plot(scaled_tac_signal, label=f'Sinal Normalizado (Tacômetro {sensor_a_visualizar})', color='red', alpha=0.4)\n",
    "plt.title(f'Sinal Normalizado do Tacômetro {sensor_a_visualizar} (Média ≈ 0, Desvio Padrão = 1)', fontsize=10)\n",
    "plt.xlabel('Amostra no Tempo', fontsize=10)\n",
    "plt.ylabel('Amplitude Normalizada do Tacômetro', fontsize=10)\n",
    "plt.legend()\n",
    "plt.grid(True, linestyle='--', alpha=0.4)\n",
    "\n",
    "plt.tight_layout()\n",
    "plt.show()"
   ]
  },
  {
   "cell_type": "code",
   "execution_count": null,
   "metadata": {
    "execution": {
     "iopub.execute_input": "2025-06-16T12:51:37.309560Z",
     "iopub.status.busy": "2025-06-16T12:51:37.309143Z",
     "iopub.status.idle": "2025-06-16T12:53:27.680482Z",
     "shell.execute_reply": "2025-06-16T12:53:27.679407Z",
     "shell.execute_reply.started": "2025-06-16T12:51:37.309525Z"
    },
    "trusted": true
   },
   "outputs": [],
   "source": [
    "# --- Gráfico 2: Comparação da Distribuição dos Dados (Histograma) ---\n",
    "plt.figure(figsize=(16, 6))\n",
    "\n",
    "# Histograma do sinal original\n",
    "plt.subplot(1, 2, 1)\n",
    "sns.histplot(raw_tac_signal, kde=True, color='blue', bins=50)\n",
    "plt.title(f'Distribuição Original do Tacômetro (Sensor {sensor_a_visualizar})', fontsize=10)\n",
    "plt.xlabel('Tempo (amostragem)', fontsize=10)\n",
    "plt.ylabel('Amplitude original (1x106)', fontsize=10)\n",
    "plt.grid(True, linestyle='--', alpha=0.4)\n",
    "\n",
    "# Histograma do sinal normalizado\n",
    "plt.subplot(1, 2, 2)\n",
    "sns.histplot(scaled_tac_signal, kde=True, color='red', bins=50)\n",
    "plt.title(f'Distribuição Normalizada do Tacômetro (Sensor {sensor_a_visualizar})', fontsize=10)\n",
    "plt.xlabel('Tempo (amostragem) Normalizado', fontsize=10)\n",
    "plt.ylabel('Amplitude normalizada (1x106)', fontsize=10)\n",
    "plt.grid(True, linestyle='--', alpha=0.4)\n",
    "\n",
    "plt.tight_layout()\n",
    "plt.show()\n",
    "\n",
    "print(\"\\nVisualização concluída.\")"
   ]
  },
  {
   "cell_type": "code",
   "execution_count": null,
   "metadata": {
    "execution": {
     "iopub.execute_input": "2025-06-16T12:58:17.030919Z",
     "iopub.status.busy": "2025-06-16T12:58:17.030503Z",
     "iopub.status.idle": "2025-06-16T13:00:07.960917Z",
     "shell.execute_reply": "2025-06-16T13:00:07.959714Z",
     "shell.execute_reply.started": "2025-06-16T12:58:17.030844Z"
    },
    "trusted": true
   },
   "outputs": [],
   "source": [
    "# 2. VISUALIZAR OS DADOS NORMALIZADOS (COM ZOOM)\n",
    "print(\"\\n2. Gerando gráficos para visualização...\")\n",
    "\n",
    "# Escolha qual coluna do sensor (0 a 7) você quer visualizar\n",
    "sensor_a_visualizar = 0 \n",
    "# Define o número de amostras para o \"zoom\" para melhor visualização\n",
    "# num_amostras_plot = 1500\n",
    "num_amostras_plot = 5000\n",
    "\n",
    "# Pega todos os dados da coluna do sensor escolhido\n",
    "raw_tac_signal = X.iloc[:, sensor_a_visualizar].values\n",
    "scaled_tac_signal = X_scaled[:, sensor_a_visualizar]\n",
    "\n",
    "# --- Gráfico 1: Comparação do Sinal no Tempo (com zoom) ---\n",
    "plt.figure(figsize=(16, 8))\n",
    "\n",
    "# Gráfico do sinal original (zoom)\n",
    "plt.subplot(2, 1, 1)\n",
    "# Plota apenas as primeiras 'num_amostras_plot' amostras para dilatar o eixo X\n",
    "plt.plot(raw_tac_signal[:num_amostras_plot], label=f'Sinal Original (Tacômetro {sensor_a_visualizar})', color='blue', alpha=0.4)\n",
    "plt.title(f'Sinal Original do Tacômetror {sensor_a_visualizar} (Zoom nas primeiras {num_amostras_plot} amostras)', fontsize=10)\n",
    "plt.ylabel('Amplitude Original (1x106)', fontsize=10)\n",
    "plt.legend()\n",
    "plt.grid(True, linestyle='--', alpha=0.6)\n",
    "\n",
    "# Gráfico do sinal normalizado (zoom)\n",
    "plt.subplot(2, 1, 2)\n",
    "# Plota apenas as primeiras 'num_amostras_plot' amostras\n",
    "plt.plot(scaled_tac_signal[:num_amostras_plot], label=f'Sinal Normalizado (Tacômetro {sensor_a_visualizar})', color='red', alpha=0.4)\n",
    "plt.title(f'Sinal Normalizado do Tacômetro {sensor_a_visualizar} (Média ≈ 0, Desvio Padrão = 1)', fontsize=10)\n",
    "plt.xlabel(f'Amostras (0 a {num_amostras_plot})', fontsize=10)\n",
    "plt.ylabel('Amplitude Normalizada (1x106)', fontsize=10)\n",
    "plt.legend()\n",
    "plt.grid(True, linestyle='--', alpha=0.6)\n",
    "\n",
    "plt.tight_layout()\n",
    "plt.show()\n",
    "\n",
    "# --- Gráfico 2: Comparação da Distribuição dos Dados (usando o sinal completo) ---\n",
    "plt.figure(figsize=(16, 6))\n",
    "\n",
    "# Histograma do sinal original\n",
    "plt.subplot(1, 2, 1)\n",
    "sns.histplot(raw_tac_signal, kde=True, color='blue', bins=50)\n",
    "plt.title(f'Distribuição do Sinal Original (Tacômetro {sensor_a_visualizar})', fontsize=10)\n",
    "plt.xlabel('Amplitude', fontsize=10)\n",
    "plt.ylabel('Contagem', fontsize=10)\n",
    "plt.grid(True, linestyle='--', alpha=0.5)\n",
    "\n",
    "# Histograma do sinal normalizado\n",
    "plt.subplot(1, 2, 2)\n",
    "sns.histplot(scaled_tac_signal, kde=True, color='red', bins=50)\n",
    "plt.title(f'Distribuição do Sinal Normalizado (Tacômetro {sensor_a_visualizar})', fontsize=10)\n",
    "plt.xlabel('Amplitude Normalizada (1x106)', fontsize=10)\n",
    "plt.ylabel('Contagem', fontsize=10)\n",
    "plt.grid(True, linestyle='--', alpha=0.5)\n",
    "\n",
    "plt.tight_layout()\n",
    "plt.show()\n",
    "\n",
    "print(\"\\nVisualização concluída.\")"
   ]
  },
  {
   "cell_type": "markdown",
   "metadata": {},
   "source": [
    "- \"Contagem\" significa a frequência ou o número de vezes que um determinado valor de amplitude ocorreu no seu conjunto de dados.\n",
    "- A linha azul contínua (chamada de KDE - Kernel Density Estimate) é uma versão suavizada do histograma. O pico dessa linha mostra qual é o valor de amplitude mais comum em todo o conjunto de dados."
   ]
  },
  {
   "cell_type": "markdown",
   "metadata": {},
   "source": [
    "### Analisando a categoria Normal"
   ]
  },
  {
   "cell_type": "markdown",
   "metadata": {},
   "source": [
    "- Análise no Domínio do Tempo (Sincronização e Visualização): Primeiro, vamos plotar o sinal de vibração do acelerômetro contra uma base de tempo real em segundos e, ao mesmo tempo, usar o tacômetro para calcular a rotação exata da máquina (RPM) naquele ensaio.\n",
    "- Análise no Domínio da Frequência (Objetivo): Em seguida, usaremos a Transformada Rápida de Fourier (FFT) para converter o sinal de vibração do domínio do tempo para o domínio da frequência. É aqui que a \"assinatura\" do desbalanceamento se tornará visível e quantificável.\n",
    "- o sinal do tacômetro nos dá a base de tempo (a rotação da máquina), e o sinal do acelerômetro nos dá a vibração.\n",
    "- Categoria Normal já carregada anteriormente."
   ]
  },
  {
   "cell_type": "code",
   "execution_count": null,
   "metadata": {
    "trusted": true
   },
   "outputs": [],
   "source": [
    "import os\n",
    "# Lista para armazenar os DataFrames\n",
    "dataframes = []\n",
    "\n",
    "# Verifica se o caminho fornecido é um diretório válido\n",
    "if os.path.isdir(df_normal):\n",
    "    # Iterar pelos arquivos no diretório\n",
    "    for filename in os.listdir(df_normal):\n",
    "        # AQUI ESTÁ A CORREÇÃO: use 'endswith' em vez de 'endswitch'\n",
    "        if filename.endswith(\".csv\"): \n",
    "            file_path = os.path.join(df_normal, filename)\n",
    "            \n",
    "            try:\n",
    "                # Lendo o arquivo CSV, pulando a primeira linha (cabeçalho).\n",
    "                # O parâmetro skiprows=1 é a chave para resolver o problema do 'object' dtype.\n",
    "                df = pd.read_csv(file_path, sep=',', header=None, skiprows=1)\n",
    "                dataframes.append(df)\n",
    "            except Exception as e:\n",
    "                print(f\"Não foi possível ler o arquivo {filename}: {e}\")\n",
    "\n",
    "\n",
    "    if dataframes:\n",
    "        #Concatenando os dataframes em um único:\n",
    "        df_normal_concat = pd.concat(dataframes, ignore_index=True)\n",
    "\n",
    "        # Mostrando as primeiras linhas e tipos de dados:\n",
    "        print(\"__Dataframe combinado (df_normal_concat) ___\")\n",
    "        print(df_normal_concat.head())\n",
    "        print(\"\\n--- Tipos de dados (dtypes) ---\")\n",
    "        print(df_normal_concat.dtypes)\n",
    "    else:\n",
    "        print(\"Não houve leitura de arquivos\")\n",
    "else:\n",
    "    print(f\"diretório df_20g não encontrado: {df_normal}\")\n"
   ]
  },
  {
   "cell_type": "code",
   "execution_count": null,
   "metadata": {
    "trusted": true
   },
   "outputs": [],
   "source": [
    "COLUNA_TACOMETRO = 0\n",
    "# Coluna do acelerômetro radial do overhang (sexta coluna, índice 5)\n",
    "COLUNA_ACELEROMETRO = 5 \n",
    "\n",
    "# Parâmetros do dataset MAFAULDA\n",
    "TAXA_AMOSTRAGEM = 50000  # 50 kHz\n",
    "DURACAO_ENSAIO_S = 5    # 5 segundos"
   ]
  },
  {
   "cell_type": "code",
   "execution_count": null,
   "metadata": {
    "trusted": true
   },
   "outputs": [],
   "source": [
    "# --- FUNÇÃO PARA ANÁLISE E PLOTAGEM ---\n",
    "def analisar_sinal_temporal(caminho_arquivo, nome_condicao):\n",
    "    \"\"\"\n",
    "    Carrega, analisa e plota o sinal de vibração e calcula o RPM a partir do tacômetro.\n",
    "    \"\"\"\n",
    "    if not os.path.exists(caminho_arquivo):\n",
    "        print(f\"AVISO: Arquivo não encontrado: {caminho_arquivo}\")\n",
    "        return None, None\n",
    "\n",
    "    print(f\"\\n--- Analisando Condição: {nome_condicao} ---\")\n",
    "    \n",
    "    # Carrega o arquivo CSV, pulando a linha de cabeçalho se houver\n",
    "    df = pd.read_csv(caminho_arquivo, header=None, skiprows=1)\n",
    "\n",
    "    # Extrai os sinais do acelerômetro e do tacômetro\n",
    "    sinal_acelerometro = df.values\n",
    "    sinal_tacometro = df.values\n"
   ]
  },
  {
   "cell_type": "code",
   "execution_count": null,
   "metadata": {
    "trusted": true
   },
   "outputs": [],
   "source": [
    "# --- Cálculo do RPM a partir do Tacômetro ---\n",
    "# O tacômetro gera um pulso por rotação. Contamos os pulsos.\n",
    "# Um pulso é detectado quando o sinal cruza um limiar (ex: valor 2.5) para cima.\n",
    "limiar_pulso = 2.5\n",
    "pulsos = np.where((sinal_tacometro[:-1] < limiar_pulso) & (sinal_tacometro[1:] >= limiar_pulso))\n",
    "num_pulsos = len(pulsos)\n",
    "    \n",
    "# Calcula RPM (Rotações por Minuto)\n",
    "rpm = (num_pulsos / DURACAO_ENSAIO_S) * 60\n",
    "print(f\"RPM Calculado: {rpm:.2f}\")\n"
   ]
  },
  {
   "cell_type": "code",
   "execution_count": null,
   "metadata": {
    "trusted": true
   },
   "outputs": [],
   "source": [
    "\n",
    "# --- Plotagem do Sinal de Vibração ---\n",
    "    # Cria o eixo de tempo em segundos\n",
    "num_amostras = len(sinal_acelerometro)\n",
    "eixo_tempo_s = np.linspace(0, DURACAO_ENSAIO_S, num_amostras)\n",
    "    \n",
    "    # Zoom para visualizar melhor a forma de onda (primeiras 2000 amostras)\n",
    "amostras_plot = 2000\n",
    "\n",
    "plt.figure(figsize=(15, 5))\n",
    "plt.plot(eixo_tempo_s[:amostras_plot], sinal_acelerometro[:amostras_plot], label=f'Sinal do Acelerômetro (Sensor {COLUNA_ACELEROMETRO})')\n",
    "plt.title(f'Sinal de Vibração no Domínio do Tempo - Condição: {nome_condicao} (RPM: {rpm:.0f})', fontsize=14)\n",
    "plt.xlabel('Tempo (segundos)', fontsize=12)\n",
    "plt.ylabel('Amplitude da Vibração', fontsize=12)\n",
    "plt.legend()\n",
    "plt.grid(True, linestyle='--', alpha=0.7)\n",
    "plt.show()\n",
    "    \n",
    "return sinal_acelerometro, rpm\n",
    "\n",
    "# --- EXECUÇÃO ---\n",
    "sinal_normal, rpm_normal = analisar_sinal_temporal(caminho_normal, \"Normal\")\n",
    "sinal_desbalanceado, rpm_desbalanceado = analisar_sinal_temporal(caminho_desbalanceado, \"Desbalanceamento 20g\")"
   ]
  },
  {
   "cell_type": "code",
   "execution_count": null,
   "metadata": {
    "trusted": true
   },
   "outputs": [],
   "source": [
    "from tensorflow.keras.applications import EfficientNetB0\n",
    "\n",
    "def build_model(input_shape, output_size):\n",
    "    # Inicializa o modelo EfficientNetB0\n",
    "    base_model = EfficientNetB0(input_shape=input_shape, include_top=False, weights='imagenet')\n",
    "    base_model.trainable = False  # Congelar as camadas da base para transferência de aprendizado\n",
    "\n",
    "    # Adiciona camadas personalizadas ao modelo\n",
    "    model = models.Sequential([\n",
    "        base_model,\n",
    "        layers.GlobalAveragePooling2D(),  # Para agregar as características\n",
    "        layers.Dense(64, activation='relu'),  # Camada densa com ativação ReLU\n",
    "        layers.Dense(output_size, activation='softmax')  # Camada de saída com softmax para classificação\n",
    "    ])\n",
    "    \n",
    "    return model\n",
    "\n",
    "\"\"\"# Definições de entrada e número de classes\n",
    "input_shape = (32, 32, 3)  # Dimensões de entrada\n",
    "output_size = 8  # Número de classes (ajuste conforme necessário)\n",
    "\n",
    "# Construindo o modelo\n",
    "model = build_model(input_shape, output_size)\n",
    "optimizer = tf.keras.optimizers.Adam(learning_rate=learning_rate)\n",
    "loss_fn = tf.keras.losses.SparseCategoricalCrossentropy()\n",
    "\n",
    "# Resumo do modelo\n",
    "model.summary()\"\"\""
   ]
  },
  {
   "cell_type": "code",
   "execution_count": null,
   "metadata": {
    "trusted": true
   },
   "outputs": [],
   "source": [
    "# Função para treinar o modelo com Soft-DTW\n",
    "\"\"\"def train_model_with_soft_dtw(X_train, y_train, X_test, y_test, num_epochs=2, learning_rate=0.0001):\n",
    "    input_shape = (32, 32, 3)  # Ajuste para a entrada do modelo EfficientNetB0\n",
    "    output_size = len(np.unique(y_train))  # Número de classes\n",
    "    \n",
    "    # Convertendo dados para TensorFlow Tensors\n",
    "    X_train_tensor = tf.convert_to_tensor(X_train.reshape(-1, 32, 32, 3), dtype=tf.float32)  # Redimensionar\n",
    "    y_train_tensor = tf.convert_to_tensor(y_train, dtype=tf.int32)\n",
    "    X_test_tensor = tf.convert_to_tensor(X_test.reshape(-1, 32, 32, 3), dtype=tf.float32)  # Redimensionar\n",
    "    y_test_tensor = tf.convert_to_tensor(y_test, dtype=tf.int32)\n",
    "\n",
    "    # Inicializando o modelo\n",
    "    model = build_model(input_shape, output_size)  #Atribuindo model a uma var.\n",
    "    optimizer = tf.keras.optimizers.Adam(learning_rate=learning_rate)\n",
    "    loss_fn = tf.keras.losses.SparseCategoricalCrossentropy()\n",
    "\n",
    "    # Inicializando o Soft-DTW\n",
    "    soft_dtw = SoftDTW(gamma=0.1)  # Ajustar gamma conforme necessário\n",
    "\n",
    "    history = {'loss': [], 'accuracy': [], 'error': []}  # Para armazenar as perdas e acurácia\n",
    "\n",
    "    # Loop de treinamento\n",
    "    for epoch in range(num_epochs):\n",
    "        with tf.GradientTape() as tape:\n",
    "            # Predição do modelo\n",
    "            predictions = model(X_train_tensor)  # Predição\n",
    "            # Cálculo da perda de entropia cruzada\n",
    "            loss_ce = loss_fn(y_train_tensor, predictions)\n",
    "            # Cálculo da perda Soft-DTW\n",
    "            loss_dtw = soft_dtw(X_train_tensor, predictions)\n",
    "            # Perda total (entropia cruzada + Soft-DTW)\n",
    "            total_loss = loss_ce + loss_dtw\n",
    "\n",
    "        # Backpropagation\n",
    "        gradients = tape.gradient(total_loss, model.trainable_variables)\n",
    "        optimizer.apply_gradients(zip(gradients, model.trainable_variables))\n",
    "\n",
    "        # Armazenando a perda, acurácia e erro para cada época\n",
    "        history['loss'].append(total_loss.numpy())\n",
    "        accuracy = accuracy_score(np.argmax(predictions.numpy(), axis=1), y_train)\n",
    "        history['accuracy'].append(accuracy)\n",
    "        history['error'].append(1 - accuracy)  # Calculando o erro como 1 - acurácia\n",
    "\n",
    "        print(f'Epoch {epoch+1}/{num_epochs}, Loss: {total_loss.numpy()}, Accuracy: {accuracy:.2f}, Error: {1 - accuracy:.2f}')\n",
    "\n",
    "    return history\"\"\""
   ]
  },
  {
   "cell_type": "code",
   "execution_count": null,
   "metadata": {
    "trusted": true
   },
   "outputs": [],
   "source": [
    "# Definindo variáveis necessárias\n",
    "num_epochs = 2  # Número de épocas para o treinamento\n",
    "learning_rate = 0.0001  # Taxa de aprendizado\n",
    "input_shape = (32, 32, 3)  # Ajuste para a entrada do modelo EfficientNetB0\n",
    "output_size = len(np.unique(y_train))  # Número de classes\n",
    "\n",
    "# Convertendo dados para Tensores do TensorFlow\n",
    "X_train_tensor = tf.convert_to_tensor(X_train, dtype=tf.float32)  # Não há reshaping necessário\n",
    "y_train_tensor = tf.convert_to_tensor(y_train, dtype=tf.int32)\n",
    "X_test_tensor = tf.convert_to_tensor(X_test, dtype=tf.float32)  # Não há reshaping necessário\n",
    "y_test_tensor = tf.convert_to_tensor(y_test, dtype=tf.int32)\n",
    "\n",
    "# Inicializando o modelo\n",
    "model = build_model(input_shape, output_size)  # Atribuindo model a uma var.\n",
    "optimizer = tf.keras.optimizers.Adam(learning_rate=learning_rate)  # Inicializando o otimizador\n",
    "loss_fn = tf.keras.losses.SparseCategoricalCrossentropy()  # Função de perda\n",
    "\n",
    "# Inicializando o Soft-DTW\n",
    "D = np.zeros((len(X_train_tensor), len(X_train_tensor)))  # Defina a matriz de distância corretamente\n",
    "soft_dtw = SoftDTW(gamma=0.1, D=D)  # Ajustar gamma conforme necessário\n",
    "\n",
    "# Para armazenar as perdas e acurácia\n",
    "#history = {'loss': [], 'accuracy': [], 'error': []}\n",
    "\n",
    "# Loop de treinamento\n",
    "# Loop de treinamento\n",
    "for epoch in range(num_epochs):\n",
    "    with tf.GradientTape() as tape:\n",
    "        # Predição do modelo\n",
    "        predictions = model(X_train_tensor)\n",
    "        # Cálculo da perda de entropia cruzada\n",
    "        loss_ce = loss_fn(y_train_tensor, predictions)\n",
    "        # Cálculo da perda Soft-DTW (calculando conforme necessário, não usando uma matriz D)\n",
    "        loss_dtw = soft_dtw(X_train_tensor, predictions)  # Isso deve ser implementado para calcular distâncias sob demanda\n",
    "        \n",
    "        # Calcular a perda Soft-DTW sob demanda\n",
    "        loss_dtw = sum(soft_dtw(X_train_tensor[i], predictions[i]) for i in range(len(X_train_tensor)))\n",
    "        \n",
    "        # Perda total\n",
    "        total_loss = loss_ce + loss_dtw\n",
    "\n",
    "    # Backpropagation\n",
    "    gradients = tape.gradient(total_loss, model.trainable_variables)\n",
    "    optimizer.apply_gradients(zip(gradients, model.trainable_variables))\n",
    "\n",
    "    # Armazenando a perda, acurácia e erro para cada época\n",
    "    history['loss'].append(total_loss.numpy())\n",
    "    accuracy = accuracy_score(np.argmax(predictions.numpy(), axis=1), y_train)\n",
    "    history['accuracy'].append(accuracy)\n",
    "    history['error'].append(1 - accuracy)\n",
    "\n",
    "    print(f'Epoch {epoch+1}/{num_epochs}, Loss: {total_loss.numpy()}, Accuracy: {accuracy:.2f}, Error: {1 - accuracy:.2f}')"
   ]
  },
  {
   "cell_type": "code",
   "execution_count": null,
   "metadata": {
    "trusted": true
   },
   "outputs": [],
   "source": [
    "# Definindo variáveis necessárias\n",
    "num_epochs = 2  # Número de épocas para o treinamento\n",
    "learning_rate = 0.0001  # Taxa de aprendizado\n",
    "input_shape = (32, 32, 3)  # Ajuste para a entrada do modelo EfficientNetB0\n",
    "output_size = len(np.unique(y_train))  # Número de classes\n",
    "\n",
    "# Verificando se os dados têm o formato adequado antes de redimensionar\n",
    "if X_train.shape[1] == 32 * 32 * 3:\n",
    "    X_train_tensor = tf.convert_to_tensor(X_train.reshape(-1, 32, 32, 3), dtype=tf.float32)  # Redimensionar\n",
    "else:\n",
    "    raise ValueError(f\"X_train deve ter {32 * 32 * 3} características, mas tem {X_train.shape[1]}.\")\n",
    "\n",
    "if X_test.shape[1] == 32 * 32 * 3:\n",
    "    X_test_tensor = tf.convert_to_tensor(X_test.reshape(-1, 32, 32, 3), dtype=tf.float32)  # Redimensionar\n",
    "else:\n",
    "    raise ValueError(f\"X_test deve ter {32 * 32 * 3} características, mas tem {X_test.shape[1]}.\")\n",
    "\n",
    "# Convertendo y_train e y_test para tensores\n",
    "y_train_tensor = tf.convert_to_tensor(y_train, dtype=tf.int32)\n",
    "y_test_tensor = tf.convert_to_tensor(y_test, dtype=tf.int32)\n"
   ]
  },
  {
   "cell_type": "markdown",
   "metadata": {},
   "source": [
    "Implicações de Usar training=True\n",
    "Camadas de Dropout: Se você estiver utilizando camadas de dropout no seu modelo, elas funcionarão de maneira diferente. Durante o treinamento, dropout desativa aleatoriamente uma fração das unidades (neurônios) para ajudar a prevenir overfitting. Quando training=True, algumas unidades serão desativadas, enquanto training=False garante que todas as unidades estão ativas, permitindo que o modelo faça previsões consistentes.\n",
    "\n",
    "Normalização: Se você estiver usando camadas de normalização, como Batch Normalization, a média e a variância usadas para normalizar as entradas durante o treinamento diferem das usadas durante a inferência. Com training=True, as estatísticas da mini-batch serão usadas, enquanto training=False usará as médias e variâncias acumuladas durante o treinamento.\n",
    "\n",
    "Logo, usar training=True geralmente é apropriado durante o processo de treinamento do modelo, mas não deve ser usado quando você está avaliando o modelo ou fazendo previsões. Para garantir que você obtenha resultados consistentes e previsíveis ao avaliar ou prever, deve-se usar training=False."
   ]
  },
  {
   "cell_type": "code",
   "execution_count": null,
   "metadata": {
    "trusted": true
   },
   "outputs": [],
   "source": [
    "# Avaliação no conjunto de teste\n",
    "predictions_test = model(X_test_tensor, training=False)\n",
    "predicted_classes = np.argmax(predictions_test.numpy(), axis=1)"
   ]
  },
  {
   "cell_type": "code",
   "execution_count": null,
   "metadata": {
    "trusted": true
   },
   "outputs": [],
   "source": [
    "\n",
    "\n",
    "accuracy = accuracy_score(y_test, predicted_classes)\n",
    "print(f'Accuracy on test data: {accuracy:.4f}')\n",
    "\n",
    "    # Matriz de Confusão e Relatório de Classificação\n",
    "print(\"\\nMatriz de Confusão:\")\n",
    "conf_matrix = confusion_matrix(y_test, predicted_classes)\n",
    "\n",
    "plt.figure(figsize=(10, 7))\n",
    "sns.heatmap(conf_matrix, annot=True, fmt=\"d\", cmap=\"Blues\", \n",
    "            xticklabels=np.unique(y_train), yticklabels=np.unique(y_train))\n",
    "\n",
    "plt.title(\"Matriz de Confusão\")\n",
    "plt.xlabel(\"Predicted\")\n",
    "plt.ylabel(\"True\")\n",
    "plt.show()\n",
    "\n",
    "# Relatório de Classificação\n",
    "print(\"\\nRelatório de Classificação:\")\n",
    "print(classification_report(y_test, predicted_classes))\n",
    "\n"
   ]
  },
  {
   "cell_type": "code",
   "execution_count": null,
   "metadata": {
    "trusted": true
   },
   "outputs": [],
   "source": [
    "\n",
    " # Pipeline principal\n",
    "# X, y = load_mafaulda_dataset()\n",
    "X, y = load_data(data_dict) \n",
    "X = preprocess_data(X)\n",
    "X_train, X_test, y_train, y_test = train_test_split(X, y, test_size=0.2, random_state=42)\n",
    "\n",
    "# Treinar o modelo com Soft-DTW no TensorFlow\n",
    "history = train_model_with_soft_dtw(X_train, y_train, X_test, y_test)\n",
    "\n",
    "\n",
    "    # Avaliação no conjunto de teste\n",
    "predictions_test = model(X_test_tensor)\n",
    "predicted_classes = np.argmax(predictions_test, axis=1)\n",
    "accuracy = accuracy_score(y_test, predicted_classes)\n",
    "print(f'Accuracy on test data: {accuracy:.2f}')\n",
    "\n",
    "    "
   ]
  },
  {
   "cell_type": "code",
   "execution_count": null,
   "metadata": {
    "trusted": true
   },
   "outputs": [],
   "source": [
    "# Matriz de Confusão e Relatório de Classificação\n",
    "print(\"\\nMatriz de Confusão:\")\n",
    "conf_matrix = confusion_matrix(y_test, predicted_classes)\n",
    "sns.heatmap(conf_matrix, annot=True, fmt=\"d\", cmap=\"Blues\", xticklabels=np.unique(y_train), yticklabels=np.unique(y_train))\n",
    "plt.title(\"Matriz de Confusão\")\n",
    "plt.xlabel(\"Predicted\")\n",
    "plt.ylabel(\"True\")\n",
    "plt.show()\n",
    "\n",
    "print(\"\\nRelatório de Classificação:\")\n",
    "print(classification_report(y_test, predicted_classes))\n",
    "\n",
    "\n",
    "\n",
    "\n",
    "plt.figure(figsize=(18, 5))\n",
    "\n",
    "plt.subplot(1, 3, 1)\n",
    "plt.plot(history['loss'], label='Perda')\n",
    "plt.title('Perda ao longo das Épocas')\n",
    "plt.xlabel('Épocas')\n",
    "plt.ylabel('Perda')\n",
    "plt.legend()\n",
    "\n",
    "    # Plotando a acurácia\n",
    "plt.subplot(1, 3, 2)\n",
    "plt.plot(history['accuracy'], label='Acurácia')\n",
    "plt.title('Acurácia ao longo das Épocas')\n",
    "plt.xlabel('Épocas')\n",
    "plt.ylabel('Acurácia')\n",
    "plt.legend()\n",
    "\n",
    "    # Plotando o erro\n",
    "plt.subplot(1, 3, 3)\n",
    "plt.plot(history['error'], label='Erro', color='red')\n",
    "plt.title('Erro ao longo das Épocas')\n",
    "plt.xlabel('Épocas')\n",
    "plt.ylabel('Erro')\n",
    "plt.legend()\n",
    "\n",
    "plt.show()\n",
    "\n",
    "\n",
    "\n",
    "# Plotar as curvas de perda, acurácia e erro\n",
    "plot_history(history)"
   ]
  },
  {
   "cell_type": "code",
   "execution_count": null,
   "metadata": {
    "trusted": true
   },
   "outputs": [],
   "source": [
    "# Avaliação no conjunto de teste\n",
    "predictions_test = model(X_test_tensor, training=False)  # Previsão no conjunto de teste\n",
    "predicted_classes = np.argmax(predictions_test.numpy(), axis=1)  # Classes previstas\n",
    "\n",
    "# Cálculo da acurácia\n",
    "accuracy = accuracy_score(y_test, predicted_classes)\n",
    "print(f'Accuracy on test data: {accuracy:.2f}')\n",
    "\n",
    "# Matriz de Confusão e Relatório de Classificação\n",
    "print(\"\\nMatriz de Confusão:\")\n",
    "conf_matrix = confusion_matrix(y_test, predicted_classes)\n",
    "\n",
    "# Visualização da Matriz de Confusão\n",
    "plt.figure(figsize=(10, 7))\n",
    "sns.heatmap(conf_matrix, annot=True, fmt=\"d\", cmap=\"Blues\", \n",
    "            xticklabels=np.unique(y_train), yticklabels=np.unique(y_train))\n",
    "plt.title(\"Matriz de Confusão\")\n",
    "plt.xlabel(\"Predicted\")\n",
    "plt.ylabel(\"True\")\n",
    "plt.show()\n",
    "\n",
    "# Relatório de Classificação\n",
    "print(\"\\nRelatório de Classificação:\")\n",
    "print(classification_report(y_test, predicted_classes))"
   ]
  }
 ],
 "metadata": {
  "kaggle": {
   "accelerator": "none",
   "dataSources": [
    {
     "datasetId": 5865066,
     "isSourceIdPinned": false,
     "sourceId": 9611811,
     "sourceType": "datasetVersion"
    }
   ],
   "dockerImageVersionId": 30786,
   "isGpuEnabled": false,
   "isInternetEnabled": true,
   "language": "python",
   "sourceType": "notebook"
  },
  "kernelspec": {
   "display_name": "math",
   "language": "python",
   "name": "python3"
  },
  "language_info": {
   "codemirror_mode": {
    "name": "ipython",
    "version": 3
   },
   "file_extension": ".py",
   "mimetype": "text/x-python",
   "name": "python",
   "nbconvert_exporter": "python",
   "pygments_lexer": "ipython3",
   "version": "3.13.3"
  }
 },
 "nbformat": 4,
 "nbformat_minor": 4
}
