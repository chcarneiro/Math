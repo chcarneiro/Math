{
 "cells": [
  {
   "cell_type": "markdown",
   "metadata": {},
   "source": [
    "### Variáveis e operadores"
   ]
  },
  {
   "cell_type": "markdown",
   "metadata": {},
   "source": [
    "1 - Peça ao usuário uma frase e exiba quantas vogais existem nela."
   ]
  },
  {
   "cell_type": "code",
   "execution_count": null,
   "metadata": {},
   "outputs": [],
   "source": [
    "word = input(\"digite uma palavra = \")"
   ]
  },
  {
   "cell_type": "markdown",
   "metadata": {},
   "source": [
    "2 - Escreva um programa que verifique se um número digitado pelo usuário é par ou ímpar."
   ]
  },
  {
   "cell_type": "markdown",
   "metadata": {},
   "source": [
    "3 - Crie um programa que peça um número ao usuário e exiba a tabuada desse número de 1 a 10, em forma de tabela."
   ]
  },
  {
   "cell_type": "markdown",
   "metadata": {},
   "source": [
    "4 - Implemente um programa que solicite uma senha ao usuário e só permita a entrada se a senha for \"PythonRocks\". Permita até 3 tentativas antes de bloquear o acesso."
   ]
  },
  {
   "cell_type": "markdown",
   "metadata": {},
   "source": [
    "5 - Escreva uma função que receba uma lista de números e retorne a média aritmética dos valores."
   ]
  },
  {
   "cell_type": "markdown",
   "metadata": {},
   "source": [
    "6 - Desenvolva uma função que receba um nome completo e retorne apenas as iniciais em maiúsculo. Exemplo: \"joão silva souza\" -> \"J.S.S.\""
   ]
  },
  {
   "cell_type": "markdown",
   "metadata": {},
   "source": [
    "### Manipulação de Strings e Arquivos\n",
    "\n",
    "7 - Crie um programa que leia um arquivo texto chamado \"dados.txt\" e exiba seu conteúdo na tela."
   ]
  },
  {
   "cell_type": "markdown",
   "metadata": {},
   "source": [
    "8 - Implemente um jogo simples de \"Adivinhe o Número\", onde o computador escolhe um número aleatório entre 1 e 100, e o usuário deve adivinhar. O programa deve informar se o palpite é muito alto, muito baixo ou correto."
   ]
  },
  {
   "cell_type": "markdown",
   "metadata": {},
   "source": [
    "### Objetivo: Praticar conceitos fundamentais de Python, incluindo variáveis, estruturas de controle, listas, funções e manipulação de strings.\n",
    "\n",
    "9 - Escreva um programa que leia um arquivo \"nomes.txt\" contendo uma lista de nomes (um por linha), classifique-os em ordem alfabética e exiba os nomes organizados em formato de tabela."
   ]
  },
  {
   "cell_type": "markdown",
   "metadata": {},
   "source": [
    "10 - desenvolva um programa do jogo da forca"
   ]
  },
  {
   "cell_type": "code",
   "execution_count": null,
   "metadata": {},
   "outputs": [],
   "source": []
  }
 ],
 "metadata": {
  "kernelspec": {
   "display_name": "Python 3",
   "language": "python",
   "name": "python3"
  },
  "language_info": {
   "name": "python",
   "version": "3.10.7"
  }
 },
 "nbformat": 4,
 "nbformat_minor": 2
}
